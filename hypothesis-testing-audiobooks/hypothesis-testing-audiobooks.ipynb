{
 "cells": [
  {
   "cell_type": "markdown",
   "id": "_E41Wr5fqnFT",
   "metadata": {
    "id": "_E41Wr5fqnFT"
   },
   "source": [
    "# Проверка гипотезы об использовании сервиса Яндекс Книги в зависимости от города"
   ]
  },
  {
   "cell_type": "markdown",
   "id": "dce9c95b-0b90-403f-95e5-c19b63b6889d",
   "metadata": {},
   "source": [
    "Исполнитель: Никитина Александра  \n",
    "Email: nikilinalexa@gmail.com  \n",
    "Telegram: https://t.me/alexandrakilina"
   ]
  },
  {
   "cell_type": "markdown",
   "id": "4149134c",
   "metadata": {
    "id": "4149134c"
   },
   "source": [
    "## Цели и задачи проекта\n",
    "\n",
    "Изучить поведение пользователей сервиса Яндекс.Книги из Санкт-Петербурга и Москвы. Проверить гипотезу о том, что пользователи из Санкт-Петербурга проводят в среднем больше времени за чтением и прослушиванием книг в приложении, чем пользователи из Москвы.\n",
    "\n",
    "Нулевая гипотеза Н0: Среднее время активности пользователей в Санкт-Петербурге не больше, чем в Москве.\n",
    "\n",
    "Альтернативная гипотеза H1: Среднее время активности пользователей в Санкт-Петербурге больше, и это различие статистически значимо.\n",
    "\n",
    "**Содержимое проекта**:\n",
    "1. Загрузка данных и знакомство с ними\\\n",
    "   *Внимание! Часть информации о данных скрыта*\n",
    "3. Проверка гипотезы\n",
    "4. Аналитическая записка"
   ]
  },
  {
   "cell_type": "markdown",
   "id": "6f7d21d6",
   "metadata": {
    "id": "6f7d21d6"
   },
   "source": [
    "## Загрузка данных и знакомство с ними\n",
    "\n",
    "Данные были предварительно обработаны с использованием SQL, таблица состоит из следующих полей:\n",
    "* Название города (Санкт-Петербург или Москва)\n",
    "* Идентификатор пользователя\n",
    "* Суммарная длительность чтения / прослушивания в часах"
   ]
  },
  {
   "cell_type": "code",
   "execution_count": 1,
   "id": "05faf34b",
   "metadata": {
    "id": "05faf34b"
   },
   "outputs": [
    {
     "name": "stdout",
     "output_type": "stream",
     "text": [
      "Requirement already satisfied: jupyter-black in c:\\users\\user\\anaconda3\\envs\\practicum\\lib\\site-packages (0.4.0)\n",
      "Requirement already satisfied: black>=21 in c:\\users\\user\\anaconda3\\envs\\practicum\\lib\\site-packages (from black[jupyter]>=21->jupyter-black) (25.1.0)\n",
      "Requirement already satisfied: click>=8.0.0 in c:\\users\\user\\anaconda3\\envs\\practicum\\lib\\site-packages (from black>=21->black[jupyter]>=21->jupyter-black) (8.1.8)\n",
      "Requirement already satisfied: mypy-extensions>=0.4.3 in c:\\users\\user\\anaconda3\\envs\\practicum\\lib\\site-packages (from black>=21->black[jupyter]>=21->jupyter-black) (1.1.0)\n",
      "Requirement already satisfied: packaging>=22.0 in c:\\users\\user\\anaconda3\\envs\\practicum\\lib\\site-packages (from black>=21->black[jupyter]>=21->jupyter-black) (25.0)\n",
      "Requirement already satisfied: pathspec>=0.9.0 in c:\\users\\user\\anaconda3\\envs\\practicum\\lib\\site-packages (from black>=21->black[jupyter]>=21->jupyter-black) (0.12.1)\n",
      "Requirement already satisfied: platformdirs>=2 in c:\\users\\user\\anaconda3\\envs\\practicum\\lib\\site-packages (from black>=21->black[jupyter]>=21->jupyter-black) (4.3.8)\n",
      "Requirement already satisfied: tomli>=1.1.0 in c:\\users\\user\\anaconda3\\envs\\practicum\\lib\\site-packages (from black>=21->black[jupyter]>=21->jupyter-black) (2.2.1)\n",
      "Requirement already satisfied: typing-extensions>=4.0.1 in c:\\users\\user\\anaconda3\\envs\\practicum\\lib\\site-packages (from black>=21->black[jupyter]>=21->jupyter-black) (4.14.1)\n",
      "Requirement already satisfied: ipython>=7.8.0 in c:\\users\\user\\anaconda3\\envs\\practicum\\lib\\site-packages (from black[jupyter]>=21->jupyter-black) (8.18.1)\n",
      "Requirement already satisfied: tokenize-rt>=3.2.0 in c:\\users\\user\\anaconda3\\envs\\practicum\\lib\\site-packages (from black[jupyter]>=21->jupyter-black) (6.2.0)\n",
      "Requirement already satisfied: colorama in c:\\users\\user\\anaconda3\\envs\\practicum\\lib\\site-packages (from click>=8.0.0->black>=21->black[jupyter]>=21->jupyter-black) (0.4.6)\n",
      "Requirement already satisfied: decorator in c:\\users\\user\\anaconda3\\envs\\practicum\\lib\\site-packages (from ipython>=7.8.0->black[jupyter]>=21->jupyter-black) (5.2.1)\n",
      "Requirement already satisfied: jedi>=0.16 in c:\\users\\user\\anaconda3\\envs\\practicum\\lib\\site-packages (from ipython>=7.8.0->black[jupyter]>=21->jupyter-black) (0.19.2)\n",
      "Requirement already satisfied: matplotlib-inline in c:\\users\\user\\anaconda3\\envs\\practicum\\lib\\site-packages (from ipython>=7.8.0->black[jupyter]>=21->jupyter-black) (0.1.7)\n",
      "Requirement already satisfied: prompt-toolkit<3.1.0,>=3.0.41 in c:\\users\\user\\anaconda3\\envs\\practicum\\lib\\site-packages (from ipython>=7.8.0->black[jupyter]>=21->jupyter-black) (3.0.51)\n",
      "Requirement already satisfied: pygments>=2.4.0 in c:\\users\\user\\anaconda3\\envs\\practicum\\lib\\site-packages (from ipython>=7.8.0->black[jupyter]>=21->jupyter-black) (2.19.2)\n",
      "Requirement already satisfied: stack-data in c:\\users\\user\\anaconda3\\envs\\practicum\\lib\\site-packages (from ipython>=7.8.0->black[jupyter]>=21->jupyter-black) (0.6.3)\n",
      "Requirement already satisfied: traitlets>=5 in c:\\users\\user\\anaconda3\\envs\\practicum\\lib\\site-packages (from ipython>=7.8.0->black[jupyter]>=21->jupyter-black) (5.14.3)\n",
      "Requirement already satisfied: exceptiongroup in c:\\users\\user\\anaconda3\\envs\\practicum\\lib\\site-packages (from ipython>=7.8.0->black[jupyter]>=21->jupyter-black) (1.3.0)\n",
      "Requirement already satisfied: wcwidth in c:\\users\\user\\anaconda3\\envs\\practicum\\lib\\site-packages (from prompt-toolkit<3.1.0,>=3.0.41->ipython>=7.8.0->black[jupyter]>=21->jupyter-black) (0.2.13)\n",
      "Requirement already satisfied: parso<0.9.0,>=0.8.4 in c:\\users\\user\\anaconda3\\envs\\practicum\\lib\\site-packages (from jedi>=0.16->ipython>=7.8.0->black[jupyter]>=21->jupyter-black) (0.8.4)\n",
      "Requirement already satisfied: executing>=1.2.0 in c:\\users\\user\\anaconda3\\envs\\practicum\\lib\\site-packages (from stack-data->ipython>=7.8.0->black[jupyter]>=21->jupyter-black) (2.2.0)\n",
      "Requirement already satisfied: asttokens>=2.1.0 in c:\\users\\user\\anaconda3\\envs\\practicum\\lib\\site-packages (from stack-data->ipython>=7.8.0->black[jupyter]>=21->jupyter-black) (3.0.0)\n",
      "Requirement already satisfied: pure_eval in c:\\users\\user\\anaconda3\\envs\\practicum\\lib\\site-packages (from stack-data->ipython>=7.8.0->black[jupyter]>=21->jupyter-black) (0.2.3)\n"
     ]
    }
   ],
   "source": [
    "# импортируем библиотеку pandas\n",
    "import pandas as pd\n",
    "\n",
    "# установим библиотеку jupyter-black для автоматического форматирования кода\n",
    "!pip install jupyter-black\n",
    "\n",
    "# Импортируем библиотеку jupyter_black\n",
    "import jupyter_black\n",
    "\n",
    "# Импортируем библиотеки для выполнения статистических тестов\n",
    "from scipy import stats as st\n",
    "from scipy.stats import mannwhitneyu\n",
    "\n",
    "# Загружаем библиотеки для визуализации данных\n",
    "import matplotlib.pyplot as plt\n"
   ]
  },
  {
   "cell_type": "markdown",
   "id": "cc5adbf9-ce6b-433a-a63b-eed436d51099",
   "metadata": {},
   "source": [
    "### Загрузка данных и знакомство с ними"
   ]
  },
  {
   "cell_type": "code",
   "execution_count": 2,
   "id": "ce87c1db",
   "metadata": {
    "id": "ce87c1db"
   },
   "outputs": [],
   "source": [
    "# Сохраним данные из файла в датафрейм knigi_data\n",
    "knigi_data = pd.read_csv(r'путь к файлу скрыт.csv')"
   ]
  },
  {
   "cell_type": "code",
   "execution_count": 3,
   "id": "862aeeff",
   "metadata": {},
   "outputs": [],
   "source": [
    "# Выведем первые пять строк полученного датафрейма\n",
    "#display(knigi_data.head())"
   ]
  },
  {
   "cell_type": "code",
   "execution_count": 4,
   "id": "f68a7419",
   "metadata": {
    "id": "f68a7419"
   },
   "outputs": [],
   "source": [
    "# Выведем информацию о датафрейме\n",
    "#knigi_data.info()"
   ]
  },
  {
   "cell_type": "code",
   "execution_count": 5,
   "id": "05417ffb",
   "metadata": {
    "scrolled": true
   },
   "outputs": [],
   "source": [
    "# посчитаем количество пропусков в каждом столбце датафрейма knigi_data в абсолютных значениях\n",
    "#knigi_data.isna().sum()"
   ]
  },
  {
   "cell_type": "markdown",
   "id": "707d3957",
   "metadata": {},
   "source": [
    "*Промежуточный вывод*:  \n",
    "Данные загружены и изучены, пропуски в датафрейме `knigi_data` отсутствуют"
   ]
  },
  {
   "cell_type": "markdown",
   "id": "f1a42659-fbe5-4539-8a11-7cde420f3f7f",
   "metadata": {},
   "source": [
    "### Предобработка данных"
   ]
  },
  {
   "cell_type": "code",
   "execution_count": 6,
   "id": "a161d1fc",
   "metadata": {},
   "outputs": [],
   "source": [
    "# Изучим уникальные значения в категориальных данных поля city\n",
    "unique_values_knigi_data = knigi_data[\"city\"].unique()\n",
    "#display (unique_values_knigi_data)"
   ]
  },
  {
   "cell_type": "code",
   "execution_count": 7,
   "id": "f86fcd80",
   "metadata": {},
   "outputs": [
    {
     "name": "stdout",
     "output_type": "stream",
     "text": [
      "Количество дубликатов 488\n"
     ]
    }
   ],
   "source": [
    "# Изучим дубликаты по puid (id пользователя)\n",
    "# Найдем дубликаты\n",
    "duplicates_puid = knigi_data.duplicated(subset='puid', keep=False)\n",
    "\n",
    "# Создадим таблицу с дубликатами\n",
    "duplicates_puid_table = knigi_data[duplicates_puid]\n",
    "\n",
    "# Выведем на экран кол-во найденных дубликатов\n",
    "print(f'Количество дубликатов {len(duplicates_puid_table)}')"
   ]
  },
  {
   "cell_type": "code",
   "execution_count": 8,
   "id": "5dc248a1",
   "metadata": {},
   "outputs": [],
   "source": [
    "# Выведем на экран примеры срок с дубликатами\n",
    "#display(knigi_data[knigi_data.duplicated('puid', keep=False)].head())"
   ]
  },
  {
   "cell_type": "code",
   "execution_count": 9,
   "id": "58620603",
   "metadata": {},
   "outputs": [
    {
     "data": {
      "text/plain": [
       "'Количество дубликатов по сочетанию город - puid(id пользователя): 0'"
      ]
     },
     "metadata": {},
     "output_type": "display_data"
    }
   ],
   "source": [
    "# Найдем дубликаты по сочетанию puid (id пользователя) и city\n",
    "duplicates_knigi_data_puid_city = knigi_data.duplicated(\n",
    "    subset=['city', 'puid'], keep=False\n",
    ")\n",
    "duplicates_knigi_data_puid_city = duplicates_knigi_data_puid_city.sum()\n",
    "display(f'Количество дубликатов по сочетанию город - puid(id пользователя): {duplicates_knigi_data_puid_city}')"
   ]
  },
  {
   "cell_type": "code",
   "execution_count": 10,
   "id": "3014b0b0",
   "metadata": {
    "scrolled": true
   },
   "outputs": [
    {
     "data": {
      "text/plain": [
       "'Количество дубликатов по сочетанию puid (id пользователя) - количество часов: 0'"
      ]
     },
     "metadata": {},
     "output_type": "display_data"
    }
   ],
   "source": [
    "# Найдем дубликаты по сочетанию puid (id пользователя) и hours\n",
    "duplicates_knigi_data_puid_hours = knigi_data.duplicated(\n",
    "    subset=['puid', 'hours'], keep=False\n",
    ")\n",
    "duplicates_knigi_data_puid_hours = duplicates_knigi_data_puid_hours.sum()\n",
    "display(f'Количество дубликатов по сочетанию puid (id пользователя) - количество часов: {duplicates_knigi_data_puid_hours}')"
   ]
  },
  {
   "cell_type": "markdown",
   "id": "205a183c",
   "metadata": {},
   "source": [
    "*Промежуточный вывод:*\n",
    "- Выявлено 488 дубликата по `puid`, при этом сочетания `puid` - `city`, `puid` - `hours` yникальны\n",
    "\n",
    "- По-видимому какие-то пользователи попали и в выборку Санкт-Петербурга, и в выборку Москвы\n",
    "\n",
    "- Необходимо оставить только первую запись для каждого пользователя для того, чтобы они не вносили ошибку при проверке гипотезы и проведения статистического теста"
   ]
  },
  {
   "cell_type": "code",
   "execution_count": 11,
   "id": "7b59c799",
   "metadata": {},
   "outputs": [
    {
     "data": {
      "text/plain": [
       "'кол-во строк в исходном датафрейме: 8784'"
      ]
     },
     "metadata": {},
     "output_type": "display_data"
    },
    {
     "data": {
      "text/plain": [
       "'кол-во строк в датафрейме без дубликатов: 8540'"
      ]
     },
     "metadata": {},
     "output_type": "display_data"
    }
   ],
   "source": [
    "# Удалим дубликаты по puid, оставив первое значение\n",
    "knigi_filtered = knigi_data.drop_duplicates(subset='puid', keep='first')\n",
    "\n",
    "display(f'кол-во строк в исходном датафрейме: {len(knigi_data)}')\n",
    "display(f'кол-во строк в датафрейме без дубликатов: {len(knigi_filtered)}')"
   ]
  },
  {
   "cell_type": "code",
   "execution_count": 12,
   "id": "8d3b8e59",
   "metadata": {},
   "outputs": [
    {
     "data": {
      "text/plain": [
       "'Удалено 2.78% строк'"
      ]
     },
     "metadata": {},
     "output_type": "display_data"
    }
   ],
   "source": [
    "# Посчитаем процент удаленных строк\n",
    "percent_removed = 100* (len(knigi_data) - len(knigi_filtered)) / len(knigi_data)\n",
    "display (f'Удалено {round(percent_removed, 2)}% строк')"
   ]
  },
  {
   "cell_type": "markdown",
   "id": "b19a22d0",
   "metadata": {},
   "source": [
    "*Промежуточный вывод:* Теперь неявные дубликаты отсутствуют, сформирован датафрейм `knigi_filtered`, в котором оставлены только первые записи строк, в которых дублировался `puid`"
   ]
  },
  {
   "cell_type": "code",
   "execution_count": 13,
   "id": "a911963f",
   "metadata": {},
   "outputs": [
    {
     "data": {
      "text/plain": [
       "0"
      ]
     },
     "execution_count": 13,
     "metadata": {},
     "output_type": "execute_result"
    }
   ],
   "source": [
    "# Проверим наличие явных дубликатов\n",
    "knigi_filtered.duplicated().sum()"
   ]
  },
  {
   "cell_type": "markdown",
   "id": "d9b1a896",
   "metadata": {},
   "source": [
    "*Промежуточный вывод:* Явные дубликаты в датафрейме `knigi_filtered` отсутствуют"
   ]
  },
  {
   "cell_type": "markdown",
   "id": "78e7d56e",
   "metadata": {},
   "source": [
    "### Вывод\n",
    "\n",
    "Для дальнейшего статистического анализа сформирован датафрейм `knigi_filtered`:\n",
    "\n",
    "* Первоначально был создан датафрейм `knigi_data` из загруженного .csv файл с информацией о пользователях сервиса Яндекс.Книги из Санкт-Петербурга и Москвы.\n",
    "* Данные проверены  на наличие пропусков: пропуски отсутствуют.\n",
    "* Данные проверены на наличие явных и неявных дубликатов: было выявлено отсутствие явных дубликатов, но при этом присутствовали строки, у которых совпадали puid пользователей.\n",
    "* Дубликаты по puid пользователя удалены, оставлены только первые вхождения puid в датафрейм, сформирован отфильтрованный датафрейм `knigi_filtered`. Количество удаленных строк составило 2.78% строк от первоначального количества."
   ]
  },
  {
   "cell_type": "markdown",
   "id": "956e82e2",
   "metadata": {
    "id": "956e82e2"
   },
   "source": [
    "## Проверка гипотезы\n",
    "\n",
    "- Нулевая гипотеза H₀: Средняя активность пользователей в часах в двух группах (Москва и Санкт-Петербург) не различается.\n",
    "  \n",
    "- Альтернативная гипотеза H₁: Средняя активность пользователей в Санкт-Петербурге больше, и это различие статистически значимо."
   ]
  },
  {
   "cell_type": "markdown",
   "id": "0ae3ad84",
   "metadata": {},
   "source": [
    "Для проверки гипотезы проверим возможность использования **t-теста** (тест Стьюдента):\n",
    "* t-тест подходит для непрерывных метрик, какой и является средняя активность пользователей\n",
    "* Для t-теста выборочное среднее должно быть распределено нормально, наблюдения должны быть независимимы, а выборочные дисперсии равны"
   ]
  },
  {
   "cell_type": "code",
   "execution_count": 14,
   "id": "d7f026ec",
   "metadata": {},
   "outputs": [
    {
     "name": "stdout",
     "output_type": "stream",
     "text": [
      "Санкт-Петербург Shapiro-W = 0.271, p-value = 0\n",
      "Москва Shapiro-W = 0.293, p-value = 0\n"
     ]
    },
    {
     "name": "stderr",
     "output_type": "stream",
     "text": [
      "C:\\Users\\user\\anaconda3\\envs\\practicum\\lib\\site-packages\\scipy\\stats\\_morestats.py:1761: UserWarning: p-value may not be accurate for N > 5000.\n",
      "  warnings.warn(\"p-value may not be accurate for N > 5000.\")\n"
     ]
    }
   ],
   "source": [
    "# Выделим группы пользователей в разрезе города\n",
    "st_petersburg = knigi_filtered[knigi_filtered['city'] == 'Санкт-Петербург']['hours']\n",
    "moscow = knigi_filtered[knigi_filtered['city'] == 'Москва']['hours']\n",
    "\n",
    "# Выполним тест Шапиро-Улика для каждой группы пользователей\n",
    "shapiro_spb = st.shapiro(st_petersburg.dropna())\n",
    "shapiro_mos = st.shapiro(moscow .dropna())\n",
    "print(f'Санкт-Петербург Shapiro-W = {shapiro_spb.statistic:.3f}, p-value = {shapiro_spb.pvalue:.3g}')\n",
    "print(f'Москва Shapiro-W = {shapiro_mos.statistic:.3f}, p-value = {shapiro_mos.pvalue:.3g}')"
   ]
  },
  {
   "cell_type": "markdown",
   "id": "2cc9cf69",
   "metadata": {},
   "source": [
    "Результаты теста Шапиро показали, что W-статистика сильно отклонена от 1 для обоих городов, а p-value стремится к нулю. Это говорит о том, что распределение сильно отклонено от нормального. Проверим, есть ли в данных выбросы и построим диаграмму размаха\n"
   ]
  },
  {
   "cell_type": "code",
   "execution_count": 15,
   "id": "0bf67715",
   "metadata": {
    "scrolled": true
   },
   "outputs": [
    {
     "data": {
      "text/plain": [
       "count    2306.000000\n",
       "mean       11.264433\n",
       "std        39.831755\n",
       "min         0.000025\n",
       "25%         0.060173\n",
       "50%         0.875355\n",
       "75%         6.138424\n",
       "max       978.764775\n",
       "Name: hours, dtype: float64"
      ]
     },
     "metadata": {},
     "output_type": "display_data"
    },
    {
     "data": {
      "text/plain": [
       "count    6234.000000\n",
       "mean       10.881092\n",
       "std        36.851683\n",
       "min         0.000018\n",
       "25%         0.059903\n",
       "50%         0.924498\n",
       "75%         5.939972\n",
       "max       857.209373\n",
       "Name: hours, dtype: float64"
      ]
     },
     "metadata": {},
     "output_type": "display_data"
    }
   ],
   "source": [
    "# Выведем статистическую информацию для st_petersburg, moscow\n",
    "display(st_petersburg.describe())\n",
    "display(moscow.describe())"
   ]
  },
  {
   "cell_type": "code",
   "execution_count": 16,
   "id": "f003dd84",
   "metadata": {},
   "outputs": [
    {
     "data": {
      "text/plain": [
       "' Размах значений hours для Санкт-Петербурга: 979 часов'"
      ]
     },
     "metadata": {},
     "output_type": "display_data"
    },
    {
     "data": {
      "text/plain": [
       "' Размах значений hours для Москвы: 857 часов'"
      ]
     },
     "metadata": {},
     "output_type": "display_data"
    }
   ],
   "source": [
    "# Вычислим размах\n",
    "spb_hours_max = st_petersburg.max()\n",
    "spb_hours_min = st_petersburg.min()\n",
    "display(f' Размах значений hours для Санкт-Петербурга: {round(spb_hours_max - spb_hours_min)} часов')\n",
    "\n",
    "msc_hours_max = moscow.max()\n",
    "msc_hours_min = moscow.min()\n",
    "display(f' Размах значений hours для Москвы: {round(msc_hours_max - msc_hours_min)} часов')"
   ]
  },
  {
   "cell_type": "code",
   "execution_count": 17,
   "id": "613c33b8",
   "metadata": {},
   "outputs": [
    {
     "data": {
      "image/png": "[encoded data removed]",
      "text/plain": [
       "<Figure size 600x300 with 1 Axes>"
      ]
     },
     "metadata": {},
     "output_type": "display_data"
    },
    {
     "data": {
      "image/png": "[encoded data removed]",
      "text/plain": [
       "<Figure size 600x300 with 1 Axes>"
      ]
     },
     "metadata": {},
     "output_type": "display_data"
    }
   ],
   "source": [
    "# Строим диаграмму размаха методом plot.box()\n",
    "boxplot = st_petersburg.plot.box(vert = False,\n",
    "                               figsize = (6, 3))\n",
    "# Добавляем заголовок и метку оси Х\n",
    "boxplot.set_title('Распределение часов прослушивания контента для пользователей Санкт-Петербурга')\n",
    "boxplot.set_xlabel('hours')\n",
    "plt.show()\n",
    "\n",
    "# Строим диаграмму размаха методом plot.box()\n",
    "boxplot = moscow.plot.box(vert = False,\n",
    "                               figsize = (6, 3))\n",
    "# Добавляем заголовок и метку оси Х\n",
    "boxplot.set_title('Распределение часов прослушивания контента для пользователей Москвы')\n",
    "boxplot.set_xlabel('hours')\n",
    "plt.show()"
   ]
  },
  {
   "cell_type": "markdown",
   "id": "ba806f06",
   "metadata": {},
   "source": [
    "*Промежуточный вывод:*  \n",
    "И для пользоватлей из Санкт-Петербурга, и из Москвы наблюдается сильный разброс значений длительности в часах. Размах значений для СПб составил 979 часов, а для Москвы - 857 часов. Судя по диагамме размаха, для обоих наборов данных характерно наличие выбросов в большую сторону.\n",
    "\n",
    "Таким образом, для проверки гипотезы необходимо применить непараметрический **тест Манна-Уитни**, который не требует равенства дисперсий и нормальности распределения."
   ]
  },
  {
   "cell_type": "code",
   "execution_count": 18,
   "id": "67956690",
   "metadata": {
    "id": "67956690",
    "scrolled": true
   },
   "outputs": [
    {
     "name": "stdout",
     "output_type": "stream",
     "text": [
      "p-значение: 0.619\n",
      "Не получилось отвергнуть нулевую гипотезу\n"
     ]
    }
   ],
   "source": [
    "# Уровень статистической значимости\n",
    "alpha = 0.05\n",
    "\n",
    "# Применяем тест Манна-Уитни\n",
    "stat_mw, p_value_mw = mannwhitneyu(\n",
    "    st_petersburg, \n",
    "    moscow,\n",
    "    alternative='greater'\n",
    ")\n",
    "\n",
    "print('p-значение:', round(p_value_mw, 4))\n",
    "\n",
    "if p_value_mw < alpha:\n",
    "    print('Отвергаем нулевую гипотезу')\n",
    "else:\n",
    "    print('Не получилось отвергнуть нулевую гипотезу')"
   ]
  },
  {
   "cell_type": "markdown",
   "id": "003524ac",
   "metadata": {},
   "source": [
    "**Вывод:**\n",
    "* Была проверена возможность использования t-теста для проверки гипотез с использованием теста Шапиро\n",
    "* Тест Шапиро показал, что распределение сильно отклонено от нормального, t-тест Стьюдента неприменим. Разброс значений был показан с использованием диаграмм размаха. Кроме того, при выводе статистик видно, что и для Санкт-Петербурга, и для Москвы, среднее и медианное значение сильно отличаются, что также говорит об асимметрии в данных.\n",
    "* Для проверки гипотез использовался непараметрический тест Манна-Уитни, который показал, что нулевую гипотезу не получилось отпровергнуть, так как p-значение составляет 0.0831\n",
    "\n",
    "***Результат:*** Средняя активность пользователей в часах в двух группах (Москва и Санкт-Петербург) не различается."
   ]
  },
  {
   "cell_type": "markdown",
   "id": "6953e84c",
   "metadata": {
    "id": "6953e84c"
   },
   "source": [
    "## Аналитическая записка\n",
    "\n",
    "Был проведен анализ гипотезы о том, что пользователи из Санкт-Петербурга больше времени за чтением и прослушиванием книг в приложении в сравнении с пользователями из Москвы.\n",
    "\n",
    "- Данные были изучены и отфильтрованы дубликаты\n",
    "\n",
    "- Был выбран непараметрический тест Манна-Уитни о равенстве средних двух выборок. Причина выбора данного статистического теста: тест Шапиро показал, что распределение сильно отклонено от нормального, t-тест неприменим\n",
    "\n",
    "- Уровень статистической значимости alpha был выбран 0.05.\n",
    "\n",
    "- Значение p-value составило 0.0831, p-value больше alpha, нулевая гипотеза не отвергнута.\n",
    "\n",
    "- Нулевая гипотеза не отвергнута, так как p-value больше alpha, таким образом,  гипотеза о том, что пользователи из Санкт-Петербурга проводят в среднем больше времени за чтением и прослушиванием книг в приложении, чем пользователи из Москвы, не подтверждена\n",
    "\n",
    "- Возможные причины связаны с тем, что и в Санкт-Петербурге, и в Москве доля образованных людей идентична. Также для больших городов характерно схожее поведение пользователей из-за демографического распределения.\n",
    "\n"
   ]
  }
 ],
 "metadata": {
  "ExecuteTimeLog": [
   {
    "duration": 7023,
    "start_time": "2025-06-11T18:25:54.369Z"
   },
   {
    "duration": 105,
    "start_time": "2025-06-11T18:29:49.490Z"
   },
   {
    "duration": 59,
    "start_time": "2025-06-11T18:30:18.054Z"
   },
   {
    "duration": 41,
    "start_time": "2025-06-11T18:30:26.386Z"
   },
   {
    "duration": 12,
    "start_time": "2025-06-11T18:30:35.605Z"
   },
   {
    "duration": 151,
    "start_time": "2025-06-11T18:31:50.035Z"
   },
   {
    "duration": 82,
    "start_time": "2025-06-11T18:32:00.605Z"
   },
   {
    "duration": 8,
    "start_time": "2025-06-11T18:32:49.605Z"
   },
   {
    "duration": 7,
    "start_time": "2025-06-11T18:32:57.535Z"
   },
   {
    "duration": 6,
    "start_time": "2025-06-11T18:34:47.389Z"
   },
   {
    "duration": 84,
    "start_time": "2025-06-11T18:42:05.768Z"
   },
   {
    "duration": 5,
    "start_time": "2025-06-11T18:43:11.031Z"
   },
   {
    "duration": 5,
    "start_time": "2025-06-11T18:43:28.094Z"
   },
   {
    "duration": 3317,
    "start_time": "2025-06-11T18:44:53.778Z"
   },
   {
    "duration": 52,
    "start_time": "2025-06-11T18:46:28.786Z"
   },
   {
    "duration": 8,
    "start_time": "2025-06-11T18:48:20.798Z"
   },
   {
    "duration": 89,
    "start_time": "2025-06-11T18:48:37.879Z"
   },
   {
    "duration": 8,
    "start_time": "2025-06-11T18:48:51.785Z"
   },
   {
    "duration": 10,
    "start_time": "2025-06-11T18:48:57.581Z"
   },
   {
    "duration": 6630,
    "start_time": "2025-06-15T12:11:42.129Z"
   },
   {
    "duration": 61,
    "start_time": "2025-06-15T12:11:48.761Z"
   },
   {
    "duration": 33,
    "start_time": "2025-06-15T12:11:48.823Z"
   },
   {
    "duration": 8,
    "start_time": "2025-06-15T12:11:48.857Z"
   },
   {
    "duration": 13,
    "start_time": "2025-06-15T12:11:48.867Z"
   },
   {
    "duration": 1734,
    "start_time": "2025-06-15T12:12:00.027Z"
   },
   {
    "duration": 12,
    "start_time": "2025-06-15T12:20:54.367Z"
   },
   {
    "duration": 9,
    "start_time": "2025-06-15T12:22:44.477Z"
   },
   {
    "duration": 1585,
    "start_time": "2025-06-15T12:24:41.396Z"
   },
   {
    "duration": 12,
    "start_time": "2025-06-15T12:24:43.792Z"
   },
   {
    "duration": 9,
    "start_time": "2025-06-15T12:24:46.078Z"
   },
   {
    "duration": 89,
    "start_time": "2025-06-15T12:27:07.317Z"
   },
   {
    "duration": 1064,
    "start_time": "2025-06-15T12:27:16.532Z"
   },
   {
    "duration": 6,
    "start_time": "2025-06-15T12:28:01.718Z"
   },
   {
    "duration": 8,
    "start_time": "2025-06-15T12:28:16.592Z"
   },
   {
    "duration": 11,
    "start_time": "2025-06-15T12:28:23.684Z"
   },
   {
    "duration": 8,
    "start_time": "2025-06-15T12:32:29.923Z"
   },
   {
    "duration": 13,
    "start_time": "2025-06-15T12:33:53.335Z"
   },
   {
    "duration": 9,
    "start_time": "2025-06-15T12:36:20.360Z"
   },
   {
    "duration": 16,
    "start_time": "2025-06-15T12:37:29.505Z"
   },
   {
    "duration": 10,
    "start_time": "2025-06-15T12:37:37.520Z"
   },
   {
    "duration": 10,
    "start_time": "2025-06-15T12:38:09.424Z"
   },
   {
    "duration": 2914,
    "start_time": "2025-06-15T12:38:32.782Z"
   },
   {
    "duration": 119,
    "start_time": "2025-06-15T12:38:38.706Z"
   },
   {
    "duration": 7686,
    "start_time": "2025-06-15T17:06:59.392Z"
   },
   {
    "duration": 59,
    "start_time": "2025-06-15T17:07:07.081Z"
   },
   {
    "duration": 12,
    "start_time": "2025-06-15T17:07:07.141Z"
   },
   {
    "duration": 25,
    "start_time": "2025-06-15T17:07:07.154Z"
   },
   {
    "duration": 14,
    "start_time": "2025-06-15T17:07:07.181Z"
   },
   {
    "duration": 1574,
    "start_time": "2025-06-15T17:07:07.196Z"
   },
   {
    "duration": 11,
    "start_time": "2025-06-15T17:07:08.772Z"
   },
   {
    "duration": 24,
    "start_time": "2025-06-15T17:07:08.785Z"
   },
   {
    "duration": 11,
    "start_time": "2025-06-15T17:07:08.811Z"
   },
   {
    "duration": 11,
    "start_time": "2025-06-15T17:07:08.823Z"
   },
   {
    "duration": 129,
    "start_time": "2025-06-15T17:07:08.835Z"
   },
   {
    "duration": 10,
    "start_time": "2025-06-15T17:07:45.551Z"
   },
   {
    "duration": 8,
    "start_time": "2025-06-15T17:16:36.925Z"
   },
   {
    "duration": 12,
    "start_time": "2025-06-15T17:16:38.216Z"
   },
   {
    "duration": 12,
    "start_time": "2025-06-15T17:16:41.887Z"
   },
   {
    "duration": 122,
    "start_time": "2025-06-15T17:16:46.965Z"
   },
   {
    "duration": 10,
    "start_time": "2025-06-15T17:18:01.950Z"
   },
   {
    "duration": 10,
    "start_time": "2025-06-15T17:19:21.135Z"
   },
   {
    "duration": 10,
    "start_time": "2025-06-15T17:20:56.154Z"
   },
   {
    "duration": 10,
    "start_time": "2025-06-15T17:21:10.579Z"
   },
   {
    "duration": 6,
    "start_time": "2025-06-15T17:21:44.072Z"
   },
   {
    "duration": 11,
    "start_time": "2025-06-15T17:21:44.502Z"
   },
   {
    "duration": 10,
    "start_time": "2025-06-15T17:21:47.078Z"
   },
   {
    "duration": 17,
    "start_time": "2025-06-15T17:24:54.397Z"
   },
   {
    "duration": 14,
    "start_time": "2025-06-15T17:25:24.879Z"
   },
   {
    "duration": 11,
    "start_time": "2025-06-15T17:28:50.989Z"
   },
   {
    "duration": 128,
    "start_time": "2025-06-15T17:29:41.097Z"
   },
   {
    "duration": 9,
    "start_time": "2025-06-15T17:30:05.190Z"
   },
   {
    "duration": 11,
    "start_time": "2025-06-15T17:30:21.379Z"
   },
   {
    "duration": 51,
    "start_time": "2025-06-15T17:30:54.506Z"
   },
   {
    "duration": 80,
    "start_time": "2025-06-15T17:39:30.537Z"
   },
   {
    "duration": 58,
    "start_time": "2025-06-15T17:40:50.818Z"
   },
   {
    "duration": 1074,
    "start_time": "2025-06-15T17:43:50.846Z"
   },
   {
    "duration": 11,
    "start_time": "2025-06-15T17:43:56.947Z"
   },
   {
    "duration": 1074,
    "start_time": "2025-06-15T17:44:10.126Z"
   },
   {
    "duration": 60,
    "start_time": "2025-06-15T17:44:44.575Z"
   },
   {
    "duration": 87,
    "start_time": "2025-06-15T17:45:19.568Z"
   },
   {
    "duration": 82,
    "start_time": "2025-06-15T17:45:33.346Z"
   },
   {
    "duration": 1163,
    "start_time": "2025-06-15T17:45:59.408Z"
   },
   {
    "duration": 1175,
    "start_time": "2025-06-15T17:46:10.088Z"
   },
   {
    "duration": 109,
    "start_time": "2025-06-15T17:47:09.715Z"
   },
   {
    "duration": 107,
    "start_time": "2025-06-15T17:49:47.650Z"
   },
   {
    "duration": 106,
    "start_time": "2025-06-15T17:50:01.958Z"
   },
   {
    "duration": 112,
    "start_time": "2025-06-15T17:51:32.192Z"
   },
   {
    "duration": 295,
    "start_time": "2025-06-15T17:56:31.086Z"
   },
   {
    "duration": 313,
    "start_time": "2025-06-15T17:57:30.818Z"
   },
   {
    "duration": 335,
    "start_time": "2025-06-15T18:01:38.199Z"
   },
   {
    "duration": 373,
    "start_time": "2025-06-15T18:01:57.524Z"
   },
   {
    "duration": 360,
    "start_time": "2025-06-15T18:03:22.932Z"
   },
   {
    "duration": 2537,
    "start_time": "2025-06-15T18:13:41.421Z"
   },
   {
    "duration": 2591,
    "start_time": "2025-06-15T18:21:57.192Z"
   },
   {
    "duration": 15,
    "start_time": "2025-06-15T18:22:42.551Z"
   },
   {
    "duration": 1125,
    "start_time": "2025-06-15T18:24:24.403Z"
   },
   {
    "duration": 57,
    "start_time": "2025-06-15T18:36:15.809Z"
   },
   {
    "duration": 58,
    "start_time": "2025-06-15T18:36:41.773Z"
   },
   {
    "duration": 66,
    "start_time": "2025-06-15T18:36:59.827Z"
   },
   {
    "duration": 68,
    "start_time": "2025-06-15T18:37:14.177Z"
   },
   {
    "duration": 72,
    "start_time": "2025-06-15T18:37:47.588Z"
   },
   {
    "duration": 78,
    "start_time": "2025-06-15T18:38:04.505Z"
   },
   {
    "duration": 78,
    "start_time": "2025-06-15T18:39:18.209Z"
   },
   {
    "duration": 85,
    "start_time": "2025-06-15T19:01:41.873Z"
   },
   {
    "duration": 4,
    "start_time": "2025-06-15T19:03:24.741Z"
   },
   {
    "duration": 4,
    "start_time": "2025-06-15T19:03:34.537Z"
   },
   {
    "duration": 14,
    "start_time": "2025-06-15T19:08:10.529Z"
   },
   {
    "duration": 13,
    "start_time": "2025-06-15T19:08:45.482Z"
   },
   {
    "duration": 129,
    "start_time": "2025-06-15T19:09:00.725Z"
   },
   {
    "duration": 2586,
    "start_time": "2025-06-15T19:09:14.882Z"
   },
   {
    "duration": 16,
    "start_time": "2025-06-15T19:09:19.771Z"
   },
   {
    "duration": 14,
    "start_time": "2025-06-15T19:09:24.234Z"
   },
   {
    "duration": 2552,
    "start_time": "2025-06-15T19:09:30.587Z"
   },
   {
    "duration": 2527,
    "start_time": "2025-06-15T19:10:46.061Z"
   },
   {
    "duration": 20,
    "start_time": "2025-06-15T19:10:53.254Z"
   },
   {
    "duration": 9,
    "start_time": "2025-06-15T19:11:13.551Z"
   },
   {
    "duration": 2564,
    "start_time": "2025-06-15T19:22:00.243Z"
   },
   {
    "duration": 51,
    "start_time": "2025-06-15T19:22:02.809Z"
   },
   {
    "duration": 18,
    "start_time": "2025-06-15T19:22:02.862Z"
   },
   {
    "duration": 21,
    "start_time": "2025-06-15T19:22:02.882Z"
   },
   {
    "duration": 30,
    "start_time": "2025-06-15T19:22:02.904Z"
   },
   {
    "duration": 1603,
    "start_time": "2025-06-15T19:22:02.936Z"
   },
   {
    "duration": 12,
    "start_time": "2025-06-15T19:22:04.542Z"
   },
   {
    "duration": 102,
    "start_time": "2025-06-15T19:22:04.555Z"
   },
   {
    "duration": 19,
    "start_time": "2025-06-15T19:22:04.659Z"
   },
   {
    "duration": 126,
    "start_time": "2025-06-15T19:22:04.681Z"
   },
   {
    "duration": 8,
    "start_time": "2025-06-15T19:22:04.809Z"
   },
   {
    "duration": 48,
    "start_time": "2025-06-15T19:22:04.819Z"
   },
   {
    "duration": 70,
    "start_time": "2025-06-15T19:22:04.869Z"
   },
   {
    "duration": 81,
    "start_time": "2025-06-15T19:22:04.941Z"
   },
   {
    "duration": 76,
    "start_time": "2025-06-15T19:22:05.023Z"
   },
   {
    "duration": 253,
    "start_time": "2025-06-15T19:22:05.101Z"
   },
   {
    "duration": 13,
    "start_time": "2025-06-15T19:22:05.356Z"
   },
   {
    "duration": 30,
    "start_time": "2025-06-15T19:22:05.371Z"
   },
   {
    "duration": 6,
    "start_time": "2025-06-15T19:22:05.403Z"
   },
   {
    "duration": 28,
    "start_time": "2025-06-15T19:22:05.410Z"
   },
   {
    "duration": 36,
    "start_time": "2025-06-15T19:22:05.440Z"
   },
   {
    "duration": 20,
    "start_time": "2025-06-15T19:22:05.477Z"
   },
   {
    "duration": 122,
    "start_time": "2025-06-15T19:22:05.499Z"
   },
   {
    "duration": 382,
    "start_time": "2025-06-15T19:22:05.623Z"
   },
   {
    "duration": 15,
    "start_time": "2025-06-15T19:22:06.007Z"
   },
   {
    "duration": 124,
    "start_time": "2025-06-15T19:22:06.024Z"
   },
   {
    "duration": 9,
    "start_time": "2025-06-15T19:22:06.150Z"
   },
   {
    "duration": 7299,
    "start_time": "2025-06-16T07:23:28.296Z"
   },
   {
    "duration": 89,
    "start_time": "2025-06-16T07:23:35.597Z"
   },
   {
    "duration": 13,
    "start_time": "2025-06-16T07:23:35.688Z"
   },
   {
    "duration": 18,
    "start_time": "2025-06-16T07:23:35.703Z"
   },
   {
    "duration": 10,
    "start_time": "2025-06-16T07:23:35.724Z"
   },
   {
    "duration": 1754,
    "start_time": "2025-06-16T07:23:35.735Z"
   },
   {
    "duration": 13,
    "start_time": "2025-06-16T07:23:37.491Z"
   },
   {
    "duration": 31,
    "start_time": "2025-06-16T07:23:37.505Z"
   },
   {
    "duration": 13,
    "start_time": "2025-06-16T07:23:37.538Z"
   },
   {
    "duration": 125,
    "start_time": "2025-06-16T07:23:37.553Z"
   },
   {
    "duration": 9,
    "start_time": "2025-06-16T07:23:37.680Z"
   },
   {
    "duration": 12,
    "start_time": "2025-06-16T07:23:37.690Z"
   },
   {
    "duration": 75,
    "start_time": "2025-06-16T07:23:37.704Z"
   },
   {
    "duration": 63,
    "start_time": "2025-06-16T07:23:37.782Z"
   },
   {
    "duration": 31,
    "start_time": "2025-06-16T07:23:37.848Z"
   },
   {
    "duration": 148,
    "start_time": "2025-06-16T07:23:37.881Z"
   },
   {
    "duration": 13,
    "start_time": "2025-06-16T07:23:38.031Z"
   },
   {
    "duration": 39,
    "start_time": "2025-06-16T07:23:38.047Z"
   },
   {
    "duration": 6,
    "start_time": "2025-06-16T07:23:38.088Z"
   },
   {
    "duration": 12,
    "start_time": "2025-06-16T07:23:38.096Z"
   },
   {
    "duration": 19,
    "start_time": "2025-06-16T07:23:38.110Z"
   },
   {
    "duration": 42,
    "start_time": "2025-06-16T07:23:38.131Z"
   },
   {
    "duration": 248,
    "start_time": "2025-06-16T07:23:38.176Z"
   },
   {
    "duration": 0,
    "start_time": "2025-06-16T07:23:38.426Z"
   },
   {
    "duration": 0,
    "start_time": "2025-06-16T07:23:38.427Z"
   },
   {
    "duration": 0,
    "start_time": "2025-06-16T07:23:38.428Z"
   },
   {
    "duration": 0,
    "start_time": "2025-06-16T07:23:38.430Z"
   },
   {
    "duration": 467,
    "start_time": "2025-06-16T07:25:12.369Z"
   },
   {
    "duration": 14,
    "start_time": "2025-06-16T07:25:13.413Z"
   },
   {
    "duration": 81,
    "start_time": "2025-06-16T07:25:15.341Z"
   },
   {
    "duration": 10,
    "start_time": "2025-06-16T07:25:16.197Z"
   },
   {
    "duration": 4,
    "start_time": "2025-06-16T07:26:06.225Z"
   },
   {
    "duration": 4,
    "start_time": "2025-06-16T07:26:18.212Z"
   },
   {
    "duration": 5,
    "start_time": "2025-06-16T07:26:20.780Z"
   },
   {
    "duration": 7235,
    "start_time": "2025-06-16T18:20:52.065Z"
   },
   {
    "duration": 81,
    "start_time": "2025-06-16T18:20:59.303Z"
   },
   {
    "duration": 13,
    "start_time": "2025-06-16T18:20:59.385Z"
   },
   {
    "duration": 20,
    "start_time": "2025-06-16T18:20:59.400Z"
   },
   {
    "duration": 95,
    "start_time": "2025-06-16T18:23:57.025Z"
   },
   {
    "duration": 8,
    "start_time": "2025-06-16T18:24:04.026Z"
   },
   {
    "duration": 3,
    "start_time": "2025-06-16T18:25:31.802Z"
   },
   {
    "duration": 5,
    "start_time": "2025-06-16T18:25:45.666Z"
   },
   {
    "duration": 7,
    "start_time": "2025-06-16T18:27:44.959Z"
   },
   {
    "duration": 6,
    "start_time": "2025-06-16T18:27:52.284Z"
   },
   {
    "duration": 6,
    "start_time": "2025-06-16T18:29:31.274Z"
   },
   {
    "duration": 5,
    "start_time": "2025-06-16T18:29:40.613Z"
   },
   {
    "duration": 7,
    "start_time": "2025-06-16T18:29:42.094Z"
   },
   {
    "duration": 7,
    "start_time": "2025-06-16T18:29:42.677Z"
   },
   {
    "duration": 7,
    "start_time": "2025-06-16T18:29:44.474Z"
   },
   {
    "duration": 20,
    "start_time": "2025-06-16T19:36:56.311Z"
   },
   {
    "duration": 2816,
    "start_time": "2025-06-16T19:37:32.265Z"
   },
   {
    "duration": 14,
    "start_time": "2025-06-16T19:37:40.754Z"
   },
   {
    "duration": 14,
    "start_time": "2025-06-16T19:40:16.831Z"
   },
   {
    "duration": 12,
    "start_time": "2025-06-16T19:48:50.820Z"
   },
   {
    "duration": 12,
    "start_time": "2025-06-16T19:50:27.160Z"
   },
   {
    "duration": 2746,
    "start_time": "2025-06-16T20:04:27.463Z"
   },
   {
    "duration": 17,
    "start_time": "2025-06-16T20:06:17.956Z"
   },
   {
    "duration": 2734,
    "start_time": "2025-06-16T20:18:41.594Z"
   },
   {
    "duration": 130,
    "start_time": "2025-06-16T20:18:44.330Z"
   },
   {
    "duration": 10,
    "start_time": "2025-06-16T20:18:44.462Z"
   },
   {
    "duration": 15,
    "start_time": "2025-06-16T20:18:44.474Z"
   },
   {
    "duration": 6,
    "start_time": "2025-06-16T20:18:44.491Z"
   },
   {
    "duration": 8,
    "start_time": "2025-06-16T20:18:44.498Z"
   },
   {
    "duration": 38,
    "start_time": "2025-06-16T20:18:44.507Z"
   },
   {
    "duration": 29,
    "start_time": "2025-06-16T20:18:44.547Z"
   },
   {
    "duration": 8,
    "start_time": "2025-06-16T20:18:44.578Z"
   },
   {
    "duration": 10,
    "start_time": "2025-06-16T20:18:44.588Z"
   },
   {
    "duration": 12,
    "start_time": "2025-06-16T20:18:44.600Z"
   },
   {
    "duration": 1798,
    "start_time": "2025-06-16T20:19:10.641Z"
   },
   {
    "duration": 13,
    "start_time": "2025-06-16T20:19:22.094Z"
   },
   {
    "duration": 10,
    "start_time": "2025-06-16T20:19:22.931Z"
   },
   {
    "duration": 12,
    "start_time": "2025-06-16T20:19:24.707Z"
   },
   {
    "duration": 124,
    "start_time": "2025-06-16T20:19:25.995Z"
   },
   {
    "duration": 10,
    "start_time": "2025-06-16T20:19:28.423Z"
   },
   {
    "duration": 12,
    "start_time": "2025-06-16T20:19:29.255Z"
   },
   {
    "duration": 45,
    "start_time": "2025-06-16T20:19:31.959Z"
   },
   {
    "duration": 72,
    "start_time": "2025-06-16T20:19:39.380Z"
   },
   {
    "duration": 14,
    "start_time": "2025-06-16T20:20:36.243Z"
   },
   {
    "duration": 146,
    "start_time": "2025-06-16T20:20:36.963Z"
   },
   {
    "duration": 11,
    "start_time": "2025-06-16T20:20:39.872Z"
   },
   {
    "duration": 21,
    "start_time": "2025-06-16T20:20:41.444Z"
   },
   {
    "duration": 4,
    "start_time": "2025-06-16T20:20:45.092Z"
   },
   {
    "duration": 11,
    "start_time": "2025-06-16T20:20:50.580Z"
   },
   {
    "duration": 9,
    "start_time": "2025-06-16T20:20:51.909Z"
   },
   {
    "duration": 11,
    "start_time": "2025-06-16T20:20:52.821Z"
   },
   {
    "duration": 142,
    "start_time": "2025-06-16T20:20:58.668Z"
   },
   {
    "duration": 128,
    "start_time": "2025-06-16T20:21:43.848Z"
   },
   {
    "duration": 467,
    "start_time": "2025-06-16T20:23:04.591Z"
   },
   {
    "duration": 23,
    "start_time": "2025-06-16T20:23:06.230Z"
   },
   {
    "duration": 7556,
    "start_time": "2025-06-17T17:31:09.568Z"
   },
   {
    "duration": 53,
    "start_time": "2025-06-17T17:31:17.126Z"
   },
   {
    "duration": 12,
    "start_time": "2025-06-17T17:31:17.181Z"
   },
   {
    "duration": 12,
    "start_time": "2025-06-17T17:31:17.194Z"
   },
   {
    "duration": 8,
    "start_time": "2025-06-17T17:31:17.208Z"
   },
   {
    "duration": 5,
    "start_time": "2025-06-17T17:31:17.217Z"
   },
   {
    "duration": 11,
    "start_time": "2025-06-17T17:31:17.224Z"
   },
   {
    "duration": 24,
    "start_time": "2025-06-17T17:31:17.237Z"
   },
   {
    "duration": 139,
    "start_time": "2025-06-17T17:31:17.263Z"
   },
   {
    "duration": 11,
    "start_time": "2025-06-17T17:31:17.404Z"
   },
   {
    "duration": 19,
    "start_time": "2025-06-17T17:31:17.417Z"
   },
   {
    "duration": 1469,
    "start_time": "2025-06-17T17:31:17.437Z"
   },
   {
    "duration": 12,
    "start_time": "2025-06-17T17:31:18.907Z"
   },
   {
    "duration": 10,
    "start_time": "2025-06-17T17:31:18.922Z"
   },
   {
    "duration": 27,
    "start_time": "2025-06-17T17:31:18.934Z"
   },
   {
    "duration": 188,
    "start_time": "2025-06-17T17:31:18.963Z"
   },
   {
    "duration": 9,
    "start_time": "2025-06-17T17:31:19.153Z"
   },
   {
    "duration": 24,
    "start_time": "2025-06-17T17:31:19.163Z"
   },
   {
    "duration": 49,
    "start_time": "2025-06-17T17:31:19.189Z"
   },
   {
    "duration": 74,
    "start_time": "2025-06-17T17:31:19.239Z"
   },
   {
    "duration": 98,
    "start_time": "2025-06-17T17:31:19.315Z"
   },
   {
    "duration": 131,
    "start_time": "2025-06-17T17:31:19.415Z"
   },
   {
    "duration": 17,
    "start_time": "2025-06-17T17:31:19.548Z"
   },
   {
    "duration": 26,
    "start_time": "2025-06-17T17:31:19.567Z"
   },
   {
    "duration": 4,
    "start_time": "2025-06-17T17:31:19.595Z"
   },
   {
    "duration": 102,
    "start_time": "2025-06-17T17:31:19.601Z"
   },
   {
    "duration": 10,
    "start_time": "2025-06-17T17:31:19.704Z"
   },
   {
    "duration": 10,
    "start_time": "2025-06-17T17:31:19.716Z"
   },
   {
    "duration": 6,
    "start_time": "2025-06-17T17:33:10.331Z"
   },
   {
    "duration": 12,
    "start_time": "2025-06-17T17:33:32.967Z"
   },
   {
    "duration": 20,
    "start_time": "2025-06-17T17:36:17.264Z"
   },
   {
    "duration": 13,
    "start_time": "2025-06-17T17:43:15.625Z"
   },
   {
    "duration": 14,
    "start_time": "2025-06-17T17:43:31.420Z"
   },
   {
    "duration": 10,
    "start_time": "2025-06-17T17:43:57.800Z"
   },
   {
    "duration": 9,
    "start_time": "2025-06-17T17:44:00.466Z"
   },
   {
    "duration": 9,
    "start_time": "2025-06-17T17:44:03.044Z"
   },
   {
    "duration": 12,
    "start_time": "2025-06-17T17:44:03.875Z"
   },
   {
    "duration": 5,
    "start_time": "2025-06-17T17:53:22.644Z"
   },
   {
    "duration": 117,
    "start_time": "2025-06-17T18:02:03.589Z"
   },
   {
    "duration": 81,
    "start_time": "2025-06-17T18:04:23.194Z"
   },
   {
    "duration": 83,
    "start_time": "2025-06-17T18:05:09.113Z"
   },
   {
    "duration": 109,
    "start_time": "2025-06-17T18:05:34.501Z"
   },
   {
    "duration": 418,
    "start_time": "2025-06-17T18:06:14.636Z"
   },
   {
    "duration": 15,
    "start_time": "2025-06-17T18:06:29.086Z"
   },
   {
    "duration": 104,
    "start_time": "2025-06-17T18:37:35.953Z"
   },
   {
    "duration": 325,
    "start_time": "2025-06-17T18:37:53.920Z"
   },
   {
    "duration": 15,
    "start_time": "2025-06-17T18:37:55.915Z"
   },
   {
    "duration": 76,
    "start_time": "2025-06-17T18:37:58.777Z"
   },
   {
    "duration": 1063,
    "start_time": "2025-06-17T18:37:59.847Z"
   },
   {
    "duration": 11,
    "start_time": "2025-06-17T18:38:58.566Z"
   },
   {
    "duration": 12,
    "start_time": "2025-06-17T18:39:14.443Z"
   },
   {
    "duration": 6,
    "start_time": "2025-06-17T18:39:40.426Z"
   },
   {
    "duration": 5,
    "start_time": "2025-06-17T18:40:08.432Z"
   },
   {
    "duration": 95,
    "start_time": "2025-06-17T18:40:15.241Z"
   },
   {
    "duration": 114,
    "start_time": "2025-06-17T18:40:21.626Z"
   },
   {
    "duration": 378,
    "start_time": "2025-06-17T18:40:33.177Z"
   },
   {
    "duration": 16,
    "start_time": "2025-06-17T18:40:35.432Z"
   },
   {
    "duration": 74,
    "start_time": "2025-06-17T18:41:57.959Z"
   },
   {
    "duration": 5,
    "start_time": "2025-06-17T18:42:00.911Z"
   },
   {
    "duration": 6,
    "start_time": "2025-06-17T18:42:10.508Z"
   },
   {
    "duration": 6,
    "start_time": "2025-06-17T18:42:20.667Z"
   },
   {
    "duration": 10,
    "start_time": "2025-06-17T18:46:24.096Z"
   },
   {
    "duration": 10,
    "start_time": "2025-06-17T18:51:53.329Z"
   },
   {
    "duration": 10,
    "start_time": "2025-06-17T18:52:09.894Z"
   },
   {
    "duration": 10,
    "start_time": "2025-06-17T18:55:45.383Z"
   },
   {
    "duration": 11,
    "start_time": "2025-06-17T18:55:49.231Z"
   },
   {
    "duration": 10,
    "start_time": "2025-06-17T18:56:22.499Z"
   },
   {
    "duration": 90,
    "start_time": "2025-06-17T18:58:30.205Z"
   },
   {
    "duration": 3769,
    "start_time": "2025-06-17T18:58:42.068Z"
   },
   {
    "duration": 53,
    "start_time": "2025-06-17T18:58:45.839Z"
   },
   {
    "duration": 11,
    "start_time": "2025-06-17T18:58:45.893Z"
   },
   {
    "duration": 76,
    "start_time": "2025-06-17T18:58:45.906Z"
   },
   {
    "duration": 7,
    "start_time": "2025-06-17T18:58:45.984Z"
   },
   {
    "duration": 4,
    "start_time": "2025-06-17T18:58:45.992Z"
   },
   {
    "duration": 6,
    "start_time": "2025-06-17T18:58:45.998Z"
   },
   {
    "duration": 7,
    "start_time": "2025-06-17T18:58:46.006Z"
   },
   {
    "duration": 6,
    "start_time": "2025-06-17T18:58:46.015Z"
   },
   {
    "duration": 38,
    "start_time": "2025-06-17T18:58:46.022Z"
   },
   {
    "duration": 12,
    "start_time": "2025-06-17T18:58:46.062Z"
   },
   {
    "duration": 1574,
    "start_time": "2025-06-17T18:58:46.075Z"
   },
   {
    "duration": 17,
    "start_time": "2025-06-17T18:58:47.650Z"
   },
   {
    "duration": 75,
    "start_time": "2025-06-17T18:58:47.670Z"
   },
   {
    "duration": 115,
    "start_time": "2025-06-17T18:58:47.746Z"
   },
   {
    "duration": 118,
    "start_time": "2025-06-17T18:58:47.863Z"
   },
   {
    "duration": 9,
    "start_time": "2025-06-17T18:58:47.983Z"
   },
   {
    "duration": 18,
    "start_time": "2025-06-17T18:58:47.994Z"
   },
   {
    "duration": 57,
    "start_time": "2025-06-17T18:58:48.014Z"
   },
   {
    "duration": 58,
    "start_time": "2025-06-17T18:58:48.073Z"
   },
   {
    "duration": 32,
    "start_time": "2025-06-17T18:58:48.133Z"
   },
   {
    "duration": 132,
    "start_time": "2025-06-17T18:58:48.167Z"
   },
   {
    "duration": 10,
    "start_time": "2025-06-17T18:58:48.301Z"
   },
   {
    "duration": 32,
    "start_time": "2025-06-17T18:58:48.312Z"
   },
   {
    "duration": 15,
    "start_time": "2025-06-17T18:58:48.346Z"
   },
   {
    "duration": 18,
    "start_time": "2025-06-17T18:58:48.362Z"
   },
   {
    "duration": 9,
    "start_time": "2025-06-17T18:58:48.382Z"
   },
   {
    "duration": 22,
    "start_time": "2025-06-17T18:58:48.392Z"
   },
   {
    "duration": 9,
    "start_time": "2025-06-17T18:58:48.416Z"
   },
   {
    "duration": 95,
    "start_time": "2025-06-17T18:58:48.427Z"
   },
   {
    "duration": 120,
    "start_time": "2025-06-17T18:58:48.524Z"
   },
   {
    "duration": 425,
    "start_time": "2025-06-17T18:58:48.646Z"
   },
   {
    "duration": 14,
    "start_time": "2025-06-17T18:58:49.073Z"
   },
   {
    "duration": 94,
    "start_time": "2025-06-17T18:58:49.088Z"
   },
   {
    "duration": 8,
    "start_time": "2025-06-17T18:58:49.184Z"
   },
   {
    "duration": 128,
    "start_time": "2025-06-17T18:58:49.194Z"
   },
   {
    "duration": 0,
    "start_time": "2025-06-17T18:58:49.324Z"
   },
   {
    "duration": 9,
    "start_time": "2025-06-17T19:00:38.009Z"
   },
   {
    "duration": 10,
    "start_time": "2025-06-17T19:02:55.127Z"
   },
   {
    "duration": 11,
    "start_time": "2025-06-17T19:03:09.456Z"
   },
   {
    "duration": 11,
    "start_time": "2025-06-17T19:03:13.786Z"
   },
   {
    "duration": 51,
    "start_time": "2025-06-17T19:46:08.216Z"
   },
   {
    "duration": 6,
    "start_time": "2025-06-17T19:46:11.232Z"
   },
   {
    "duration": 6819,
    "start_time": "2025-06-17T19:46:16.949Z"
   },
   {
    "duration": 94,
    "start_time": "2025-06-17T19:46:23.770Z"
   },
   {
    "duration": 85,
    "start_time": "2025-06-17T19:46:23.865Z"
   },
   {
    "duration": 11,
    "start_time": "2025-06-17T19:46:23.952Z"
   },
   {
    "duration": 6,
    "start_time": "2025-06-17T19:46:23.965Z"
   },
   {
    "duration": 5,
    "start_time": "2025-06-17T19:46:23.973Z"
   },
   {
    "duration": 9,
    "start_time": "2025-06-17T19:46:23.980Z"
   },
   {
    "duration": 6,
    "start_time": "2025-06-17T19:46:23.991Z"
   },
   {
    "duration": 5,
    "start_time": "2025-06-17T19:46:23.999Z"
   },
   {
    "duration": 9,
    "start_time": "2025-06-17T19:46:24.007Z"
   },
   {
    "duration": 11,
    "start_time": "2025-06-17T19:46:24.018Z"
   },
   {
    "duration": 1955,
    "start_time": "2025-06-17T19:46:24.030Z"
   },
   {
    "duration": 12,
    "start_time": "2025-06-17T19:46:25.987Z"
   },
   {
    "duration": 21,
    "start_time": "2025-06-17T19:46:26.001Z"
   },
   {
    "duration": 26,
    "start_time": "2025-06-17T19:46:26.023Z"
   },
   {
    "duration": 118,
    "start_time": "2025-06-17T19:46:26.050Z"
   },
   {
    "duration": 9,
    "start_time": "2025-06-17T19:46:26.169Z"
   },
   {
    "duration": 41,
    "start_time": "2025-06-17T19:46:26.179Z"
   },
   {
    "duration": 51,
    "start_time": "2025-06-17T19:46:26.222Z"
   },
   {
    "duration": 66,
    "start_time": "2025-06-17T19:46:26.275Z"
   },
   {
    "duration": 13,
    "start_time": "2025-06-17T19:46:26.343Z"
   },
   {
    "duration": 137,
    "start_time": "2025-06-17T19:46:26.377Z"
   },
   {
    "duration": 13,
    "start_time": "2025-06-17T19:46:26.516Z"
   },
   {
    "duration": 83,
    "start_time": "2025-06-17T19:46:26.531Z"
   },
   {
    "duration": 5,
    "start_time": "2025-06-17T19:46:26.616Z"
   },
   {
    "duration": 20,
    "start_time": "2025-06-17T19:46:26.623Z"
   },
   {
    "duration": 14,
    "start_time": "2025-06-17T19:46:26.646Z"
   },
   {
    "duration": 19,
    "start_time": "2025-06-17T19:46:26.665Z"
   },
   {
    "duration": 6,
    "start_time": "2025-06-17T19:46:26.686Z"
   },
   {
    "duration": 108,
    "start_time": "2025-06-17T19:46:26.694Z"
   },
   {
    "duration": 129,
    "start_time": "2025-06-17T19:46:26.804Z"
   },
   {
    "duration": 493,
    "start_time": "2025-06-17T19:46:26.935Z"
   },
   {
    "duration": 18,
    "start_time": "2025-06-17T19:46:27.429Z"
   },
   {
    "duration": 91,
    "start_time": "2025-06-17T19:46:27.448Z"
   },
   {
    "duration": 6,
    "start_time": "2025-06-17T19:46:27.541Z"
   },
   {
    "duration": 39,
    "start_time": "2025-06-17T19:46:27.552Z"
   },
   {
    "duration": 13,
    "start_time": "2025-06-17T19:46:27.594Z"
   },
   {
    "duration": 10,
    "start_time": "2025-06-17T19:46:35.034Z"
   },
   {
    "duration": 10,
    "start_time": "2025-06-17T19:46:36.688Z"
   },
   {
    "duration": 5,
    "start_time": "2025-06-17T19:46:42.816Z"
   },
   {
    "duration": 5,
    "start_time": "2025-06-17T19:46:45.472Z"
   },
   {
    "duration": 4,
    "start_time": "2025-06-17T19:46:47.935Z"
   },
   {
    "duration": 5,
    "start_time": "2025-06-17T19:46:50.263Z"
   },
   {
    "duration": 7519,
    "start_time": "2025-06-18T15:10:30.626Z"
   },
   {
    "duration": 155,
    "start_time": "2025-06-18T15:10:38.147Z"
   },
   {
    "duration": 12,
    "start_time": "2025-06-18T15:10:38.304Z"
   },
   {
    "duration": 45,
    "start_time": "2025-06-18T15:10:38.318Z"
   },
   {
    "duration": 7,
    "start_time": "2025-06-18T15:10:38.365Z"
   },
   {
    "duration": 32,
    "start_time": "2025-06-18T15:10:38.374Z"
   },
   {
    "duration": 11,
    "start_time": "2025-06-18T15:10:38.408Z"
   },
   {
    "duration": 7,
    "start_time": "2025-06-18T15:10:38.421Z"
   },
   {
    "duration": 7,
    "start_time": "2025-06-18T15:13:03.373Z"
   },
   {
    "duration": 6,
    "start_time": "2025-06-18T15:13:27.960Z"
   },
   {
    "duration": 106,
    "start_time": "2025-06-18T15:14:07.803Z"
   },
   {
    "duration": 8,
    "start_time": "2025-06-18T15:14:40.083Z"
   },
   {
    "duration": 21,
    "start_time": "2025-06-18T15:17:55.187Z"
   },
   {
    "duration": 11,
    "start_time": "2025-06-18T15:22:54.816Z"
   },
   {
    "duration": 16,
    "start_time": "2025-06-18T15:23:14.697Z"
   },
   {
    "duration": 6,
    "start_time": "2025-06-18T15:23:21.546Z"
   },
   {
    "duration": 10,
    "start_time": "2025-06-18T15:24:34.845Z"
   },
   {
    "duration": 23,
    "start_time": "2025-06-18T15:25:10.541Z"
   },
   {
    "duration": 365,
    "start_time": "2025-06-18T15:25:44.931Z"
   },
   {
    "duration": 17,
    "start_time": "2025-06-18T15:25:57.001Z"
   },
   {
    "duration": 6,
    "start_time": "2025-06-18T15:30:13.275Z"
   },
   {
    "duration": 8,
    "start_time": "2025-06-18T15:31:10.497Z"
   },
   {
    "duration": 10,
    "start_time": "2025-06-18T15:31:24.707Z"
   },
   {
    "duration": 7,
    "start_time": "2025-06-18T15:46:43.113Z"
   },
   {
    "duration": 6,
    "start_time": "2025-06-18T15:47:01.523Z"
   },
   {
    "duration": 9,
    "start_time": "2025-06-18T15:47:17.025Z"
   },
   {
    "duration": 7,
    "start_time": "2025-06-18T15:47:57.745Z"
   },
   {
    "duration": 7,
    "start_time": "2025-06-18T15:48:10.195Z"
   },
   {
    "duration": 12,
    "start_time": "2025-06-18T15:51:36.767Z"
   },
   {
    "duration": 12,
    "start_time": "2025-06-18T15:51:45.624Z"
   },
   {
    "duration": 1640,
    "start_time": "2025-06-18T15:52:05.977Z"
   },
   {
    "duration": 27,
    "start_time": "2025-06-18T15:52:07.619Z"
   },
   {
    "duration": 38,
    "start_time": "2025-06-18T15:52:07.648Z"
   },
   {
    "duration": 12,
    "start_time": "2025-06-18T15:52:07.689Z"
   },
   {
    "duration": 118,
    "start_time": "2025-06-18T15:52:07.703Z"
   },
   {
    "duration": 86,
    "start_time": "2025-06-18T15:52:07.823Z"
   },
   {
    "duration": 15,
    "start_time": "2025-06-18T15:52:07.911Z"
   },
   {
    "duration": 53,
    "start_time": "2025-06-18T15:52:07.928Z"
   },
   {
    "duration": 79,
    "start_time": "2025-06-18T15:52:07.983Z"
   },
   {
    "duration": 12,
    "start_time": "2025-06-18T15:52:09.335Z"
   },
   {
    "duration": 136,
    "start_time": "2025-06-18T15:52:09.525Z"
   },
   {
    "duration": 11,
    "start_time": "2025-06-18T15:52:11.067Z"
   },
   {
    "duration": 17,
    "start_time": "2025-06-18T15:52:11.884Z"
   },
   {
    "duration": 5,
    "start_time": "2025-06-18T15:52:14.535Z"
   },
   {
    "duration": 11,
    "start_time": "2025-06-18T15:52:16.035Z"
   },
   {
    "duration": 10,
    "start_time": "2025-06-18T15:52:18.375Z"
   },
   {
    "duration": 15,
    "start_time": "2025-06-18T15:52:19.307Z"
   },
   {
    "duration": 6,
    "start_time": "2025-06-18T15:52:21.005Z"
   },
   {
    "duration": 87,
    "start_time": "2025-06-18T15:52:23.154Z"
   },
   {
    "duration": 147,
    "start_time": "2025-06-18T15:52:25.937Z"
   },
   {
    "duration": 459,
    "start_time": "2025-06-18T15:52:28.243Z"
   },
   {
    "duration": 15,
    "start_time": "2025-06-18T15:52:29.837Z"
   },
   {
    "duration": 93,
    "start_time": "2025-06-18T15:52:31.527Z"
   },
   {
    "duration": 7,
    "start_time": "2025-06-18T15:52:32.286Z"
   },
   {
    "duration": 11,
    "start_time": "2025-06-18T15:52:40.577Z"
   },
   {
    "duration": 17,
    "start_time": "2025-06-18T15:55:07.513Z"
   },
   {
    "duration": 55,
    "start_time": "2025-06-18T18:41:47.310Z"
   },
   {
    "duration": 7742,
    "start_time": "2025-06-18T18:41:57.244Z"
   },
   {
    "duration": 56,
    "start_time": "2025-06-18T18:42:04.988Z"
   },
   {
    "duration": 13,
    "start_time": "2025-06-18T18:42:05.046Z"
   },
   {
    "duration": 90,
    "start_time": "2025-06-18T18:42:05.060Z"
   },
   {
    "duration": 6,
    "start_time": "2025-06-18T18:42:05.152Z"
   },
   {
    "duration": 20,
    "start_time": "2025-06-18T18:42:05.160Z"
   },
   {
    "duration": 10,
    "start_time": "2025-06-18T18:42:05.181Z"
   },
   {
    "duration": 7,
    "start_time": "2025-06-18T18:42:11.758Z"
   },
   {
    "duration": 12,
    "start_time": "2025-06-18T18:42:12.612Z"
   },
   {
    "duration": 9,
    "start_time": "2025-06-18T18:42:24.593Z"
   },
   {
    "duration": 8,
    "start_time": "2025-06-18T18:42:28.953Z"
   },
   {
    "duration": 9,
    "start_time": "2025-06-18T18:43:23.714Z"
   },
   {
    "duration": 7,
    "start_time": "2025-06-18T18:43:32.986Z"
   },
   {
    "duration": 3,
    "start_time": "2025-06-18T18:45:23.624Z"
   },
   {
    "duration": 5,
    "start_time": "2025-06-18T18:45:37.310Z"
   },
   {
    "duration": 81,
    "start_time": "2025-06-18T18:45:49.136Z"
   },
   {
    "duration": 5,
    "start_time": "2025-06-18T18:45:57.379Z"
   },
   {
    "duration": 11,
    "start_time": "2025-06-18T18:49:41.480Z"
   },
   {
    "duration": 8,
    "start_time": "2025-06-18T18:59:34.387Z"
   },
   {
    "duration": 15,
    "start_time": "2025-06-18T19:00:27.491Z"
   },
   {
    "duration": 2929,
    "start_time": "2025-06-18T19:02:10.484Z"
   },
   {
    "duration": 45,
    "start_time": "2025-06-18T19:03:30.552Z"
   },
   {
    "duration": 78,
    "start_time": "2025-06-18T19:07:10.581Z"
   },
   {
    "duration": 12,
    "start_time": "2025-06-18T19:07:31.102Z"
   },
   {
    "duration": 195,
    "start_time": "2025-06-18T19:09:00.960Z"
   },
   {
    "duration": 149,
    "start_time": "2025-06-18T19:09:33.575Z"
   },
   {
    "duration": 297,
    "start_time": "2025-06-18T19:09:55.419Z"
   },
   {
    "duration": 296,
    "start_time": "2025-06-18T19:10:07.136Z"
   },
   {
    "duration": 4,
    "start_time": "2025-06-18T19:11:09.498Z"
   },
   {
    "duration": 5,
    "start_time": "2025-06-18T19:13:48.221Z"
   },
   {
    "duration": 6,
    "start_time": "2025-06-18T19:14:10.471Z"
   },
   {
    "duration": 9,
    "start_time": "2025-06-18T19:15:22.366Z"
   },
   {
    "duration": 8,
    "start_time": "2025-06-18T19:15:41.987Z"
   },
   {
    "duration": 387,
    "start_time": "2025-06-18T19:15:46.227Z"
   },
   {
    "duration": 16,
    "start_time": "2025-06-18T19:17:39.280Z"
   },
   {
    "duration": 87,
    "start_time": "2025-06-18T19:19:09.437Z"
   },
   {
    "duration": 88,
    "start_time": "2025-06-18T19:19:16.096Z"
   },
   {
    "duration": 1913,
    "start_time": "2025-06-18T19:20:18.843Z"
   },
   {
    "duration": 13,
    "start_time": "2025-06-18T19:20:20.760Z"
   },
   {
    "duration": 14,
    "start_time": "2025-06-18T19:20:20.775Z"
   },
   {
    "duration": 27,
    "start_time": "2025-06-18T19:20:20.791Z"
   },
   {
    "duration": 128,
    "start_time": "2025-06-18T19:20:20.820Z"
   },
   {
    "duration": 10,
    "start_time": "2025-06-18T19:20:23.617Z"
   },
   {
    "duration": 13,
    "start_time": "2025-06-18T19:20:23.893Z"
   },
   {
    "duration": 57,
    "start_time": "2025-06-18T19:20:24.072Z"
   },
   {
    "duration": 70,
    "start_time": "2025-06-18T19:20:24.275Z"
   },
   {
    "duration": 13,
    "start_time": "2025-06-18T19:20:27.015Z"
   },
   {
    "duration": 129,
    "start_time": "2025-06-18T19:20:27.369Z"
   },
   {
    "duration": 13,
    "start_time": "2025-06-18T19:20:27.760Z"
   },
   {
    "duration": 18,
    "start_time": "2025-06-18T19:20:27.946Z"
   },
   {
    "duration": 6,
    "start_time": "2025-06-18T19:20:28.339Z"
   },
   {
    "duration": 12,
    "start_time": "2025-06-18T19:20:28.706Z"
   },
   {
    "duration": 12,
    "start_time": "2025-06-18T19:20:29.071Z"
   },
   {
    "duration": 14,
    "start_time": "2025-06-18T19:20:29.240Z"
   },
   {
    "duration": 5,
    "start_time": "2025-06-18T19:20:31.160Z"
   },
   {
    "duration": 96,
    "start_time": "2025-06-18T19:20:31.717Z"
   },
   {
    "duration": 134,
    "start_time": "2025-06-18T19:20:32.287Z"
   },
   {
    "duration": 459,
    "start_time": "2025-06-18T19:20:34.585Z"
   },
   {
    "duration": 23,
    "start_time": "2025-06-18T19:20:35.046Z"
   },
   {
    "duration": 85,
    "start_time": "2025-06-18T19:20:45.929Z"
   },
   {
    "duration": 6,
    "start_time": "2025-06-18T19:20:46.390Z"
   },
   {
    "duration": 20,
    "start_time": "2025-06-18T19:21:22.733Z"
   },
   {
    "duration": 14,
    "start_time": "2025-06-18T19:25:27.185Z"
   },
   {
    "duration": 10,
    "start_time": "2025-06-18T19:26:39.869Z"
   },
   {
    "duration": 10,
    "start_time": "2025-06-18T19:27:37.396Z"
   },
   {
    "duration": 12,
    "start_time": "2025-06-18T19:28:12.371Z"
   },
   {
    "duration": 11,
    "start_time": "2025-06-18T19:28:19.118Z"
   },
   {
    "duration": 86,
    "start_time": "2025-06-18T19:29:44.597Z"
   },
   {
    "duration": 2777,
    "start_time": "2025-06-18T19:30:16.997Z"
   },
   {
    "duration": 493,
    "start_time": "2025-06-18T19:30:19.776Z"
   },
   {
    "duration": 10,
    "start_time": "2025-06-18T19:30:20.271Z"
   },
   {
    "duration": 13,
    "start_time": "2025-06-18T19:30:20.283Z"
   },
   {
    "duration": 7,
    "start_time": "2025-06-18T19:30:20.298Z"
   },
   {
    "duration": 5,
    "start_time": "2025-06-18T19:30:20.307Z"
   },
   {
    "duration": 11,
    "start_time": "2025-06-18T19:30:20.314Z"
   },
   {
    "duration": 11,
    "start_time": "2025-06-18T19:30:20.360Z"
   },
   {
    "duration": 7,
    "start_time": "2025-06-18T19:30:20.373Z"
   },
   {
    "duration": 49,
    "start_time": "2025-06-18T19:30:20.381Z"
   },
   {
    "duration": 44,
    "start_time": "2025-06-18T19:30:20.432Z"
   },
   {
    "duration": 4,
    "start_time": "2025-06-18T19:30:20.478Z"
   },
   {
    "duration": 16,
    "start_time": "2025-06-18T19:30:20.484Z"
   },
   {
    "duration": 11,
    "start_time": "2025-06-18T19:30:20.503Z"
   },
   {
    "duration": 13,
    "start_time": "2025-06-18T19:30:20.515Z"
   },
   {
    "duration": 34,
    "start_time": "2025-06-18T19:30:20.530Z"
   },
   {
    "duration": 373,
    "start_time": "2025-06-18T19:30:20.566Z"
   },
   {
    "duration": 22,
    "start_time": "2025-06-18T19:30:20.941Z"
   },
   {
    "duration": 1532,
    "start_time": "2025-06-18T19:30:20.965Z"
   },
   {
    "duration": 13,
    "start_time": "2025-06-18T19:30:22.499Z"
   },
   {
    "duration": 10,
    "start_time": "2025-06-18T19:30:22.514Z"
   },
   {
    "duration": 36,
    "start_time": "2025-06-18T19:30:22.526Z"
   },
   {
    "duration": 145,
    "start_time": "2025-06-18T19:30:22.564Z"
   },
   {
    "duration": 9,
    "start_time": "2025-06-18T19:30:22.711Z"
   },
   {
    "duration": 18,
    "start_time": "2025-06-18T19:30:22.722Z"
   },
   {
    "duration": 63,
    "start_time": "2025-06-18T19:30:22.742Z"
   },
   {
    "duration": 79,
    "start_time": "2025-06-18T19:30:22.807Z"
   },
   {
    "duration": 74,
    "start_time": "2025-06-18T19:30:22.888Z"
   },
   {
    "duration": 137,
    "start_time": "2025-06-18T19:30:22.964Z"
   },
   {
    "duration": 11,
    "start_time": "2025-06-18T19:30:23.104Z"
   },
   {
    "duration": 16,
    "start_time": "2025-06-18T19:30:23.117Z"
   },
   {
    "duration": 30,
    "start_time": "2025-06-18T19:30:23.134Z"
   },
   {
    "duration": 12,
    "start_time": "2025-06-18T19:30:23.166Z"
   },
   {
    "duration": 10,
    "start_time": "2025-06-18T19:30:23.179Z"
   },
   {
    "duration": 13,
    "start_time": "2025-06-18T19:30:23.190Z"
   },
   {
    "duration": 5,
    "start_time": "2025-06-18T19:30:23.205Z"
   },
   {
    "duration": 129,
    "start_time": "2025-06-18T19:30:23.212Z"
   },
   {
    "duration": 138,
    "start_time": "2025-06-18T19:30:23.343Z"
   },
   {
    "duration": 423,
    "start_time": "2025-06-18T19:30:23.483Z"
   },
   {
    "duration": 18,
    "start_time": "2025-06-18T19:30:23.908Z"
   },
   {
    "duration": 126,
    "start_time": "2025-06-18T19:30:23.930Z"
   },
   {
    "duration": 8,
    "start_time": "2025-06-18T19:30:24.057Z"
   },
   {
    "duration": 11,
    "start_time": "2025-06-18T19:30:24.067Z"
   }
  ],
  "colab": {
   "provenance": [],
   "toc_visible": true
  },
  "kernelspec": {
   "display_name": "Python 3 (ipykernel)",
   "language": "python",
   "name": "python3"
  },
  "language_info": {
   "codemirror_mode": {
    "name": "ipython",
    "version": 3
   },
   "file_extension": ".py",
   "mimetype": "text/x-python",
   "name": "python",
   "nbconvert_exporter": "python",
   "pygments_lexer": "ipython3",
   "version": "3.9.23"
  },
  "toc": {
   "base_numbering": 1,
   "nav_menu": {},
   "number_sections": true,
   "sideBar": true,
   "skip_h1_title": true,
   "title_cell": "Table of Contents",
   "title_sidebar": "Contents",
   "toc_cell": false,
   "toc_position": {},
   "toc_section_display": true,
   "toc_window_display": true
  }
 },
 "nbformat": 4,
 "nbformat_minor": 5
}
