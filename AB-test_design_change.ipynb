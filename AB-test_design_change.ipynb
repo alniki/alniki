{
 "cells": [
  {
   "cell_type": "markdown",
   "id": "_E41Wr5fqnFT",
   "metadata": {
    "id": "_E41Wr5fqnFT"
   },
   "source": [
    "# Анализ результатов А/В тестирования изменения дизайна сайта онлайн магазина"
   ]
  },
  {
   "cell_type": "markdown",
   "id": "dce9c95b-0b90-403f-95e5-c19b63b6889d",
   "metadata": {},
   "source": [
    "Исполнитель: Никитина Александра  \n",
    "Email: nikilinalexa@gmail.com  \n",
    "Telegram: https://t.me/alexandrakilina"
   ]
  },
  {
   "cell_type": "markdown",
   "id": "4149134c",
   "metadata": {
    "id": "4149134c"
   },
   "source": [
    "## Цели и задачи проекта\n",
    "\n",
    "Оценить корректность и проанализировать результаты A/B-тестирования изменений дизайна сайта с целью увеличения конверсии зарегистрированных пользователей в покупателе. Проверить, что конверсия зарегистрированных пользователей в покупателей увеличилась как минимум на 3 процентных пункта.\n",
    "\n",
    "Гипотезы:\n",
    "* H0: нулевая гипотеза, изменение дизайна интерфейса не изменило пользовательскую активность, число продаж осталось неизменным или выросло менее, чем на 3 процентных пункта.\n",
    "* Н1: изменение дизайна интерфейса увеличило пользовательскую активность, как минимум на 3% пункта.\n",
    "\n",
    "Параметры для обеспечения мощности выборки:\n",
    "\n",
    "* базовый показатель конверсии — 30%,\n",
    "* мощность теста — 80%,\n",
    "* достоверность теста — 95%.\n",
    "\n",
    "\n",
    "**Содержимое проекта**:\n",
    "1. Загрузка данных и знакомство с ними\n",
    "2. Оценка корректности проведения А/В-теста: оценка наличия пересечений с конкурирующим тестм, независимости выборок, мощности выборок, анализ данных о пользовательской активности\n",
    "3. Оценка результатов А/В-тестирования\n",
    "4. Результаты и выводы"
   ]
  },
  {
   "cell_type": "markdown",
   "id": "6f7d21d6",
   "metadata": {
    "id": "6f7d21d6"
   },
   "source": [
    "## Загрузка данных и знакомство с ними"
   ]
  },
  {
   "cell_type": "markdown",
   "id": "6258e2f6-d2dd-4695-a4b6-4c750d7c5e8e",
   "metadata": {},
   "source": [
    "Параметрый теста:\n",
    "* Название теста: `interface_eu_test`\n",
    "* Группы: A - контрольная, В - тестовая"
   ]
  },
  {
   "cell_type": "markdown",
   "id": "2f907d15-2b70-49a2-8877-6cb7f2ce73fe",
   "metadata": {},
   "source": [
    "Названия файлов:  \n",
    "* 'название файла скрыто'.csv - таблица участников теста, включает в себя идентификатор пользователя, тип группы, название теста, устройство, с которого происходила регистрация.\n",
    "* 'название файла скрыто'.zip - архив с .csv файлом, в котором собраты события за 2020 года. Включает в себя идентификатор пользователя, дату и время события, тип события, детали события (стоимость привлечения клиента / стоимость покупки / зона).\n",
    "\n",
    "*Внимание, часть информации по загрузке и знакомству данных скрыта*"
   ]
  },
  {
   "cell_type": "code",
   "execution_count": 1,
   "id": "05faf34b",
   "metadata": {
    "id": "05faf34b"
   },
   "outputs": [
    {
     "name": "stdout",
     "output_type": "stream",
     "text": [
      "Requirement already satisfied: jupyter-black in c:\\users\\user\\anaconda3\\envs\\practicum\\lib\\site-packages (0.4.0)\n",
      "Requirement already satisfied: black>=21 in c:\\users\\user\\anaconda3\\envs\\practicum\\lib\\site-packages (from black[jupyter]>=21->jupyter-black) (25.1.0)\n",
      "Requirement already satisfied: click>=8.0.0 in c:\\users\\user\\anaconda3\\envs\\practicum\\lib\\site-packages (from black>=21->black[jupyter]>=21->jupyter-black) (8.1.8)\n",
      "Requirement already satisfied: mypy-extensions>=0.4.3 in c:\\users\\user\\anaconda3\\envs\\practicum\\lib\\site-packages (from black>=21->black[jupyter]>=21->jupyter-black) (1.1.0)\n",
      "Requirement already satisfied: packaging>=22.0 in c:\\users\\user\\anaconda3\\envs\\practicum\\lib\\site-packages (from black>=21->black[jupyter]>=21->jupyter-black) (25.0)\n",
      "Requirement already satisfied: pathspec>=0.9.0 in c:\\users\\user\\anaconda3\\envs\\practicum\\lib\\site-packages (from black>=21->black[jupyter]>=21->jupyter-black) (0.12.1)\n",
      "Requirement already satisfied: platformdirs>=2 in c:\\users\\user\\anaconda3\\envs\\practicum\\lib\\site-packages (from black>=21->black[jupyter]>=21->jupyter-black) (4.3.8)\n",
      "Requirement already satisfied: tomli>=1.1.0 in c:\\users\\user\\anaconda3\\envs\\practicum\\lib\\site-packages (from black>=21->black[jupyter]>=21->jupyter-black) (2.2.1)\n",
      "Requirement already satisfied: typing-extensions>=4.0.1 in c:\\users\\user\\anaconda3\\envs\\practicum\\lib\\site-packages (from black>=21->black[jupyter]>=21->jupyter-black) (4.14.1)\n",
      "Requirement already satisfied: ipython>=7.8.0 in c:\\users\\user\\anaconda3\\envs\\practicum\\lib\\site-packages (from black[jupyter]>=21->jupyter-black) (8.18.1)\n",
      "Requirement already satisfied: tokenize-rt>=3.2.0 in c:\\users\\user\\anaconda3\\envs\\practicum\\lib\\site-packages (from black[jupyter]>=21->jupyter-black) (6.2.0)\n",
      "Requirement already satisfied: colorama in c:\\users\\user\\anaconda3\\envs\\practicum\\lib\\site-packages (from click>=8.0.0->black>=21->black[jupyter]>=21->jupyter-black) (0.4.6)\n",
      "Requirement already satisfied: decorator in c:\\users\\user\\anaconda3\\envs\\practicum\\lib\\site-packages (from ipython>=7.8.0->black[jupyter]>=21->jupyter-black) (5.2.1)\n",
      "Requirement already satisfied: jedi>=0.16 in c:\\users\\user\\anaconda3\\envs\\practicum\\lib\\site-packages (from ipython>=7.8.0->black[jupyter]>=21->jupyter-black) (0.19.2)\n",
      "Requirement already satisfied: matplotlib-inline in c:\\users\\user\\anaconda3\\envs\\practicum\\lib\\site-packages (from ipython>=7.8.0->black[jupyter]>=21->jupyter-black) (0.1.7)\n",
      "Requirement already satisfied: prompt-toolkit<3.1.0,>=3.0.41 in c:\\users\\user\\anaconda3\\envs\\practicum\\lib\\site-packages (from ipython>=7.8.0->black[jupyter]>=21->jupyter-black) (3.0.51)\n",
      "Requirement already satisfied: pygments>=2.4.0 in c:\\users\\user\\anaconda3\\envs\\practicum\\lib\\site-packages (from ipython>=7.8.0->black[jupyter]>=21->jupyter-black) (2.19.2)\n",
      "Requirement already satisfied: stack-data in c:\\users\\user\\anaconda3\\envs\\practicum\\lib\\site-packages (from ipython>=7.8.0->black[jupyter]>=21->jupyter-black) (0.6.3)\n",
      "Requirement already satisfied: traitlets>=5 in c:\\users\\user\\anaconda3\\envs\\practicum\\lib\\site-packages (from ipython>=7.8.0->black[jupyter]>=21->jupyter-black) (5.14.3)\n",
      "Requirement already satisfied: exceptiongroup in c:\\users\\user\\anaconda3\\envs\\practicum\\lib\\site-packages (from ipython>=7.8.0->black[jupyter]>=21->jupyter-black) (1.3.0)\n",
      "Requirement already satisfied: wcwidth in c:\\users\\user\\anaconda3\\envs\\practicum\\lib\\site-packages (from prompt-toolkit<3.1.0,>=3.0.41->ipython>=7.8.0->black[jupyter]>=21->jupyter-black) (0.2.13)\n",
      "Requirement already satisfied: parso<0.9.0,>=0.8.4 in c:\\users\\user\\anaconda3\\envs\\practicum\\lib\\site-packages (from jedi>=0.16->ipython>=7.8.0->black[jupyter]>=21->jupyter-black) (0.8.4)\n",
      "Requirement already satisfied: executing>=1.2.0 in c:\\users\\user\\anaconda3\\envs\\practicum\\lib\\site-packages (from stack-data->ipython>=7.8.0->black[jupyter]>=21->jupyter-black) (2.2.0)\n",
      "Requirement already satisfied: asttokens>=2.1.0 in c:\\users\\user\\anaconda3\\envs\\practicum\\lib\\site-packages (from stack-data->ipython>=7.8.0->black[jupyter]>=21->jupyter-black) (3.0.0)\n",
      "Requirement already satisfied: pure_eval in c:\\users\\user\\anaconda3\\envs\\practicum\\lib\\site-packages (from stack-data->ipython>=7.8.0->black[jupyter]>=21->jupyter-black) (0.2.3)\n"
     ]
    }
   ],
   "source": [
    "# импортируем библиотеку pandas\n",
    "import pandas as pd\n",
    "\n",
    "# установим библиотеку jupyter-black для автоматического форматирования кода\n",
    "!pip install jupyter-black\n",
    "\n",
    "# Импортируем библиотеку jupyter_black\n",
    "import jupyter_black\n",
    "\n",
    "# Импортируем библиотеки для расчета размера выборки\n",
    "from statsmodels.stats.power import NormalIndPower\n",
    "from statsmodels.stats.proportion import proportion_effectsize\n",
    "\n",
    "# Импортируем библиотеку для проведения z-теста пропорций\n",
    "from statsmodels.stats.proportion import proportions_ztest"
   ]
  },
  {
   "cell_type": "code",
   "execution_count": 2,
   "id": "DjFcJbeGsTIg",
   "metadata": {
    "id": "DjFcJbeGsTIg"
   },
   "outputs": [],
   "source": [
    "# Выгрузим данные в датафреймы participants и events\n",
    "participants = pd.read_csv('название файла скрыто.csv')\n",
    "events = pd.read_csv('название файла скрыто.zip',\n",
    "                     parse_dates=['event_dt'], low_memory=False)"
   ]
  },
  {
   "cell_type": "markdown",
   "id": "c8e2ba8b-869a-422f-8057-29dbee25afdd",
   "metadata": {},
   "source": [
    "### Знакомство с датафреймом `participants`"
   ]
  },
  {
   "cell_type": "code",
   "execution_count": 3,
   "id": "aNa3zHrKslEN",
   "metadata": {
    "id": "aNa3zHrKslEN"
   },
   "outputs": [
    {
     "name": "stdout",
     "output_type": "stream",
     "text": [
      "<class 'pandas.core.frame.DataFrame'>\n",
      "RangeIndex: 14525 entries, 0 to 14524\n",
      "Data columns (total 4 columns):\n",
      " #   Column   Non-Null Count  Dtype \n",
      "---  ------   --------------  ----- \n",
      " 0   user_id  14525 non-null  object\n",
      " 1   group    14525 non-null  object\n",
      " 2   ab_test  14525 non-null  object\n",
      " 3   device   14525 non-null  object\n",
      "dtypes: object(4)\n",
      "memory usage: 454.0+ KB\n"
     ]
    }
   ],
   "source": [
    "# Выведем информацию о датафрейме participants\n",
    "participants.info()"
   ]
  },
  {
   "cell_type": "code",
   "execution_count": 4,
   "id": "beee0b83",
   "metadata": {},
   "outputs": [],
   "source": [
    "# Выведем первые 5 строк датафрейма\n",
    "#participants.head()"
   ]
  },
  {
   "cell_type": "code",
   "execution_count": 5,
   "id": "5d19df4b",
   "metadata": {},
   "outputs": [
    {
     "data": {
      "text/plain": [
       "0"
      ]
     },
     "execution_count": 5,
     "metadata": {},
     "output_type": "execute_result"
    }
   ],
   "source": [
    "# Проверим наличие дубликатов\n",
    "participants.duplicated().sum()"
   ]
  },
  {
   "cell_type": "code",
   "execution_count": 6,
   "id": "5484254d-67be-4962-92a2-480877e95768",
   "metadata": {},
   "outputs": [],
   "source": [
    "# Выведем уникальные значения для столбца ab_test\n",
    "#display(participants[\"ab_test\"].unique())"
   ]
  },
  {
   "cell_type": "markdown",
   "id": "4d9b7cb2",
   "metadata": {},
   "source": [
    "**Вывод:** \n",
    "\n",
    "В датафрейме `participants`: \n",
    "* отсутствуют ненулевые значения\n",
    "* присутствуют данные для двух A/B-тестов, данные необходимо будет отфильтровать по целевому тесту `interface_eu_test`\n",
    "* явные дубликаты отсутствуют"
   ]
  },
  {
   "cell_type": "markdown",
   "id": "72ef6069-45fd-40cb-b7de-e433755ee89b",
   "metadata": {},
   "source": [
    "### Знакомство с датафреймом `events`"
   ]
  },
  {
   "cell_type": "code",
   "execution_count": 7,
   "id": "20a9521d",
   "metadata": {},
   "outputs": [],
   "source": [
    "# Выведем информацию о датафрейме events\n",
    "#events.info()"
   ]
  },
  {
   "cell_type": "code",
   "execution_count": 8,
   "id": "0ae00728",
   "metadata": {},
   "outputs": [],
   "source": [
    "# Выведем первые 5 строк датафрейма\n",
    "#events.head()"
   ]
  },
  {
   "cell_type": "code",
   "execution_count": 9,
   "id": "99d66284",
   "metadata": {},
   "outputs": [
    {
     "data": {
      "text/plain": [
       "0"
      ]
     },
     "execution_count": 9,
     "metadata": {},
     "output_type": "execute_result"
    }
   ],
   "source": [
    "# Проверим наличие дубликатов\n",
    "participants.duplicated().sum()"
   ]
  },
  {
   "cell_type": "code",
   "execution_count": 10,
   "id": "b9d7ffbf",
   "metadata": {},
   "outputs": [],
   "source": [
    "# Выведем на экран типы событий из столбца event_name\n",
    "# events['event_name'].unique()"
   ]
  },
  {
   "cell_type": "code",
   "execution_count": 11,
   "id": "6a3f6522",
   "metadata": {},
   "outputs": [],
   "source": [
    "# Посмотрим, как будут выглядить данные для одного пользователя\n",
    "# events[events['user_id'] == 'CCBE9E7E99F94A08']"
   ]
  },
  {
   "cell_type": "markdown",
   "id": "f9e10297",
   "metadata": {},
   "source": [
    "**Вывод:** \n",
    "В датафрейме `events`:\n",
    "* Выявлены пропуски в столбце details\n",
    "* Явные дубликаты отсутствуют\n",
    "* Выведены типы событий столбца event_name, в дальнейшем для анализа нам понадобятся события, связанные с датой регистрации 'registration' и с датой совершения пользователем события"
   ]
  },
  {
   "cell_type": "markdown",
   "id": "CnzA-efasUrk",
   "metadata": {
    "id": "CnzA-efasUrk"
   },
   "source": [
    "## Оценка корректности проведения A/B теста\n",
    "\n",
    "   Для пользователей, участвующих в тесте, необходимо проверить соответствие требованиям технического задания, равномерность распределения пользователей по группам и отсутствие пересечений с конкурирующим тестом."
   ]
  },
  {
   "cell_type": "markdown",
   "id": "de2e015e-b7e6-4d8f-86b7-4c1ca8b5c8ba",
   "metadata": {},
   "source": [
    "### Проверка наличия пересечений с конкурирующим тестом"
   ]
  },
  {
   "cell_type": "code",
   "execution_count": 12,
   "id": "ee5059bc",
   "metadata": {},
   "outputs": [
    {
     "name": "stdout",
     "output_type": "stream",
     "text": [
      "Количество пользователей, участвовавших в конкрурирующих тестах: 116\n"
     ]
    }
   ],
   "source": [
    "# Проверим, пересекаются ли пользователи в группах B тестов interface_eu_test и recommender_system_test\n",
    "group_b_rec = participants[(participants['ab_test'] == 'recommender_system_test')&(participants['group'] == 'B')]['user_id']\n",
    "group_b_eu = participants[\n",
    "    (participants['ab_test'] == 'interface_eu_test') & (participants['group'] == 'B')\n",
    "]['user_id']\n",
    "\n",
    "intersection_b_tests = list(set(group_b_eu) & set(group_b_rec))\n",
    "\n",
    "print(f'Количество пользователей, участвовавших в конкрурирующих тестах: {len(intersection_b_tests)}')"
   ]
  },
  {
   "cell_type": "markdown",
   "id": "1893ba14-6a1a-4d98-afe3-16b0cd196a4d",
   "metadata": {},
   "source": [
    "*Промежуточный вывод:*\n",
    "\n",
    "Среди пользователей групп В тестов `interface_eu_test` и `recommender_system_test` есть те пользователи, которые участвовали в обоих тестах, что является нарушением А/В теста, так как пользователь не  должен участвовать в двух тестах одновременно."
   ]
  },
  {
   "cell_type": "code",
   "execution_count": 13,
   "id": "be798b4a-c833-4582-b283-5cced8234348",
   "metadata": {},
   "outputs": [],
   "source": [
    "# Так как по ТЗ необходимо проанализировать данные теста interface_eu_test, отфильтруем датафрейм\n",
    "participants_interface_eu_test = participants[participants['ab_test'] == 'interface_eu_test']"
   ]
  },
  {
   "cell_type": "code",
   "execution_count": 14,
   "id": "5131cf28",
   "metadata": {},
   "outputs": [],
   "source": [
    "# Удалим тех пользователей, который участвуют в обоих тестах одновременно\n",
    "participants_interface_filtered = participants_interface_eu_test[~participants_interface_eu_test['user_id'].isin(intersection_b_tests)]"
   ]
  },
  {
   "cell_type": "markdown",
   "id": "47048746",
   "metadata": {},
   "source": [
    "**Вывод:**\n",
    "\n",
    "Среди пользователей групп В тестов `interface_eu_test` и `recommender_system_test` выявлены пользователи, принимавшие участие в обоих тестах, что является нарушением А/В теста, так как пользователь не  должен участвовать в двух тестах одновременно.\n",
    "\n",
    "Сформирован отфильтрованный датафрейм `participants_interface_filtered`, из которого исключены пользователи, которые входили одновременно в оба А/В теста."
   ]
  },
  {
   "cell_type": "markdown",
   "id": "f85a575b-d98a-4564-8846-2dac71b4443a",
   "metadata": {},
   "source": [
    "### Оценка распределения пользователей между группами А и В"
   ]
  },
  {
   "cell_type": "markdown",
   "id": "2a87081b-98a0-4d48-b4db-a9855a459cf2",
   "metadata": {},
   "source": [
    "Оценим равномерность распределения пользователей между группами А и В в датафрейме, отфильтрованному по целевому тесту `interface_eu_test`"
   ]
  },
  {
   "cell_type": "code",
   "execution_count": 15,
   "id": "55677b43",
   "metadata": {},
   "outputs": [
    {
     "name": "stdout",
     "output_type": "stream",
     "text": [
      "Процентная разница в количестве пользователей в группах А и В теста interface_eu_test: 1.56%\n"
     ]
    }
   ],
   "source": [
    "# Подсчитаем количество уникальных пользователей в каждой из групп теста interface_eu_test\n",
    "user_counts = participants_interface_eu_test.groupby('group')['user_id'].nunique().reset_index()\n",
    "\n",
    "# Извлекаем значения количества уникальных пользователей в каждой из групп\n",
    "count_a = user_counts[user_counts['group']=='A']['user_id'].values[0]\n",
    "count_b = user_counts[user_counts['group']=='B']['user_id'].values[0]\n",
    "\n",
    "# Посчитаем процентную разницу в кол-ве пользователей в группах А и В\n",
    "p = round(100*abs(count_a - count_b) / count_a, 2)\n",
    "\n",
    "print(f\"Процентная разница в количестве пользователей в группах А и В теста interface_eu_test: {p}%\")"
   ]
  },
  {
   "cell_type": "markdown",
   "id": "b2a414f9",
   "metadata": {},
   "source": [
    "**Вывод:** Разница в количестве пользователей групп А и В тесте `interface_eu_test` составила 1.56%, можно заключить, что пользователи распределены равномерно"
   ]
  },
  {
   "cell_type": "markdown",
   "id": "94fb33c8-d029-43df-b11d-ef1e0fcc9612",
   "metadata": {},
   "source": [
    "### Анализ данных о пользовательской активности"
   ]
  },
  {
   "cell_type": "markdown",
   "id": "GjulgSrlsqUU",
   "metadata": {
    "id": "GjulgSrlsqUU"
   },
   "source": [
    "Отфильтруем датафрейм `events`, удалив события, связанные с пользователями, которые принимали участие одновременно в двух тестах."
   ]
  },
  {
   "cell_type": "code",
   "execution_count": 16,
   "id": "b925146d",
   "metadata": {},
   "outputs": [],
   "source": [
    "# Удалим события, связанные с пользователями, участвующими более, чем в одном тесте\n",
    "events_filtered = events[~events['user_id'].isin(intersection_b_tests)]"
   ]
  },
  {
   "cell_type": "markdown",
   "id": "fBZ4DC2xswZJ",
   "metadata": {
    "id": "fBZ4DC2xswZJ"
   },
   "source": [
    "Рассчитаем время совершения события пользователем после регистрации и оставим только те события, которые были выполнены в течение первых семи дней с момента регистрации."
   ]
  },
  {
   "cell_type": "code",
   "execution_count": 17,
   "id": "sES4-dKts0Yb",
   "metadata": {
    "id": "sES4-dKts0Yb"
   },
   "outputs": [],
   "source": [
    "# Для каждого пользователя отберем дату регистрации\n",
    "users_registration = events_filtered[events_filtered['event_name'] == 'registration'][['user_id', 'event_dt']].drop_duplicates()\n",
    "\n",
    "# Переименуем поле для удобства\n",
    "users_registration = users_registration.rename(columns={'event_dt': 'registration_dt'})"
   ]
  },
  {
   "cell_type": "code",
   "execution_count": 18,
   "id": "12461de8",
   "metadata": {},
   "outputs": [],
   "source": [
    "# Создадим датафрейм, в котором к датафрейму events присоединим дату регистрации пользователя\n",
    "events_with_reg = events_filtered.merge(users_registration, on = 'user_id', how = 'inner')\n",
    "\n",
    "# Рассчитаем разницу во времени\n",
    "events_with_reg['lifetime'] = (events_with_reg['event_dt'] - events_with_reg['registration_dt']).dt.days\n",
    "\n",
    "# Отфильтруем события, у которых разница во времени составляет менее 7 дней\n",
    "events_with_reg = events_with_reg[events_with_reg['lifetime'] < 7]"
   ]
  },
  {
   "cell_type": "markdown",
   "id": "7cf1df48",
   "metadata": {},
   "source": [
    "Проведем оценку достаточности выборки со следующими заданными параметрами:\n",
    "* базовый показатель конверсии — 30%\n",
    "* мощность теста — 80%\n",
    "* достоверность теста — 95%"
   ]
  },
  {
   "cell_type": "code",
   "execution_count": 19,
   "id": "7d97b466",
   "metadata": {},
   "outputs": [
    {
     "name": "stdout",
     "output_type": "stream",
     "text": [
      "Необходимый размер выборки на каждую группу: 3761 пользователей\n"
     ]
    }
   ],
   "source": [
    "# Задаем исходные параметры\n",
    "alpha = 0.05\n",
    "power = 0.8\n",
    "# Базовая конверсия\n",
    "p1 = 0.30  \n",
    "# Прирост на 3 процентных пункта\n",
    "p2 = 0.33 \n",
    "effect_size = proportion_effectsize(p1, p2)\n",
    "\n",
    "# Расчёт мощности\n",
    "analysis = NormalIndPower()\n",
    "sample_size = analysis.solve_power(\n",
    "    effect_size=effect_size,\n",
    "    power=power,\n",
    "    alpha=alpha,\n",
    "    ratio=1\n",
    ")\n",
    "\n",
    "print(f\"Необходимый размер выборки на каждую группу: {int(sample_size)} пользователей\")"
   ]
  },
  {
   "cell_type": "markdown",
   "id": "SadyUDgZs0t3",
   "metadata": {
    "id": "SadyUDgZs0t3"
   },
   "source": [
    "Для каждой группы рассчитаем количество посетителей, сделавших покупку, и общее количество посетителей."
   ]
  },
  {
   "cell_type": "code",
   "execution_count": 20,
   "id": "7ph853Xks4sy",
   "metadata": {
    "id": "7ph853Xks4sy"
   },
   "outputs": [
    {
     "name": "stdout",
     "output_type": "stream",
     "text": [
      "  group  buyers  total_users  conversion_rate\n",
      "0     A    1480         5383           0.2749\n",
      "1     B    1579         5351           0.2951\n"
     ]
    }
   ],
   "source": [
    "# Отфильтруем события, относящиеся к interface_eu_test, чтобы анализировать только тех, кто участвует в целевом тесте\n",
    "events_interface_eu_test = events_with_reg[\n",
    "    events_with_reg['user_id'].isin(participants_interface_filtered['user_id'])\n",
    "]\n",
    "\n",
    "# Оставляем только события покупки (event_name == 'purchase')\n",
    "purchases = events_interface_eu_test[events_interface_eu_test['event_name'] == 'purchase']\n",
    "\n",
    "# Присоединяем информацию о группах к покупкам, в какой группе находится пользователя\n",
    "purchases_with_groups = purchases.merge(\n",
    "    participants_interface_filtered[['user_id', 'group']],\n",
    "    on='user_id',\n",
    "    how='inner'\n",
    ")\n",
    "\n",
    "# Считаем кол-во уникальных покупателей по группам\n",
    "buyers_by_group = purchases_with_groups.groupby('group')['user_id'].nunique().reset_index()\n",
    "buyers_by_group.columns = ['group', 'buyers']\n",
    "\n",
    "# Считаем общее количество участников теста в каждой группе (знаменатель для расчета конверсии)\n",
    "total_users_by_group = participants_interface_filtered.groupby('group')['user_id'].nunique().reset_index()\n",
    "total_users_by_group.columns = ['group', 'total_users']\n",
    "\n",
    "# Объединяем таблицы и считаем конверсию (покупатели / все участники группы)\n",
    "summary = buyers_by_group.merge(total_users_by_group, on='group')\n",
    "summary['conversion_rate'] = round(summary['buyers'] / summary['total_users'], 4)\n",
    "\n",
    "print(summary)"
   ]
  },
  {
   "cell_type": "code",
   "execution_count": 21,
   "id": "ba380b9f",
   "metadata": {},
   "outputs": [
    {
     "name": "stdout",
     "output_type": "stream",
     "text": [
      "В группе В конверсия пользователя в покупку увеличилась на 2.02% по сравнению с контрольной группой\n"
     ]
    }
   ],
   "source": [
    "# Рассчитаем разницу конверсии\n",
    "conversion_rate_a = summary[summary['group'] == 'A']['conversion_rate'].values[0]\n",
    "conversion_rate_b = summary[summary['group'] == 'B']['conversion_rate'].values[0]\n",
    "difference = round(100*(conversion_rate_b - conversion_rate_a), 2)\n",
    "print(f'В группе В конверсия пользователя в покупку увеличилась на {difference}% по сравнению с контрольной группой')"
   ]
  },
  {
   "cell_type": "markdown",
   "id": "d9c84866",
   "metadata": {
    "id": "hHTHPkJYs8mE"
   },
   "source": [
    "**Вывод**\n",
    "\n",
    "Общее количество пользователей в каждой группе составило не менее 5383 пользователя, что больше необходимого (3761 пользователей). \n",
    "\n",
    "Пользовательская активность была выявлена и в группе А, и в группе В, конверсия составила 0.2749 для группы А и 0.2951 для группы В.\n",
    "\n",
    "Конверсия в группе В увеличилась на 2.02% по сравнению с конверсией контрольной группы.\n",
    "\n",
    "Таким образом, завершенный тест включает в себя достаточное количество данных для того, чтобы провести оценку результатов А/В тестирования, хотя целевое увеличение конверсии не было достигнуто"
   ]
  },
  {
   "cell_type": "markdown",
   "id": "IKZ1Oo3Ws919",
   "metadata": {
    "id": "IKZ1Oo3Ws919"
   },
   "source": [
    "## Оценка результатов A/B-тестирования"
   ]
  },
  {
   "cell_type": "markdown",
   "id": "c8ea7073",
   "metadata": {},
   "source": [
    "**Гипотезы:**\n",
    "\n",
    "H0: нулевая гипотеза, изменение дизайна интерфейса не изменило пользовательскую активность, число продаж осталось неизменным или выросло менее, чем на 3 процентных пункта.\n",
    "\n",
    "Н1: изменение дизайна интерфейса увеличило пользовательскую активность, как минимум на 3% пункта.\n",
    "\n",
    "Таким образом, нужно проверить односторонню гипотезу на увеличение. Для этого можно использовать z-тест для сравнения пропорций с использованием функции proportions_ztest из пакета statsmodels.stats.proportion "
   ]
  },
  {
   "cell_type": "code",
   "execution_count": 22,
   "id": "l_KOziBQtL3t",
   "metadata": {
    "id": "l_KOziBQtL3t",
    "scrolled": true
   },
   "outputs": [
    {
     "name": "stdout",
     "output_type": "stream",
     "text": [
      "z-статистика: -5.75, p-value: 1.0\n",
      "pvalue=0.9999999956568034 > 0.05\n",
      "Нулевая гипотеза находит подтверждение, прирост менее 3 п.п. или его нет.\n"
     ]
    }
   ],
   "source": [
    "# Берем значения по размерам выборок\n",
    "n_a = int(summary[summary['group']=='A']['total_users'])\n",
    "n_b = int(summary[summary['group']=='B']['total_users'])\n",
    "\n",
    "# Берем значения количества покупателей\n",
    "m_a = int(summary[summary['group']=='A']['buyers'])\n",
    "m_b = int(summary[summary['group']=='B']['buyers'])\n",
    "\n",
    "\n",
    "# Уровень значимости, на котором проверяем гипотезу\n",
    "alpha = 0.05 \n",
    "\n",
    "# Расчет статистического теста\n",
    "z_stat, p_value = proportions_ztest(\n",
    "    [m_a, m_b],\n",
    "    [n_a, n_b],\n",
    "    alternative='larger', \n",
    "    value=0.03\n",
    "    \n",
    ")\n",
    "print(f\"z-статистика: {round(z_stat, 2)}, p-value: {round(p_value, 4)}\")\n",
    "\n",
    "if p_value > alpha:\n",
    "    print(f'pvalue={p_value} > {alpha}')\n",
    "    print('Нулевая гипотеза находит подтверждение, прирост менее 3 п.п. или его нет.')\n",
    "else:\n",
    "    print(f'pvalue={p_value} < {alpha}')\n",
    "    print('Нулевая гипотеза не находит подтверждения, конверсия увеличилась минимум на 3 п.п.')"
   ]
  },
  {
   "cell_type": "markdown",
   "id": "npoPPSKytKvR",
   "metadata": {
    "id": "npoPPSKytKvR"
   },
   "source": [
    "## Результаты и выводы\n",
    "\n",
    "По итогам результатов анализа A/B-теста о необходимости изменения дизайна сайта с целью увеличения конверсии пользователя в покупку было выявлено, что введение нового дизайна не привело к изменению целевой метрики более, чем на 3 процентных пункта по сравнению с контрольной группой. \n",
    "\n",
    "В ходе анализа результатов А/В-теста выло выполнено следующее: \n",
    "* Отобраны данные для теста `interface_eu_test`.\n",
    "* Проверено, что группы А и В сопоставимы по размеру, размеры выборок превышают теоретически вычисленный порог (3761 пользователей), выборки являются независимыми. \n",
    "* Отобраны события, для которых покупка была совершена в течение 7 дней после регистрации (горизонт анализа - 7 дней). \n",
    "* Рассчитана `conversion rate` каждой группы, конверсия для группы В была на 2.02% больше конверсии для группы А.\n",
    "* Анализ результатов теста был проведен с использованием z-теста для сравнения пропорций.\n",
    "* p-value составило 1.00, что больше уровня значимости 0.05. Таким образом нулевая гипотеза находит подтверждение, что говорит о том, что изменение дизайна не привело к статистически значимому увеличению конверсии на 3 процентных пункта.\n",
    "\n",
    "Введение нового дизайна не рекомендуется."
   ]
  }
 ],
 "metadata": {
  "ExecuteTimeLog": [
   {
    "duration": 7023,
    "start_time": "2025-06-11T18:25:54.369Z"
   },
   {
    "duration": 105,
    "start_time": "2025-06-11T18:29:49.490Z"
   },
   {
    "duration": 59,
    "start_time": "2025-06-11T18:30:18.054Z"
   },
   {
    "duration": 41,
    "start_time": "2025-06-11T18:30:26.386Z"
   },
   {
    "duration": 12,
    "start_time": "2025-06-11T18:30:35.605Z"
   },
   {
    "duration": 151,
    "start_time": "2025-06-11T18:31:50.035Z"
   },
   {
    "duration": 82,
    "start_time": "2025-06-11T18:32:00.605Z"
   },
   {
    "duration": 8,
    "start_time": "2025-06-11T18:32:49.605Z"
   },
   {
    "duration": 7,
    "start_time": "2025-06-11T18:32:57.535Z"
   },
   {
    "duration": 6,
    "start_time": "2025-06-11T18:34:47.389Z"
   },
   {
    "duration": 84,
    "start_time": "2025-06-11T18:42:05.768Z"
   },
   {
    "duration": 5,
    "start_time": "2025-06-11T18:43:11.031Z"
   },
   {
    "duration": 5,
    "start_time": "2025-06-11T18:43:28.094Z"
   },
   {
    "duration": 3317,
    "start_time": "2025-06-11T18:44:53.778Z"
   },
   {
    "duration": 52,
    "start_time": "2025-06-11T18:46:28.786Z"
   },
   {
    "duration": 8,
    "start_time": "2025-06-11T18:48:20.798Z"
   },
   {
    "duration": 89,
    "start_time": "2025-06-11T18:48:37.879Z"
   },
   {
    "duration": 8,
    "start_time": "2025-06-11T18:48:51.785Z"
   },
   {
    "duration": 10,
    "start_time": "2025-06-11T18:48:57.581Z"
   },
   {
    "duration": 6630,
    "start_time": "2025-06-15T12:11:42.129Z"
   },
   {
    "duration": 61,
    "start_time": "2025-06-15T12:11:48.761Z"
   },
   {
    "duration": 33,
    "start_time": "2025-06-15T12:11:48.823Z"
   },
   {
    "duration": 8,
    "start_time": "2025-06-15T12:11:48.857Z"
   },
   {
    "duration": 13,
    "start_time": "2025-06-15T12:11:48.867Z"
   },
   {
    "duration": 1734,
    "start_time": "2025-06-15T12:12:00.027Z"
   },
   {
    "duration": 12,
    "start_time": "2025-06-15T12:20:54.367Z"
   },
   {
    "duration": 9,
    "start_time": "2025-06-15T12:22:44.477Z"
   },
   {
    "duration": 1585,
    "start_time": "2025-06-15T12:24:41.396Z"
   },
   {
    "duration": 12,
    "start_time": "2025-06-15T12:24:43.792Z"
   },
   {
    "duration": 9,
    "start_time": "2025-06-15T12:24:46.078Z"
   },
   {
    "duration": 89,
    "start_time": "2025-06-15T12:27:07.317Z"
   },
   {
    "duration": 1064,
    "start_time": "2025-06-15T12:27:16.532Z"
   },
   {
    "duration": 6,
    "start_time": "2025-06-15T12:28:01.718Z"
   },
   {
    "duration": 8,
    "start_time": "2025-06-15T12:28:16.592Z"
   },
   {
    "duration": 11,
    "start_time": "2025-06-15T12:28:23.684Z"
   },
   {
    "duration": 8,
    "start_time": "2025-06-15T12:32:29.923Z"
   },
   {
    "duration": 13,
    "start_time": "2025-06-15T12:33:53.335Z"
   },
   {
    "duration": 9,
    "start_time": "2025-06-15T12:36:20.360Z"
   },
   {
    "duration": 16,
    "start_time": "2025-06-15T12:37:29.505Z"
   },
   {
    "duration": 10,
    "start_time": "2025-06-15T12:37:37.520Z"
   },
   {
    "duration": 10,
    "start_time": "2025-06-15T12:38:09.424Z"
   },
   {
    "duration": 2914,
    "start_time": "2025-06-15T12:38:32.782Z"
   },
   {
    "duration": 119,
    "start_time": "2025-06-15T12:38:38.706Z"
   },
   {
    "duration": 7686,
    "start_time": "2025-06-15T17:06:59.392Z"
   },
   {
    "duration": 59,
    "start_time": "2025-06-15T17:07:07.081Z"
   },
   {
    "duration": 12,
    "start_time": "2025-06-15T17:07:07.141Z"
   },
   {
    "duration": 25,
    "start_time": "2025-06-15T17:07:07.154Z"
   },
   {
    "duration": 14,
    "start_time": "2025-06-15T17:07:07.181Z"
   },
   {
    "duration": 1574,
    "start_time": "2025-06-15T17:07:07.196Z"
   },
   {
    "duration": 11,
    "start_time": "2025-06-15T17:07:08.772Z"
   },
   {
    "duration": 24,
    "start_time": "2025-06-15T17:07:08.785Z"
   },
   {
    "duration": 11,
    "start_time": "2025-06-15T17:07:08.811Z"
   },
   {
    "duration": 11,
    "start_time": "2025-06-15T17:07:08.823Z"
   },
   {
    "duration": 129,
    "start_time": "2025-06-15T17:07:08.835Z"
   },
   {
    "duration": 10,
    "start_time": "2025-06-15T17:07:45.551Z"
   },
   {
    "duration": 8,
    "start_time": "2025-06-15T17:16:36.925Z"
   },
   {
    "duration": 12,
    "start_time": "2025-06-15T17:16:38.216Z"
   },
   {
    "duration": 12,
    "start_time": "2025-06-15T17:16:41.887Z"
   },
   {
    "duration": 122,
    "start_time": "2025-06-15T17:16:46.965Z"
   },
   {
    "duration": 10,
    "start_time": "2025-06-15T17:18:01.950Z"
   },
   {
    "duration": 10,
    "start_time": "2025-06-15T17:19:21.135Z"
   },
   {
    "duration": 10,
    "start_time": "2025-06-15T17:20:56.154Z"
   },
   {
    "duration": 10,
    "start_time": "2025-06-15T17:21:10.579Z"
   },
   {
    "duration": 6,
    "start_time": "2025-06-15T17:21:44.072Z"
   },
   {
    "duration": 11,
    "start_time": "2025-06-15T17:21:44.502Z"
   },
   {
    "duration": 10,
    "start_time": "2025-06-15T17:21:47.078Z"
   },
   {
    "duration": 17,
    "start_time": "2025-06-15T17:24:54.397Z"
   },
   {
    "duration": 14,
    "start_time": "2025-06-15T17:25:24.879Z"
   },
   {
    "duration": 11,
    "start_time": "2025-06-15T17:28:50.989Z"
   },
   {
    "duration": 128,
    "start_time": "2025-06-15T17:29:41.097Z"
   },
   {
    "duration": 9,
    "start_time": "2025-06-15T17:30:05.190Z"
   },
   {
    "duration": 11,
    "start_time": "2025-06-15T17:30:21.379Z"
   },
   {
    "duration": 51,
    "start_time": "2025-06-15T17:30:54.506Z"
   },
   {
    "duration": 80,
    "start_time": "2025-06-15T17:39:30.537Z"
   },
   {
    "duration": 58,
    "start_time": "2025-06-15T17:40:50.818Z"
   },
   {
    "duration": 1074,
    "start_time": "2025-06-15T17:43:50.846Z"
   },
   {
    "duration": 11,
    "start_time": "2025-06-15T17:43:56.947Z"
   },
   {
    "duration": 1074,
    "start_time": "2025-06-15T17:44:10.126Z"
   },
   {
    "duration": 60,
    "start_time": "2025-06-15T17:44:44.575Z"
   },
   {
    "duration": 87,
    "start_time": "2025-06-15T17:45:19.568Z"
   },
   {
    "duration": 82,
    "start_time": "2025-06-15T17:45:33.346Z"
   },
   {
    "duration": 1163,
    "start_time": "2025-06-15T17:45:59.408Z"
   },
   {
    "duration": 1175,
    "start_time": "2025-06-15T17:46:10.088Z"
   },
   {
    "duration": 109,
    "start_time": "2025-06-15T17:47:09.715Z"
   },
   {
    "duration": 107,
    "start_time": "2025-06-15T17:49:47.650Z"
   },
   {
    "duration": 106,
    "start_time": "2025-06-15T17:50:01.958Z"
   },
   {
    "duration": 112,
    "start_time": "2025-06-15T17:51:32.192Z"
   },
   {
    "duration": 295,
    "start_time": "2025-06-15T17:56:31.086Z"
   },
   {
    "duration": 313,
    "start_time": "2025-06-15T17:57:30.818Z"
   },
   {
    "duration": 335,
    "start_time": "2025-06-15T18:01:38.199Z"
   },
   {
    "duration": 373,
    "start_time": "2025-06-15T18:01:57.524Z"
   },
   {
    "duration": 360,
    "start_time": "2025-06-15T18:03:22.932Z"
   },
   {
    "duration": 2537,
    "start_time": "2025-06-15T18:13:41.421Z"
   },
   {
    "duration": 2591,
    "start_time": "2025-06-15T18:21:57.192Z"
   },
   {
    "duration": 15,
    "start_time": "2025-06-15T18:22:42.551Z"
   },
   {
    "duration": 1125,
    "start_time": "2025-06-15T18:24:24.403Z"
   },
   {
    "duration": 57,
    "start_time": "2025-06-15T18:36:15.809Z"
   },
   {
    "duration": 58,
    "start_time": "2025-06-15T18:36:41.773Z"
   },
   {
    "duration": 66,
    "start_time": "2025-06-15T18:36:59.827Z"
   },
   {
    "duration": 68,
    "start_time": "2025-06-15T18:37:14.177Z"
   },
   {
    "duration": 72,
    "start_time": "2025-06-15T18:37:47.588Z"
   },
   {
    "duration": 78,
    "start_time": "2025-06-15T18:38:04.505Z"
   },
   {
    "duration": 78,
    "start_time": "2025-06-15T18:39:18.209Z"
   },
   {
    "duration": 85,
    "start_time": "2025-06-15T19:01:41.873Z"
   },
   {
    "duration": 4,
    "start_time": "2025-06-15T19:03:24.741Z"
   },
   {
    "duration": 4,
    "start_time": "2025-06-15T19:03:34.537Z"
   },
   {
    "duration": 14,
    "start_time": "2025-06-15T19:08:10.529Z"
   },
   {
    "duration": 13,
    "start_time": "2025-06-15T19:08:45.482Z"
   },
   {
    "duration": 129,
    "start_time": "2025-06-15T19:09:00.725Z"
   },
   {
    "duration": 2586,
    "start_time": "2025-06-15T19:09:14.882Z"
   },
   {
    "duration": 16,
    "start_time": "2025-06-15T19:09:19.771Z"
   },
   {
    "duration": 14,
    "start_time": "2025-06-15T19:09:24.234Z"
   },
   {
    "duration": 2552,
    "start_time": "2025-06-15T19:09:30.587Z"
   },
   {
    "duration": 2527,
    "start_time": "2025-06-15T19:10:46.061Z"
   },
   {
    "duration": 20,
    "start_time": "2025-06-15T19:10:53.254Z"
   },
   {
    "duration": 9,
    "start_time": "2025-06-15T19:11:13.551Z"
   },
   {
    "duration": 2564,
    "start_time": "2025-06-15T19:22:00.243Z"
   },
   {
    "duration": 51,
    "start_time": "2025-06-15T19:22:02.809Z"
   },
   {
    "duration": 18,
    "start_time": "2025-06-15T19:22:02.862Z"
   },
   {
    "duration": 21,
    "start_time": "2025-06-15T19:22:02.882Z"
   },
   {
    "duration": 30,
    "start_time": "2025-06-15T19:22:02.904Z"
   },
   {
    "duration": 1603,
    "start_time": "2025-06-15T19:22:02.936Z"
   },
   {
    "duration": 12,
    "start_time": "2025-06-15T19:22:04.542Z"
   },
   {
    "duration": 102,
    "start_time": "2025-06-15T19:22:04.555Z"
   },
   {
    "duration": 19,
    "start_time": "2025-06-15T19:22:04.659Z"
   },
   {
    "duration": 126,
    "start_time": "2025-06-15T19:22:04.681Z"
   },
   {
    "duration": 8,
    "start_time": "2025-06-15T19:22:04.809Z"
   },
   {
    "duration": 48,
    "start_time": "2025-06-15T19:22:04.819Z"
   },
   {
    "duration": 70,
    "start_time": "2025-06-15T19:22:04.869Z"
   },
   {
    "duration": 81,
    "start_time": "2025-06-15T19:22:04.941Z"
   },
   {
    "duration": 76,
    "start_time": "2025-06-15T19:22:05.023Z"
   },
   {
    "duration": 253,
    "start_time": "2025-06-15T19:22:05.101Z"
   },
   {
    "duration": 13,
    "start_time": "2025-06-15T19:22:05.356Z"
   },
   {
    "duration": 30,
    "start_time": "2025-06-15T19:22:05.371Z"
   },
   {
    "duration": 6,
    "start_time": "2025-06-15T19:22:05.403Z"
   },
   {
    "duration": 28,
    "start_time": "2025-06-15T19:22:05.410Z"
   },
   {
    "duration": 36,
    "start_time": "2025-06-15T19:22:05.440Z"
   },
   {
    "duration": 20,
    "start_time": "2025-06-15T19:22:05.477Z"
   },
   {
    "duration": 122,
    "start_time": "2025-06-15T19:22:05.499Z"
   },
   {
    "duration": 382,
    "start_time": "2025-06-15T19:22:05.623Z"
   },
   {
    "duration": 15,
    "start_time": "2025-06-15T19:22:06.007Z"
   },
   {
    "duration": 124,
    "start_time": "2025-06-15T19:22:06.024Z"
   },
   {
    "duration": 9,
    "start_time": "2025-06-15T19:22:06.150Z"
   },
   {
    "duration": 7299,
    "start_time": "2025-06-16T07:23:28.296Z"
   },
   {
    "duration": 89,
    "start_time": "2025-06-16T07:23:35.597Z"
   },
   {
    "duration": 13,
    "start_time": "2025-06-16T07:23:35.688Z"
   },
   {
    "duration": 18,
    "start_time": "2025-06-16T07:23:35.703Z"
   },
   {
    "duration": 10,
    "start_time": "2025-06-16T07:23:35.724Z"
   },
   {
    "duration": 1754,
    "start_time": "2025-06-16T07:23:35.735Z"
   },
   {
    "duration": 13,
    "start_time": "2025-06-16T07:23:37.491Z"
   },
   {
    "duration": 31,
    "start_time": "2025-06-16T07:23:37.505Z"
   },
   {
    "duration": 13,
    "start_time": "2025-06-16T07:23:37.538Z"
   },
   {
    "duration": 125,
    "start_time": "2025-06-16T07:23:37.553Z"
   },
   {
    "duration": 9,
    "start_time": "2025-06-16T07:23:37.680Z"
   },
   {
    "duration": 12,
    "start_time": "2025-06-16T07:23:37.690Z"
   },
   {
    "duration": 75,
    "start_time": "2025-06-16T07:23:37.704Z"
   },
   {
    "duration": 63,
    "start_time": "2025-06-16T07:23:37.782Z"
   },
   {
    "duration": 31,
    "start_time": "2025-06-16T07:23:37.848Z"
   },
   {
    "duration": 148,
    "start_time": "2025-06-16T07:23:37.881Z"
   },
   {
    "duration": 13,
    "start_time": "2025-06-16T07:23:38.031Z"
   },
   {
    "duration": 39,
    "start_time": "2025-06-16T07:23:38.047Z"
   },
   {
    "duration": 6,
    "start_time": "2025-06-16T07:23:38.088Z"
   },
   {
    "duration": 12,
    "start_time": "2025-06-16T07:23:38.096Z"
   },
   {
    "duration": 19,
    "start_time": "2025-06-16T07:23:38.110Z"
   },
   {
    "duration": 42,
    "start_time": "2025-06-16T07:23:38.131Z"
   },
   {
    "duration": 248,
    "start_time": "2025-06-16T07:23:38.176Z"
   },
   {
    "duration": 0,
    "start_time": "2025-06-16T07:23:38.426Z"
   },
   {
    "duration": 0,
    "start_time": "2025-06-16T07:23:38.427Z"
   },
   {
    "duration": 0,
    "start_time": "2025-06-16T07:23:38.428Z"
   },
   {
    "duration": 0,
    "start_time": "2025-06-16T07:23:38.430Z"
   },
   {
    "duration": 467,
    "start_time": "2025-06-16T07:25:12.369Z"
   },
   {
    "duration": 14,
    "start_time": "2025-06-16T07:25:13.413Z"
   },
   {
    "duration": 81,
    "start_time": "2025-06-16T07:25:15.341Z"
   },
   {
    "duration": 10,
    "start_time": "2025-06-16T07:25:16.197Z"
   },
   {
    "duration": 4,
    "start_time": "2025-06-16T07:26:06.225Z"
   },
   {
    "duration": 4,
    "start_time": "2025-06-16T07:26:18.212Z"
   },
   {
    "duration": 5,
    "start_time": "2025-06-16T07:26:20.780Z"
   },
   {
    "duration": 7235,
    "start_time": "2025-06-16T18:20:52.065Z"
   },
   {
    "duration": 81,
    "start_time": "2025-06-16T18:20:59.303Z"
   },
   {
    "duration": 13,
    "start_time": "2025-06-16T18:20:59.385Z"
   },
   {
    "duration": 20,
    "start_time": "2025-06-16T18:20:59.400Z"
   },
   {
    "duration": 95,
    "start_time": "2025-06-16T18:23:57.025Z"
   },
   {
    "duration": 8,
    "start_time": "2025-06-16T18:24:04.026Z"
   },
   {
    "duration": 3,
    "start_time": "2025-06-16T18:25:31.802Z"
   },
   {
    "duration": 5,
    "start_time": "2025-06-16T18:25:45.666Z"
   },
   {
    "duration": 7,
    "start_time": "2025-06-16T18:27:44.959Z"
   },
   {
    "duration": 6,
    "start_time": "2025-06-16T18:27:52.284Z"
   },
   {
    "duration": 6,
    "start_time": "2025-06-16T18:29:31.274Z"
   },
   {
    "duration": 5,
    "start_time": "2025-06-16T18:29:40.613Z"
   },
   {
    "duration": 7,
    "start_time": "2025-06-16T18:29:42.094Z"
   },
   {
    "duration": 7,
    "start_time": "2025-06-16T18:29:42.677Z"
   },
   {
    "duration": 7,
    "start_time": "2025-06-16T18:29:44.474Z"
   },
   {
    "duration": 20,
    "start_time": "2025-06-16T19:36:56.311Z"
   },
   {
    "duration": 2816,
    "start_time": "2025-06-16T19:37:32.265Z"
   },
   {
    "duration": 14,
    "start_time": "2025-06-16T19:37:40.754Z"
   },
   {
    "duration": 14,
    "start_time": "2025-06-16T19:40:16.831Z"
   },
   {
    "duration": 12,
    "start_time": "2025-06-16T19:48:50.820Z"
   },
   {
    "duration": 12,
    "start_time": "2025-06-16T19:50:27.160Z"
   },
   {
    "duration": 2746,
    "start_time": "2025-06-16T20:04:27.463Z"
   },
   {
    "duration": 17,
    "start_time": "2025-06-16T20:06:17.956Z"
   },
   {
    "duration": 2734,
    "start_time": "2025-06-16T20:18:41.594Z"
   },
   {
    "duration": 130,
    "start_time": "2025-06-16T20:18:44.330Z"
   },
   {
    "duration": 10,
    "start_time": "2025-06-16T20:18:44.462Z"
   },
   {
    "duration": 15,
    "start_time": "2025-06-16T20:18:44.474Z"
   },
   {
    "duration": 6,
    "start_time": "2025-06-16T20:18:44.491Z"
   },
   {
    "duration": 8,
    "start_time": "2025-06-16T20:18:44.498Z"
   },
   {
    "duration": 38,
    "start_time": "2025-06-16T20:18:44.507Z"
   },
   {
    "duration": 29,
    "start_time": "2025-06-16T20:18:44.547Z"
   },
   {
    "duration": 8,
    "start_time": "2025-06-16T20:18:44.578Z"
   },
   {
    "duration": 10,
    "start_time": "2025-06-16T20:18:44.588Z"
   },
   {
    "duration": 12,
    "start_time": "2025-06-16T20:18:44.600Z"
   },
   {
    "duration": 1798,
    "start_time": "2025-06-16T20:19:10.641Z"
   },
   {
    "duration": 13,
    "start_time": "2025-06-16T20:19:22.094Z"
   },
   {
    "duration": 10,
    "start_time": "2025-06-16T20:19:22.931Z"
   },
   {
    "duration": 12,
    "start_time": "2025-06-16T20:19:24.707Z"
   },
   {
    "duration": 124,
    "start_time": "2025-06-16T20:19:25.995Z"
   },
   {
    "duration": 10,
    "start_time": "2025-06-16T20:19:28.423Z"
   },
   {
    "duration": 12,
    "start_time": "2025-06-16T20:19:29.255Z"
   },
   {
    "duration": 45,
    "start_time": "2025-06-16T20:19:31.959Z"
   },
   {
    "duration": 72,
    "start_time": "2025-06-16T20:19:39.380Z"
   },
   {
    "duration": 14,
    "start_time": "2025-06-16T20:20:36.243Z"
   },
   {
    "duration": 146,
    "start_time": "2025-06-16T20:20:36.963Z"
   },
   {
    "duration": 11,
    "start_time": "2025-06-16T20:20:39.872Z"
   },
   {
    "duration": 21,
    "start_time": "2025-06-16T20:20:41.444Z"
   },
   {
    "duration": 4,
    "start_time": "2025-06-16T20:20:45.092Z"
   },
   {
    "duration": 11,
    "start_time": "2025-06-16T20:20:50.580Z"
   },
   {
    "duration": 9,
    "start_time": "2025-06-16T20:20:51.909Z"
   },
   {
    "duration": 11,
    "start_time": "2025-06-16T20:20:52.821Z"
   },
   {
    "duration": 142,
    "start_time": "2025-06-16T20:20:58.668Z"
   },
   {
    "duration": 128,
    "start_time": "2025-06-16T20:21:43.848Z"
   },
   {
    "duration": 467,
    "start_time": "2025-06-16T20:23:04.591Z"
   },
   {
    "duration": 23,
    "start_time": "2025-06-16T20:23:06.230Z"
   },
   {
    "duration": 7556,
    "start_time": "2025-06-17T17:31:09.568Z"
   },
   {
    "duration": 53,
    "start_time": "2025-06-17T17:31:17.126Z"
   },
   {
    "duration": 12,
    "start_time": "2025-06-17T17:31:17.181Z"
   },
   {
    "duration": 12,
    "start_time": "2025-06-17T17:31:17.194Z"
   },
   {
    "duration": 8,
    "start_time": "2025-06-17T17:31:17.208Z"
   },
   {
    "duration": 5,
    "start_time": "2025-06-17T17:31:17.217Z"
   },
   {
    "duration": 11,
    "start_time": "2025-06-17T17:31:17.224Z"
   },
   {
    "duration": 24,
    "start_time": "2025-06-17T17:31:17.237Z"
   },
   {
    "duration": 139,
    "start_time": "2025-06-17T17:31:17.263Z"
   },
   {
    "duration": 11,
    "start_time": "2025-06-17T17:31:17.404Z"
   },
   {
    "duration": 19,
    "start_time": "2025-06-17T17:31:17.417Z"
   },
   {
    "duration": 1469,
    "start_time": "2025-06-17T17:31:17.437Z"
   },
   {
    "duration": 12,
    "start_time": "2025-06-17T17:31:18.907Z"
   },
   {
    "duration": 10,
    "start_time": "2025-06-17T17:31:18.922Z"
   },
   {
    "duration": 27,
    "start_time": "2025-06-17T17:31:18.934Z"
   },
   {
    "duration": 188,
    "start_time": "2025-06-17T17:31:18.963Z"
   },
   {
    "duration": 9,
    "start_time": "2025-06-17T17:31:19.153Z"
   },
   {
    "duration": 24,
    "start_time": "2025-06-17T17:31:19.163Z"
   },
   {
    "duration": 49,
    "start_time": "2025-06-17T17:31:19.189Z"
   },
   {
    "duration": 74,
    "start_time": "2025-06-17T17:31:19.239Z"
   },
   {
    "duration": 98,
    "start_time": "2025-06-17T17:31:19.315Z"
   },
   {
    "duration": 131,
    "start_time": "2025-06-17T17:31:19.415Z"
   },
   {
    "duration": 17,
    "start_time": "2025-06-17T17:31:19.548Z"
   },
   {
    "duration": 26,
    "start_time": "2025-06-17T17:31:19.567Z"
   },
   {
    "duration": 4,
    "start_time": "2025-06-17T17:31:19.595Z"
   },
   {
    "duration": 102,
    "start_time": "2025-06-17T17:31:19.601Z"
   },
   {
    "duration": 10,
    "start_time": "2025-06-17T17:31:19.704Z"
   },
   {
    "duration": 10,
    "start_time": "2025-06-17T17:31:19.716Z"
   },
   {
    "duration": 6,
    "start_time": "2025-06-17T17:33:10.331Z"
   },
   {
    "duration": 12,
    "start_time": "2025-06-17T17:33:32.967Z"
   },
   {
    "duration": 20,
    "start_time": "2025-06-17T17:36:17.264Z"
   },
   {
    "duration": 13,
    "start_time": "2025-06-17T17:43:15.625Z"
   },
   {
    "duration": 14,
    "start_time": "2025-06-17T17:43:31.420Z"
   },
   {
    "duration": 10,
    "start_time": "2025-06-17T17:43:57.800Z"
   },
   {
    "duration": 9,
    "start_time": "2025-06-17T17:44:00.466Z"
   },
   {
    "duration": 9,
    "start_time": "2025-06-17T17:44:03.044Z"
   },
   {
    "duration": 12,
    "start_time": "2025-06-17T17:44:03.875Z"
   },
   {
    "duration": 5,
    "start_time": "2025-06-17T17:53:22.644Z"
   },
   {
    "duration": 117,
    "start_time": "2025-06-17T18:02:03.589Z"
   },
   {
    "duration": 81,
    "start_time": "2025-06-17T18:04:23.194Z"
   },
   {
    "duration": 83,
    "start_time": "2025-06-17T18:05:09.113Z"
   },
   {
    "duration": 109,
    "start_time": "2025-06-17T18:05:34.501Z"
   },
   {
    "duration": 418,
    "start_time": "2025-06-17T18:06:14.636Z"
   },
   {
    "duration": 15,
    "start_time": "2025-06-17T18:06:29.086Z"
   },
   {
    "duration": 104,
    "start_time": "2025-06-17T18:37:35.953Z"
   },
   {
    "duration": 325,
    "start_time": "2025-06-17T18:37:53.920Z"
   },
   {
    "duration": 15,
    "start_time": "2025-06-17T18:37:55.915Z"
   },
   {
    "duration": 76,
    "start_time": "2025-06-17T18:37:58.777Z"
   },
   {
    "duration": 1063,
    "start_time": "2025-06-17T18:37:59.847Z"
   },
   {
    "duration": 11,
    "start_time": "2025-06-17T18:38:58.566Z"
   },
   {
    "duration": 12,
    "start_time": "2025-06-17T18:39:14.443Z"
   },
   {
    "duration": 6,
    "start_time": "2025-06-17T18:39:40.426Z"
   },
   {
    "duration": 5,
    "start_time": "2025-06-17T18:40:08.432Z"
   },
   {
    "duration": 95,
    "start_time": "2025-06-17T18:40:15.241Z"
   },
   {
    "duration": 114,
    "start_time": "2025-06-17T18:40:21.626Z"
   },
   {
    "duration": 378,
    "start_time": "2025-06-17T18:40:33.177Z"
   },
   {
    "duration": 16,
    "start_time": "2025-06-17T18:40:35.432Z"
   },
   {
    "duration": 74,
    "start_time": "2025-06-17T18:41:57.959Z"
   },
   {
    "duration": 5,
    "start_time": "2025-06-17T18:42:00.911Z"
   },
   {
    "duration": 6,
    "start_time": "2025-06-17T18:42:10.508Z"
   },
   {
    "duration": 6,
    "start_time": "2025-06-17T18:42:20.667Z"
   },
   {
    "duration": 10,
    "start_time": "2025-06-17T18:46:24.096Z"
   },
   {
    "duration": 10,
    "start_time": "2025-06-17T18:51:53.329Z"
   },
   {
    "duration": 10,
    "start_time": "2025-06-17T18:52:09.894Z"
   },
   {
    "duration": 10,
    "start_time": "2025-06-17T18:55:45.383Z"
   },
   {
    "duration": 11,
    "start_time": "2025-06-17T18:55:49.231Z"
   },
   {
    "duration": 10,
    "start_time": "2025-06-17T18:56:22.499Z"
   },
   {
    "duration": 90,
    "start_time": "2025-06-17T18:58:30.205Z"
   },
   {
    "duration": 3769,
    "start_time": "2025-06-17T18:58:42.068Z"
   },
   {
    "duration": 53,
    "start_time": "2025-06-17T18:58:45.839Z"
   },
   {
    "duration": 11,
    "start_time": "2025-06-17T18:58:45.893Z"
   },
   {
    "duration": 76,
    "start_time": "2025-06-17T18:58:45.906Z"
   },
   {
    "duration": 7,
    "start_time": "2025-06-17T18:58:45.984Z"
   },
   {
    "duration": 4,
    "start_time": "2025-06-17T18:58:45.992Z"
   },
   {
    "duration": 6,
    "start_time": "2025-06-17T18:58:45.998Z"
   },
   {
    "duration": 7,
    "start_time": "2025-06-17T18:58:46.006Z"
   },
   {
    "duration": 6,
    "start_time": "2025-06-17T18:58:46.015Z"
   },
   {
    "duration": 38,
    "start_time": "2025-06-17T18:58:46.022Z"
   },
   {
    "duration": 12,
    "start_time": "2025-06-17T18:58:46.062Z"
   },
   {
    "duration": 1574,
    "start_time": "2025-06-17T18:58:46.075Z"
   },
   {
    "duration": 17,
    "start_time": "2025-06-17T18:58:47.650Z"
   },
   {
    "duration": 75,
    "start_time": "2025-06-17T18:58:47.670Z"
   },
   {
    "duration": 115,
    "start_time": "2025-06-17T18:58:47.746Z"
   },
   {
    "duration": 118,
    "start_time": "2025-06-17T18:58:47.863Z"
   },
   {
    "duration": 9,
    "start_time": "2025-06-17T18:58:47.983Z"
   },
   {
    "duration": 18,
    "start_time": "2025-06-17T18:58:47.994Z"
   },
   {
    "duration": 57,
    "start_time": "2025-06-17T18:58:48.014Z"
   },
   {
    "duration": 58,
    "start_time": "2025-06-17T18:58:48.073Z"
   },
   {
    "duration": 32,
    "start_time": "2025-06-17T18:58:48.133Z"
   },
   {
    "duration": 132,
    "start_time": "2025-06-17T18:58:48.167Z"
   },
   {
    "duration": 10,
    "start_time": "2025-06-17T18:58:48.301Z"
   },
   {
    "duration": 32,
    "start_time": "2025-06-17T18:58:48.312Z"
   },
   {
    "duration": 15,
    "start_time": "2025-06-17T18:58:48.346Z"
   },
   {
    "duration": 18,
    "start_time": "2025-06-17T18:58:48.362Z"
   },
   {
    "duration": 9,
    "start_time": "2025-06-17T18:58:48.382Z"
   },
   {
    "duration": 22,
    "start_time": "2025-06-17T18:58:48.392Z"
   },
   {
    "duration": 9,
    "start_time": "2025-06-17T18:58:48.416Z"
   },
   {
    "duration": 95,
    "start_time": "2025-06-17T18:58:48.427Z"
   },
   {
    "duration": 120,
    "start_time": "2025-06-17T18:58:48.524Z"
   },
   {
    "duration": 425,
    "start_time": "2025-06-17T18:58:48.646Z"
   },
   {
    "duration": 14,
    "start_time": "2025-06-17T18:58:49.073Z"
   },
   {
    "duration": 94,
    "start_time": "2025-06-17T18:58:49.088Z"
   },
   {
    "duration": 8,
    "start_time": "2025-06-17T18:58:49.184Z"
   },
   {
    "duration": 128,
    "start_time": "2025-06-17T18:58:49.194Z"
   },
   {
    "duration": 0,
    "start_time": "2025-06-17T18:58:49.324Z"
   },
   {
    "duration": 9,
    "start_time": "2025-06-17T19:00:38.009Z"
   },
   {
    "duration": 10,
    "start_time": "2025-06-17T19:02:55.127Z"
   },
   {
    "duration": 11,
    "start_time": "2025-06-17T19:03:09.456Z"
   },
   {
    "duration": 11,
    "start_time": "2025-06-17T19:03:13.786Z"
   },
   {
    "duration": 51,
    "start_time": "2025-06-17T19:46:08.216Z"
   },
   {
    "duration": 6,
    "start_time": "2025-06-17T19:46:11.232Z"
   },
   {
    "duration": 6819,
    "start_time": "2025-06-17T19:46:16.949Z"
   },
   {
    "duration": 94,
    "start_time": "2025-06-17T19:46:23.770Z"
   },
   {
    "duration": 85,
    "start_time": "2025-06-17T19:46:23.865Z"
   },
   {
    "duration": 11,
    "start_time": "2025-06-17T19:46:23.952Z"
   },
   {
    "duration": 6,
    "start_time": "2025-06-17T19:46:23.965Z"
   },
   {
    "duration": 5,
    "start_time": "2025-06-17T19:46:23.973Z"
   },
   {
    "duration": 9,
    "start_time": "2025-06-17T19:46:23.980Z"
   },
   {
    "duration": 6,
    "start_time": "2025-06-17T19:46:23.991Z"
   },
   {
    "duration": 5,
    "start_time": "2025-06-17T19:46:23.999Z"
   },
   {
    "duration": 9,
    "start_time": "2025-06-17T19:46:24.007Z"
   },
   {
    "duration": 11,
    "start_time": "2025-06-17T19:46:24.018Z"
   },
   {
    "duration": 1955,
    "start_time": "2025-06-17T19:46:24.030Z"
   },
   {
    "duration": 12,
    "start_time": "2025-06-17T19:46:25.987Z"
   },
   {
    "duration": 21,
    "start_time": "2025-06-17T19:46:26.001Z"
   },
   {
    "duration": 26,
    "start_time": "2025-06-17T19:46:26.023Z"
   },
   {
    "duration": 118,
    "start_time": "2025-06-17T19:46:26.050Z"
   },
   {
    "duration": 9,
    "start_time": "2025-06-17T19:46:26.169Z"
   },
   {
    "duration": 41,
    "start_time": "2025-06-17T19:46:26.179Z"
   },
   {
    "duration": 51,
    "start_time": "2025-06-17T19:46:26.222Z"
   },
   {
    "duration": 66,
    "start_time": "2025-06-17T19:46:26.275Z"
   },
   {
    "duration": 13,
    "start_time": "2025-06-17T19:46:26.343Z"
   },
   {
    "duration": 137,
    "start_time": "2025-06-17T19:46:26.377Z"
   },
   {
    "duration": 13,
    "start_time": "2025-06-17T19:46:26.516Z"
   },
   {
    "duration": 83,
    "start_time": "2025-06-17T19:46:26.531Z"
   },
   {
    "duration": 5,
    "start_time": "2025-06-17T19:46:26.616Z"
   },
   {
    "duration": 20,
    "start_time": "2025-06-17T19:46:26.623Z"
   },
   {
    "duration": 14,
    "start_time": "2025-06-17T19:46:26.646Z"
   },
   {
    "duration": 19,
    "start_time": "2025-06-17T19:46:26.665Z"
   },
   {
    "duration": 6,
    "start_time": "2025-06-17T19:46:26.686Z"
   },
   {
    "duration": 108,
    "start_time": "2025-06-17T19:46:26.694Z"
   },
   {
    "duration": 129,
    "start_time": "2025-06-17T19:46:26.804Z"
   },
   {
    "duration": 493,
    "start_time": "2025-06-17T19:46:26.935Z"
   },
   {
    "duration": 18,
    "start_time": "2025-06-17T19:46:27.429Z"
   },
   {
    "duration": 91,
    "start_time": "2025-06-17T19:46:27.448Z"
   },
   {
    "duration": 6,
    "start_time": "2025-06-17T19:46:27.541Z"
   },
   {
    "duration": 39,
    "start_time": "2025-06-17T19:46:27.552Z"
   },
   {
    "duration": 13,
    "start_time": "2025-06-17T19:46:27.594Z"
   },
   {
    "duration": 10,
    "start_time": "2025-06-17T19:46:35.034Z"
   },
   {
    "duration": 10,
    "start_time": "2025-06-17T19:46:36.688Z"
   },
   {
    "duration": 5,
    "start_time": "2025-06-17T19:46:42.816Z"
   },
   {
    "duration": 5,
    "start_time": "2025-06-17T19:46:45.472Z"
   },
   {
    "duration": 4,
    "start_time": "2025-06-17T19:46:47.935Z"
   },
   {
    "duration": 5,
    "start_time": "2025-06-17T19:46:50.263Z"
   },
   {
    "duration": 7519,
    "start_time": "2025-06-18T15:10:30.626Z"
   },
   {
    "duration": 155,
    "start_time": "2025-06-18T15:10:38.147Z"
   },
   {
    "duration": 12,
    "start_time": "2025-06-18T15:10:38.304Z"
   },
   {
    "duration": 45,
    "start_time": "2025-06-18T15:10:38.318Z"
   },
   {
    "duration": 7,
    "start_time": "2025-06-18T15:10:38.365Z"
   },
   {
    "duration": 32,
    "start_time": "2025-06-18T15:10:38.374Z"
   },
   {
    "duration": 11,
    "start_time": "2025-06-18T15:10:38.408Z"
   },
   {
    "duration": 7,
    "start_time": "2025-06-18T15:10:38.421Z"
   },
   {
    "duration": 7,
    "start_time": "2025-06-18T15:13:03.373Z"
   },
   {
    "duration": 6,
    "start_time": "2025-06-18T15:13:27.960Z"
   },
   {
    "duration": 106,
    "start_time": "2025-06-18T15:14:07.803Z"
   },
   {
    "duration": 8,
    "start_time": "2025-06-18T15:14:40.083Z"
   },
   {
    "duration": 21,
    "start_time": "2025-06-18T15:17:55.187Z"
   },
   {
    "duration": 11,
    "start_time": "2025-06-18T15:22:54.816Z"
   },
   {
    "duration": 16,
    "start_time": "2025-06-18T15:23:14.697Z"
   },
   {
    "duration": 6,
    "start_time": "2025-06-18T15:23:21.546Z"
   },
   {
    "duration": 10,
    "start_time": "2025-06-18T15:24:34.845Z"
   },
   {
    "duration": 23,
    "start_time": "2025-06-18T15:25:10.541Z"
   },
   {
    "duration": 365,
    "start_time": "2025-06-18T15:25:44.931Z"
   },
   {
    "duration": 17,
    "start_time": "2025-06-18T15:25:57.001Z"
   },
   {
    "duration": 6,
    "start_time": "2025-06-18T15:30:13.275Z"
   },
   {
    "duration": 8,
    "start_time": "2025-06-18T15:31:10.497Z"
   },
   {
    "duration": 10,
    "start_time": "2025-06-18T15:31:24.707Z"
   },
   {
    "duration": 7,
    "start_time": "2025-06-18T15:46:43.113Z"
   },
   {
    "duration": 6,
    "start_time": "2025-06-18T15:47:01.523Z"
   },
   {
    "duration": 9,
    "start_time": "2025-06-18T15:47:17.025Z"
   },
   {
    "duration": 7,
    "start_time": "2025-06-18T15:47:57.745Z"
   },
   {
    "duration": 7,
    "start_time": "2025-06-18T15:48:10.195Z"
   },
   {
    "duration": 12,
    "start_time": "2025-06-18T15:51:36.767Z"
   },
   {
    "duration": 12,
    "start_time": "2025-06-18T15:51:45.624Z"
   },
   {
    "duration": 1640,
    "start_time": "2025-06-18T15:52:05.977Z"
   },
   {
    "duration": 27,
    "start_time": "2025-06-18T15:52:07.619Z"
   },
   {
    "duration": 38,
    "start_time": "2025-06-18T15:52:07.648Z"
   },
   {
    "duration": 12,
    "start_time": "2025-06-18T15:52:07.689Z"
   },
   {
    "duration": 118,
    "start_time": "2025-06-18T15:52:07.703Z"
   },
   {
    "duration": 86,
    "start_time": "2025-06-18T15:52:07.823Z"
   },
   {
    "duration": 15,
    "start_time": "2025-06-18T15:52:07.911Z"
   },
   {
    "duration": 53,
    "start_time": "2025-06-18T15:52:07.928Z"
   },
   {
    "duration": 79,
    "start_time": "2025-06-18T15:52:07.983Z"
   },
   {
    "duration": 12,
    "start_time": "2025-06-18T15:52:09.335Z"
   },
   {
    "duration": 136,
    "start_time": "2025-06-18T15:52:09.525Z"
   },
   {
    "duration": 11,
    "start_time": "2025-06-18T15:52:11.067Z"
   },
   {
    "duration": 17,
    "start_time": "2025-06-18T15:52:11.884Z"
   },
   {
    "duration": 5,
    "start_time": "2025-06-18T15:52:14.535Z"
   },
   {
    "duration": 11,
    "start_time": "2025-06-18T15:52:16.035Z"
   },
   {
    "duration": 10,
    "start_time": "2025-06-18T15:52:18.375Z"
   },
   {
    "duration": 15,
    "start_time": "2025-06-18T15:52:19.307Z"
   },
   {
    "duration": 6,
    "start_time": "2025-06-18T15:52:21.005Z"
   },
   {
    "duration": 87,
    "start_time": "2025-06-18T15:52:23.154Z"
   },
   {
    "duration": 147,
    "start_time": "2025-06-18T15:52:25.937Z"
   },
   {
    "duration": 459,
    "start_time": "2025-06-18T15:52:28.243Z"
   },
   {
    "duration": 15,
    "start_time": "2025-06-18T15:52:29.837Z"
   },
   {
    "duration": 93,
    "start_time": "2025-06-18T15:52:31.527Z"
   },
   {
    "duration": 7,
    "start_time": "2025-06-18T15:52:32.286Z"
   },
   {
    "duration": 11,
    "start_time": "2025-06-18T15:52:40.577Z"
   },
   {
    "duration": 17,
    "start_time": "2025-06-18T15:55:07.513Z"
   },
   {
    "duration": 55,
    "start_time": "2025-06-18T18:41:47.310Z"
   },
   {
    "duration": 7742,
    "start_time": "2025-06-18T18:41:57.244Z"
   },
   {
    "duration": 56,
    "start_time": "2025-06-18T18:42:04.988Z"
   },
   {
    "duration": 13,
    "start_time": "2025-06-18T18:42:05.046Z"
   },
   {
    "duration": 90,
    "start_time": "2025-06-18T18:42:05.060Z"
   },
   {
    "duration": 6,
    "start_time": "2025-06-18T18:42:05.152Z"
   },
   {
    "duration": 20,
    "start_time": "2025-06-18T18:42:05.160Z"
   },
   {
    "duration": 10,
    "start_time": "2025-06-18T18:42:05.181Z"
   },
   {
    "duration": 7,
    "start_time": "2025-06-18T18:42:11.758Z"
   },
   {
    "duration": 12,
    "start_time": "2025-06-18T18:42:12.612Z"
   },
   {
    "duration": 9,
    "start_time": "2025-06-18T18:42:24.593Z"
   },
   {
    "duration": 8,
    "start_time": "2025-06-18T18:42:28.953Z"
   },
   {
    "duration": 9,
    "start_time": "2025-06-18T18:43:23.714Z"
   },
   {
    "duration": 7,
    "start_time": "2025-06-18T18:43:32.986Z"
   },
   {
    "duration": 3,
    "start_time": "2025-06-18T18:45:23.624Z"
   },
   {
    "duration": 5,
    "start_time": "2025-06-18T18:45:37.310Z"
   },
   {
    "duration": 81,
    "start_time": "2025-06-18T18:45:49.136Z"
   },
   {
    "duration": 5,
    "start_time": "2025-06-18T18:45:57.379Z"
   },
   {
    "duration": 11,
    "start_time": "2025-06-18T18:49:41.480Z"
   },
   {
    "duration": 8,
    "start_time": "2025-06-18T18:59:34.387Z"
   },
   {
    "duration": 15,
    "start_time": "2025-06-18T19:00:27.491Z"
   },
   {
    "duration": 2929,
    "start_time": "2025-06-18T19:02:10.484Z"
   },
   {
    "duration": 45,
    "start_time": "2025-06-18T19:03:30.552Z"
   },
   {
    "duration": 78,
    "start_time": "2025-06-18T19:07:10.581Z"
   },
   {
    "duration": 12,
    "start_time": "2025-06-18T19:07:31.102Z"
   },
   {
    "duration": 195,
    "start_time": "2025-06-18T19:09:00.960Z"
   },
   {
    "duration": 149,
    "start_time": "2025-06-18T19:09:33.575Z"
   },
   {
    "duration": 297,
    "start_time": "2025-06-18T19:09:55.419Z"
   },
   {
    "duration": 296,
    "start_time": "2025-06-18T19:10:07.136Z"
   },
   {
    "duration": 4,
    "start_time": "2025-06-18T19:11:09.498Z"
   },
   {
    "duration": 5,
    "start_time": "2025-06-18T19:13:48.221Z"
   },
   {
    "duration": 6,
    "start_time": "2025-06-18T19:14:10.471Z"
   },
   {
    "duration": 9,
    "start_time": "2025-06-18T19:15:22.366Z"
   },
   {
    "duration": 8,
    "start_time": "2025-06-18T19:15:41.987Z"
   },
   {
    "duration": 387,
    "start_time": "2025-06-18T19:15:46.227Z"
   },
   {
    "duration": 16,
    "start_time": "2025-06-18T19:17:39.280Z"
   },
   {
    "duration": 87,
    "start_time": "2025-06-18T19:19:09.437Z"
   },
   {
    "duration": 88,
    "start_time": "2025-06-18T19:19:16.096Z"
   },
   {
    "duration": 1913,
    "start_time": "2025-06-18T19:20:18.843Z"
   },
   {
    "duration": 13,
    "start_time": "2025-06-18T19:20:20.760Z"
   },
   {
    "duration": 14,
    "start_time": "2025-06-18T19:20:20.775Z"
   },
   {
    "duration": 27,
    "start_time": "2025-06-18T19:20:20.791Z"
   },
   {
    "duration": 128,
    "start_time": "2025-06-18T19:20:20.820Z"
   },
   {
    "duration": 10,
    "start_time": "2025-06-18T19:20:23.617Z"
   },
   {
    "duration": 13,
    "start_time": "2025-06-18T19:20:23.893Z"
   },
   {
    "duration": 57,
    "start_time": "2025-06-18T19:20:24.072Z"
   },
   {
    "duration": 70,
    "start_time": "2025-06-18T19:20:24.275Z"
   },
   {
    "duration": 13,
    "start_time": "2025-06-18T19:20:27.015Z"
   },
   {
    "duration": 129,
    "start_time": "2025-06-18T19:20:27.369Z"
   },
   {
    "duration": 13,
    "start_time": "2025-06-18T19:20:27.760Z"
   },
   {
    "duration": 18,
    "start_time": "2025-06-18T19:20:27.946Z"
   },
   {
    "duration": 6,
    "start_time": "2025-06-18T19:20:28.339Z"
   },
   {
    "duration": 12,
    "start_time": "2025-06-18T19:20:28.706Z"
   },
   {
    "duration": 12,
    "start_time": "2025-06-18T19:20:29.071Z"
   },
   {
    "duration": 14,
    "start_time": "2025-06-18T19:20:29.240Z"
   },
   {
    "duration": 5,
    "start_time": "2025-06-18T19:20:31.160Z"
   },
   {
    "duration": 96,
    "start_time": "2025-06-18T19:20:31.717Z"
   },
   {
    "duration": 134,
    "start_time": "2025-06-18T19:20:32.287Z"
   },
   {
    "duration": 459,
    "start_time": "2025-06-18T19:20:34.585Z"
   },
   {
    "duration": 23,
    "start_time": "2025-06-18T19:20:35.046Z"
   },
   {
    "duration": 85,
    "start_time": "2025-06-18T19:20:45.929Z"
   },
   {
    "duration": 6,
    "start_time": "2025-06-18T19:20:46.390Z"
   },
   {
    "duration": 20,
    "start_time": "2025-06-18T19:21:22.733Z"
   },
   {
    "duration": 14,
    "start_time": "2025-06-18T19:25:27.185Z"
   },
   {
    "duration": 10,
    "start_time": "2025-06-18T19:26:39.869Z"
   },
   {
    "duration": 10,
    "start_time": "2025-06-18T19:27:37.396Z"
   },
   {
    "duration": 12,
    "start_time": "2025-06-18T19:28:12.371Z"
   },
   {
    "duration": 11,
    "start_time": "2025-06-18T19:28:19.118Z"
   },
   {
    "duration": 86,
    "start_time": "2025-06-18T19:29:44.597Z"
   },
   {
    "duration": 2777,
    "start_time": "2025-06-18T19:30:16.997Z"
   },
   {
    "duration": 493,
    "start_time": "2025-06-18T19:30:19.776Z"
   },
   {
    "duration": 10,
    "start_time": "2025-06-18T19:30:20.271Z"
   },
   {
    "duration": 13,
    "start_time": "2025-06-18T19:30:20.283Z"
   },
   {
    "duration": 7,
    "start_time": "2025-06-18T19:30:20.298Z"
   },
   {
    "duration": 5,
    "start_time": "2025-06-18T19:30:20.307Z"
   },
   {
    "duration": 11,
    "start_time": "2025-06-18T19:30:20.314Z"
   },
   {
    "duration": 11,
    "start_time": "2025-06-18T19:30:20.360Z"
   },
   {
    "duration": 7,
    "start_time": "2025-06-18T19:30:20.373Z"
   },
   {
    "duration": 49,
    "start_time": "2025-06-18T19:30:20.381Z"
   },
   {
    "duration": 44,
    "start_time": "2025-06-18T19:30:20.432Z"
   },
   {
    "duration": 4,
    "start_time": "2025-06-18T19:30:20.478Z"
   },
   {
    "duration": 16,
    "start_time": "2025-06-18T19:30:20.484Z"
   },
   {
    "duration": 11,
    "start_time": "2025-06-18T19:30:20.503Z"
   },
   {
    "duration": 13,
    "start_time": "2025-06-18T19:30:20.515Z"
   },
   {
    "duration": 34,
    "start_time": "2025-06-18T19:30:20.530Z"
   },
   {
    "duration": 373,
    "start_time": "2025-06-18T19:30:20.566Z"
   },
   {
    "duration": 22,
    "start_time": "2025-06-18T19:30:20.941Z"
   },
   {
    "duration": 1532,
    "start_time": "2025-06-18T19:30:20.965Z"
   },
   {
    "duration": 13,
    "start_time": "2025-06-18T19:30:22.499Z"
   },
   {
    "duration": 10,
    "start_time": "2025-06-18T19:30:22.514Z"
   },
   {
    "duration": 36,
    "start_time": "2025-06-18T19:30:22.526Z"
   },
   {
    "duration": 145,
    "start_time": "2025-06-18T19:30:22.564Z"
   },
   {
    "duration": 9,
    "start_time": "2025-06-18T19:30:22.711Z"
   },
   {
    "duration": 18,
    "start_time": "2025-06-18T19:30:22.722Z"
   },
   {
    "duration": 63,
    "start_time": "2025-06-18T19:30:22.742Z"
   },
   {
    "duration": 79,
    "start_time": "2025-06-18T19:30:22.807Z"
   },
   {
    "duration": 74,
    "start_time": "2025-06-18T19:30:22.888Z"
   },
   {
    "duration": 137,
    "start_time": "2025-06-18T19:30:22.964Z"
   },
   {
    "duration": 11,
    "start_time": "2025-06-18T19:30:23.104Z"
   },
   {
    "duration": 16,
    "start_time": "2025-06-18T19:30:23.117Z"
   },
   {
    "duration": 30,
    "start_time": "2025-06-18T19:30:23.134Z"
   },
   {
    "duration": 12,
    "start_time": "2025-06-18T19:30:23.166Z"
   },
   {
    "duration": 10,
    "start_time": "2025-06-18T19:30:23.179Z"
   },
   {
    "duration": 13,
    "start_time": "2025-06-18T19:30:23.190Z"
   },
   {
    "duration": 5,
    "start_time": "2025-06-18T19:30:23.205Z"
   },
   {
    "duration": 129,
    "start_time": "2025-06-18T19:30:23.212Z"
   },
   {
    "duration": 138,
    "start_time": "2025-06-18T19:30:23.343Z"
   },
   {
    "duration": 423,
    "start_time": "2025-06-18T19:30:23.483Z"
   },
   {
    "duration": 18,
    "start_time": "2025-06-18T19:30:23.908Z"
   },
   {
    "duration": 126,
    "start_time": "2025-06-18T19:30:23.930Z"
   },
   {
    "duration": 8,
    "start_time": "2025-06-18T19:30:24.057Z"
   },
   {
    "duration": 11,
    "start_time": "2025-06-18T19:30:24.067Z"
   }
  ],
  "colab": {
   "provenance": [],
   "toc_visible": true
  },
  "kernelspec": {
   "display_name": "Python 3 (ipykernel)",
   "language": "python",
   "name": "python3"
  },
  "language_info": {
   "codemirror_mode": {
    "name": "ipython",
    "version": 3
   },
   "file_extension": ".py",
   "mimetype": "text/x-python",
   "name": "python",
   "nbconvert_exporter": "python",
   "pygments_lexer": "ipython3",
   "version": "3.9.23"
  },
  "toc": {
   "base_numbering": 1,
   "nav_menu": {},
   "number_sections": true,
   "sideBar": true,
   "skip_h1_title": true,
   "title_cell": "Table of Contents",
   "title_sidebar": "Contents",
   "toc_cell": false,
   "toc_position": {},
   "toc_section_display": true,
   "toc_window_display": true
  }
 },
 "nbformat": 4,
 "nbformat_minor": 5
}
