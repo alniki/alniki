{
 "cells": [
  {
   "cell_type": "markdown",
   "metadata": {
    "id": "LMuaGIE3lGcr"
   },
   "source": [
    "# Исследование данных сервиса покупки билетов"
   ]
  },
  {
   "cell_type": "markdown",
   "metadata": {},
   "source": [
    "Исполнитель: Никитина Александра  \n",
    "Email: nikilinalexa@gmail.com  \n",
    "Telegram: `https://t.me/alexandrakilina`"
   ]
  },
  {
   "cell_type": "markdown",
   "metadata": {},
   "source": [
    "**Содержимое проекта**:\n",
    "1. Введение\n",
    "2. Загрузка данных, предобработка и подготовка к исследованию\n",
    "3. Исследовательский анализ данных\n",
    "4. Статистический анализ данных\n",
    "5. Выводы и рекомендации"
   ]
  },
  {
   "cell_type": "markdown",
   "metadata": {},
   "source": [
    "## Введение"
   ]
  },
  {
   "cell_type": "markdown",
   "metadata": {},
   "source": [
    "**Цели исследования**:\n",
    "Провести исследовательский анализ данных сервиса Яндекс.Афиша с упором на изучение изменения активности пользователей осенью по сравнению с летним периодом.\n",
    "\n",
    "**Задачи**:\n",
    "\n",
    "Часть 1.\n",
    "* Загрузить данные датасетов `*название файла скрыто*.csv`, `*название файла скрыто*.csv`, `*название файла скрыто*.csv`.\n",
    "* Изучить данные датасетов и ознакомиться с ними\n",
    "* Провести предобработку данных и подготовить их к исследованию\n",
    "* Сформировать новые столбцы, необходимые для дальнейшего анализа\n",
    "* Сформировать датафрейм, который будет использоваться для исследовательского анализа данных\n",
    "\n",
    "*Внимание! Часть информации о данных датасетов при ознакомлении с ними - скрыта*\n",
    "\n",
    "Часть 2.\n",
    "* Проанализировать распределение заказов по сегментам и их сезонные изменения\n",
    "* Проанализировать осеннюю активность пользователей и популярность событий\n",
    "* Изучить, как популярные события распределены по регионам и партнерам\n",
    "* Проверить гипотезы относительно активности пользователей мобильных устройств:\n",
    "  * Гипотеза относительно активности пользователей мобильных и стационарных устройств\n",
    " H0: Среднее количество заказов на одного пользователя мобильного приложения равно среднему количеству заказов пользователей стационарных устройств.\n",
    " Н1: Среднее количество заказов на одного пользователя мобильного приложения выше по сравнению с пользователями стационарных устройств.\n",
    "  * Гипотеза относительно активности пользователей мобильных и стационарных устройств\n",
    " H0: Среднее время между заказами пользователей мобильных приложений такое же, как и у пользователей стационарных устройств.\n",
    " Н1: Среднее время между заказами пользователей мобильных приложений выше по сравнению с пользователями стационарных устройств.\n",
    "\n",
    "\n",
    "**Информация о датасетах**\n",
    "\n",
    "Датасет с информацией о заказах билетов:\\\n",
    " *Подробная информация о полях датасета скрыта*\n",
    "\n",
    "Датасет с информацией о мероприятиях:\\\n",
    " *Подробная информация о полях датасета скрыта*\n",
    "\n",
    "Датасет с информацией о курсах валют:\\\n",
    " *Подробная информация о полях датасета скрыта*"
   ]
  },
  {
   "cell_type": "markdown",
   "metadata": {},
   "source": [
    "## Загрузка данных, предобработка и подготовка к исследованию"
   ]
  },
  {
   "cell_type": "markdown",
   "metadata": {},
   "source": [
    "###  Шаг 1. Загрузка данных и знакомство с ними"
   ]
  },
  {
   "cell_type": "markdown",
   "metadata": {},
   "source": [
    "Названия файлов: \n",
    "\n",
    "1. *название файла скрыто.csv* - информация обо всех заказах билетов, совершенных с двух типов устройств - мобильных и стационарных\n",
    "2. *название файла скрыто.csv* - информация о событиях, включая город и регион события, информация о площадке проведения мероприятия\n",
    "3. *название файла скрыто.csv* - информация о курсе тенге к российскому рублю за 2024 год, значения в рублях для 100 тенге"
   ]
  },
  {
   "cell_type": "markdown",
   "metadata": {},
   "source": [
    "#### Вывод общей информации"
   ]
  },
  {
   "cell_type": "code",
   "execution_count": 1,
   "metadata": {},
   "outputs": [
    {
     "name": "stdout",
     "output_type": "stream",
     "text": [
      "Requirement already satisfied: jupyter-black in c:\\users\\user\\anaconda3\\envs\\practicum\\lib\\site-packages (0.4.0)\n",
      "Requirement already satisfied: black>=21 in c:\\users\\user\\anaconda3\\envs\\practicum\\lib\\site-packages (from black[jupyter]>=21->jupyter-black) (25.1.0)\n",
      "Requirement already satisfied: click>=8.0.0 in c:\\users\\user\\anaconda3\\envs\\practicum\\lib\\site-packages (from black>=21->black[jupyter]>=21->jupyter-black) (8.1.8)\n",
      "Requirement already satisfied: mypy-extensions>=0.4.3 in c:\\users\\user\\anaconda3\\envs\\practicum\\lib\\site-packages (from black>=21->black[jupyter]>=21->jupyter-black) (1.1.0)\n",
      "Requirement already satisfied: packaging>=22.0 in c:\\users\\user\\anaconda3\\envs\\practicum\\lib\\site-packages (from black>=21->black[jupyter]>=21->jupyter-black) (25.0)\n",
      "Requirement already satisfied: pathspec>=0.9.0 in c:\\users\\user\\anaconda3\\envs\\practicum\\lib\\site-packages (from black>=21->black[jupyter]>=21->jupyter-black) (0.12.1)\n",
      "Requirement already satisfied: platformdirs>=2 in c:\\users\\user\\anaconda3\\envs\\practicum\\lib\\site-packages (from black>=21->black[jupyter]>=21->jupyter-black) (4.3.8)\n",
      "Requirement already satisfied: tomli>=1.1.0 in c:\\users\\user\\anaconda3\\envs\\practicum\\lib\\site-packages (from black>=21->black[jupyter]>=21->jupyter-black) (2.2.1)\n",
      "Requirement already satisfied: typing-extensions>=4.0.1 in c:\\users\\user\\anaconda3\\envs\\practicum\\lib\\site-packages (from black>=21->black[jupyter]>=21->jupyter-black) (4.14.1)\n",
      "Requirement already satisfied: ipython>=7.8.0 in c:\\users\\user\\anaconda3\\envs\\practicum\\lib\\site-packages (from black[jupyter]>=21->jupyter-black) (8.18.1)\n",
      "Requirement already satisfied: tokenize-rt>=3.2.0 in c:\\users\\user\\anaconda3\\envs\\practicum\\lib\\site-packages (from black[jupyter]>=21->jupyter-black) (6.2.0)\n",
      "Requirement already satisfied: colorama in c:\\users\\user\\anaconda3\\envs\\practicum\\lib\\site-packages (from click>=8.0.0->black>=21->black[jupyter]>=21->jupyter-black) (0.4.6)\n",
      "Requirement already satisfied: decorator in c:\\users\\user\\anaconda3\\envs\\practicum\\lib\\site-packages (from ipython>=7.8.0->black[jupyter]>=21->jupyter-black) (5.2.1)\n",
      "Requirement already satisfied: jedi>=0.16 in c:\\users\\user\\anaconda3\\envs\\practicum\\lib\\site-packages (from ipython>=7.8.0->black[jupyter]>=21->jupyter-black) (0.19.2)\n",
      "Requirement already satisfied: matplotlib-inline in c:\\users\\user\\anaconda3\\envs\\practicum\\lib\\site-packages (from ipython>=7.8.0->black[jupyter]>=21->jupyter-black) (0.1.7)\n",
      "Requirement already satisfied: prompt-toolkit<3.1.0,>=3.0.41 in c:\\users\\user\\anaconda3\\envs\\practicum\\lib\\site-packages (from ipython>=7.8.0->black[jupyter]>=21->jupyter-black) (3.0.51)\n",
      "Requirement already satisfied: pygments>=2.4.0 in c:\\users\\user\\anaconda3\\envs\\practicum\\lib\\site-packages (from ipython>=7.8.0->black[jupyter]>=21->jupyter-black) (2.19.2)\n",
      "Requirement already satisfied: stack-data in c:\\users\\user\\anaconda3\\envs\\practicum\\lib\\site-packages (from ipython>=7.8.0->black[jupyter]>=21->jupyter-black) (0.6.3)\n",
      "Requirement already satisfied: traitlets>=5 in c:\\users\\user\\anaconda3\\envs\\practicum\\lib\\site-packages (from ipython>=7.8.0->black[jupyter]>=21->jupyter-black) (5.14.3)\n",
      "Requirement already satisfied: exceptiongroup in c:\\users\\user\\anaconda3\\envs\\practicum\\lib\\site-packages (from ipython>=7.8.0->black[jupyter]>=21->jupyter-black) (1.3.0)\n",
      "Requirement already satisfied: wcwidth in c:\\users\\user\\anaconda3\\envs\\practicum\\lib\\site-packages (from prompt-toolkit<3.1.0,>=3.0.41->ipython>=7.8.0->black[jupyter]>=21->jupyter-black) (0.2.13)\n",
      "Requirement already satisfied: parso<0.9.0,>=0.8.4 in c:\\users\\user\\anaconda3\\envs\\practicum\\lib\\site-packages (from jedi>=0.16->ipython>=7.8.0->black[jupyter]>=21->jupyter-black) (0.8.4)\n",
      "Requirement already satisfied: executing>=1.2.0 in c:\\users\\user\\anaconda3\\envs\\practicum\\lib\\site-packages (from stack-data->ipython>=7.8.0->black[jupyter]>=21->jupyter-black) (2.2.0)\n",
      "Requirement already satisfied: asttokens>=2.1.0 in c:\\users\\user\\anaconda3\\envs\\practicum\\lib\\site-packages (from stack-data->ipython>=7.8.0->black[jupyter]>=21->jupyter-black) (3.0.0)\n",
      "Requirement already satisfied: pure_eval in c:\\users\\user\\anaconda3\\envs\\practicum\\lib\\site-packages (from stack-data->ipython>=7.8.0->black[jupyter]>=21->jupyter-black) (0.2.3)\n"
     ]
    }
   ],
   "source": [
    "# Импортируем библиотеки\n",
    "import pandas as pd\n",
    "\n",
    "# установим библиотеку jupyter-black для автоматического форматирования кода\n",
    "!pip install jupyter-black\n",
    "\n",
    "# Импортируем библиотеку jupyter_black\n",
    "import jupyter_black\n",
    "\n",
    "# Импортируем библиотеку matplotlib\n",
    "import matplotlib.pyplot as plt\n",
    "\n",
    "# Импортируем библиотеку seaborn\n",
    "import seaborn as sns\n",
    "\n",
    "# Импортируем библиотеку для проведения теста шапиро\n",
    "from scipy.stats import shapiro\n",
    "\n",
    "# Импортируем тест Манна-Уитни\n",
    "from scipy.stats import mannwhitneyu\n",
    "\n",
    "# Импортируем библиотеку scipy\n",
    "from scipy import stats as st\n",
    "\n",
    "# Установим библиотеку matplotlib-venn и импортируем функцию venn2 из библиотеки matplotlib\n",
    "!pip install matplotlib-venn -q\n",
    "from matplotlib_venn import venn2"
   ]
  },
  {
   "cell_type": "markdown",
   "metadata": {},
   "source": [
    "**Изучим датафрейм df_orders**"
   ]
  },
  {
   "cell_type": "code",
   "execution_count": 2,
   "metadata": {},
   "outputs": [],
   "source": [
    "# Выгружаем данные в переменные df_orders, df_events, df_currency\n",
    "url = \"информация скрыта\"\n",
    "df_orders = pd.read_csv(url+'информация скрыта.csv')\n",
    "df_events = pd.read_csv(url+'информация скрыта.csv')\n",
    "df_currency = pd.read_csv(url+'информация скрыта.csv')"
   ]
  },
  {
   "cell_type": "code",
   "execution_count": 3,
   "metadata": {},
   "outputs": [],
   "source": [
    "# Выведем информацию о датафрейме df_orders\n",
    "#df_orders.info()"
   ]
  },
  {
   "cell_type": "code",
   "execution_count": 92,
   "metadata": {},
   "outputs": [],
   "source": [
    "# Посчитаем количество пустых значений\n",
    "#df_orders.isna().sum()"
   ]
  },
  {
   "cell_type": "code",
   "execution_count": 5,
   "metadata": {},
   "outputs": [],
   "source": [
    "# Выведем первые 5 строк датафрейма df_orders\n",
    "#df_orders.head()"
   ]
  },
  {
   "cell_type": "markdown",
   "metadata": {},
   "source": [
    "Датафрейм `df_orders` включает в себя 290849 строк и 14 полей:\\\n",
    " *Подробная информация о полях и типах данных удалена, так как защищена авторским правом*\n",
    "\n",
    " * уникальный идентификатор заказа, необходимо понизить размерность\n",
    " * уникальный идентификатор пользователя\n",
    " * дата создания заказа, необходимо привести к типу данных для даты\n",
    " * дата и время создания заказа (московское время), необходимо привести к типу данных для даты\n",
    " * идентификатор мероприятия\n",
    " * название сети кинотеатров\n",
    " * возрастное ограничение мероприятия\n",
    " * валюта оплаты\n",
    " * тип устройства, с которого был оформлен заказ (mobile / desktop)\n",
    " * выручка от заказа, необходимо проверить на наличие выбросов, возможно отфильтровать данные, либо убедиться в том, что распределение смещено и данные не являются выбросами\n",
    " * название билетного оператор\n",
    " * количество купленных билетов, необходимо проверить на наличие выбросов\n",
    " * общая сумма заказа, необходимо проверить на наличие выбросов.\n",
    " * количество дней с предыдущей покупки для каждого пользователя. Если покупки не было, то данные содержат пропуск.\n"
   ]
  },
  {
   "cell_type": "markdown",
   "metadata": {},
   "source": [
    "**Изучим датафрейм df_events**"
   ]
  },
  {
   "cell_type": "code",
   "execution_count": 6,
   "metadata": {},
   "outputs": [],
   "source": [
    "# Выведем информацию о датафрейме df_events\n",
    "#df_events.info()"
   ]
  },
  {
   "cell_type": "code",
   "execution_count": 7,
   "metadata": {},
   "outputs": [],
   "source": [
    "## Посчитаем количество пустых значений\n",
    "#df_events.isna().sum()"
   ]
  },
  {
   "cell_type": "code",
   "execution_count": 8,
   "metadata": {},
   "outputs": [],
   "source": [
    "# Выведем первые 5 строк датафрейма df_events\n",
    "#df_events.head()"
   ]
  },
  {
   "cell_type": "markdown",
   "metadata": {},
   "source": [
    "Датафрейм `df_events` включает в себя 22427 строк и 11 полей:\\\n",
    " *Подробная информация о полях и типах данных удалена, так как защищена авторским правом*\n",
    " * уникальный идентификатор мероприятия\n",
    " * название мероприятия\n",
    " * описание типа мероприятия\n",
    " * основной тип мероприятия\n",
    " * организатор мероприятия\n",
    " * название региона\n",
    " * название город\n",
    " * уникальный идентификатор площадки\n",
    " * название площадки\n",
    " * адрес площадки"
   ]
  },
  {
   "cell_type": "markdown",
   "metadata": {},
   "source": [
    "**Изучим датафрейм df_currency**"
   ]
  },
  {
   "cell_type": "code",
   "execution_count": 9,
   "metadata": {},
   "outputs": [],
   "source": [
    "# Выведем информацию о датафрейме df_currency\n",
    "#df_currency.info()"
   ]
  },
  {
   "cell_type": "code",
   "execution_count": 10,
   "metadata": {},
   "outputs": [],
   "source": [
    "# Посчитаем количество пустых значений\n",
    "#df_currency.isna().sum()"
   ]
  },
  {
   "cell_type": "code",
   "execution_count": 11,
   "metadata": {},
   "outputs": [],
   "source": [
    "# Выведем первые 5 строк датафрейма df_currency\n",
    "#df_currency.head()"
   ]
  },
  {
   "cell_type": "markdown",
   "metadata": {},
   "source": [
    "Датафрейм `df_currency` включает в себя 357 строк и 4 поля:\\\n",
    " *Подробная информация о полях и типах данных удалена, так как защищена авторским правом*\\\n",
    "\n",
    " * дата\n",
    " * номинал\n",
    " * курс валюты к рублю\n",
    " * обозначение валюты"
   ]
  },
  {
   "cell_type": "markdown",
   "metadata": {
    "jp-MarkdownHeadingCollapsed": true
   },
   "source": [
    "#### Вывод по результатам Шага 1 \"Загрузка данных и знакомство с ними\":\n",
    "\n",
    "Перед проведением предобработки объединим данные датафрейма `df_orders` и `df_events` в один датафрейм\n",
    "\n",
    "В ходе предобработки данных необходимо выполнить следующее для столбцов, которые будут участвовать в дальнейшем анализе данных и проверке гипотез:\n",
    "\n",
    " * Проверить категориальные значения на уникальность\n",
    " * Проверить наличие выбросов в столбцах с непрерывными данными\n",
    " * Изменить тип данных в столбцах с датой\n",
    " * Проверить наличие явных и неявных дубликатов\n",
    " * Уменьшить разрядность int, если применимо\n",
    " \n"
   ]
  },
  {
   "cell_type": "markdown",
   "metadata": {},
   "source": [
    "### Шаг 2. Предобработка данных и подготовка их к исследованию"
   ]
  },
  {
   "cell_type": "markdown",
   "metadata": {},
   "source": [
    "#### Объединение датафреймов"
   ]
  },
  {
   "cell_type": "code",
   "execution_count": 12,
   "metadata": {},
   "outputs": [],
   "source": [
    "# Объединим датафреймы df_orders и df_events по полю event_id\n",
    "df = df_orders.merge(df_events, on='event_id', how='left')\n",
    "\n",
    "#Выведем первые строки объединенного датафрейма\n",
    "#df.head()"
   ]
  },
  {
   "cell_type": "markdown",
   "metadata": {},
   "source": [
    "**Вывод:**\n",
    "Получен датафрейм `df`, объединяющий в себе `df_orders` и `df_events` по полю `event_id`"
   ]
  },
  {
   "cell_type": "markdown",
   "metadata": {},
   "source": [
    "#### Проверка данных объединенного датафрейма на пропуски"
   ]
  },
  {
   "cell_type": "code",
   "execution_count": 13,
   "metadata": {},
   "outputs": [],
   "source": [
    "#Проверим еще раз данные на пропуски\n",
    "#df.isna().sum()"
   ]
  },
  {
   "cell_type": "markdown",
   "metadata": {},
   "source": [
    "*Промежуточный вывод:*\\\n",
    "Наблюдается 21940 пропусков в days_since_prev.\\\n",
    "Кроме этого, при объединении датафреймов, по-видимому информация не для всех мероприятий присутствовала в датафрейме df_events, все столбцы датафрейма event_id включают в себя 238 пропусков.\\\n",
    "Посчитаем процент пропусков на примере столбца event_name, после чего примем решение, что делать с выявленными пропусками"
   ]
  },
  {
   "cell_type": "code",
   "execution_count": 14,
   "metadata": {},
   "outputs": [
    {
     "data": {
      "text/plain": [
       "'Датафрейм df содержит 290849 строк'"
      ]
     },
     "metadata": {},
     "output_type": "display_data"
    },
    {
     "data": {
      "text/plain": [
       "'Поле event_name содержит 238 пустых строк'"
      ]
     },
     "metadata": {},
     "output_type": "display_data"
    },
    {
     "data": {
      "text/plain": [
       "'Доля пропусков в event_name составляет 0.08%'"
      ]
     },
     "metadata": {},
     "output_type": "display_data"
    }
   ],
   "source": [
    "# Посчитаем кол-во строк в датафрейме\n",
    "df_rows_count = len(df)\n",
    "display(f'Датафрейм df содержит {df_rows_count} строк')\n",
    "\n",
    "# Посчитаем количество пропусков в строке event_name\n",
    "df_na_count_event_name = df['event_name'].isna().sum()\n",
    "display(f'Поле event_name содержит {df_na_count_event_name} пустых строк')\n",
    "\n",
    "# Посчитаем долю пропусков в строке event_name\n",
    "event_name_na_share = round(df_na_count_event_name / df_rows_count * 100, 2)\n",
    "display(f'Доля пропусков в event_name составляет {event_name_na_share}%')"
   ]
  },
  {
   "cell_type": "markdown",
   "metadata": {},
   "source": [
    "*Промежуточный вывод*\\\n",
    "Так как доля пропусков составляет меньше 1 процента, их можно удалить"
   ]
  },
  {
   "cell_type": "code",
   "execution_count": 15,
   "metadata": {},
   "outputs": [
    {
     "data": {
      "text/plain": [
       "'Количество строк в очищенном датафрейме df_clean: 290611'"
      ]
     },
     "metadata": {},
     "output_type": "display_data"
    }
   ],
   "source": [
    "# удалим поля с пропусками в строке event_name\n",
    "df_clean = df[~df['event_name'].isna()]\n",
    "\n",
    "# Посчитаем количество строк в новом датафрейме\n",
    "display(f'Количество строк в очищенном датафрейме df_clean: {len(df_clean)}')"
   ]
  },
  {
   "cell_type": "markdown",
   "metadata": {},
   "source": [
    "**Вывод:**\\\n",
    "В объединенном датафрейме `df` ожидаемо наблюдаются пропуски в `days_since_prev` в количестве 21940 ввиду особенностей сбора данных.\\ \n",
    "Кроме этого, при объединении датафреймов, по-видимому не для всех `event_id` присутствовала информация в датафрейме `df_events`, в результате чего во всех полях, присоединенных от датафрейма `df_events`, присутствует 238 пустых строк, которые составляют 0.08% от общего количества строк.\\\n",
    "В связи с тем, что потеря 0.08% строк от их общего количества не повлияет на результаты анализа, было решено удалить эти строки.\\\n",
    "Сформирован датафрейм `df_clean`.\n",
    "\n"
   ]
  },
  {
   "cell_type": "markdown",
   "metadata": {},
   "source": [
    "#### Изучение значений в ключевых столбцах объединенного датафрейма"
   ]
  },
  {
   "cell_type": "markdown",
   "metadata": {},
   "source": [
    "Перечень столбцов, которые потребуются для дальнейшей работы:\n",
    "1. created_dt_msk\n",
    "2. event_type_main - категориальное знечение\n",
    "3. device_type_canonical - категориальное знечение\n",
    "4. age_limit - категориальное значение\n",
    "5. order_id\n",
    "6. revenue - количественное значение. Для kzt нужно будет потом пересчитать в рубли\n",
    "7. tickets_count -количественное значение.\n",
    "8. event_id\n",
    "9. region_name - категориальное знечение\n",
    "10. service_name - - категориальное знечение\n",
    "11. user_id\n",
    "\n",
    "Изучим значения в этих столбцах, а также изучим значения в столбцах датафрейма df_currency "
   ]
  },
  {
   "cell_type": "markdown",
   "metadata": {},
   "source": [
    "##### Категориальные значения"
   ]
  },
  {
   "cell_type": "code",
   "execution_count": 16,
   "metadata": {},
   "outputs": [],
   "source": [
    "# Изучим категориальные данные в столбце event_type_main\n",
    "#df_clean['event_type_main'].value_counts()"
   ]
  },
  {
   "cell_type": "code",
   "execution_count": 17,
   "metadata": {},
   "outputs": [
    {
     "data": {
      "text/plain": [
       "mobile     232490\n",
       "desktop     58121\n",
       "Name: device_type_canonical, dtype: int64"
      ]
     },
     "execution_count": 17,
     "metadata": {},
     "output_type": "execute_result"
    }
   ],
   "source": [
    "# Изучим категориальные данные в столбце device_type_canonical\n",
    "df_clean['device_type_canonical'].value_counts()"
   ]
  },
  {
   "cell_type": "code",
   "execution_count": 18,
   "metadata": {},
   "outputs": [],
   "source": [
    "# Изучим категориальные данные в столбце age_limit\n",
    "#df_clean['age_limit'].value_counts()"
   ]
  },
  {
   "cell_type": "code",
   "execution_count": 19,
   "metadata": {},
   "outputs": [],
   "source": [
    "# Изучим категориальные данные в столбце region_name\n",
    "#df_clean['region_name'].value_counts()"
   ]
  },
  {
   "cell_type": "markdown",
   "metadata": {},
   "source": [
    "Выведем в виде списка, расположенного в алфавитном порядке"
   ]
  },
  {
   "cell_type": "code",
   "execution_count": 20,
   "metadata": {},
   "outputs": [],
   "source": [
    "unique_regions_sorted = sorted(df_clean['region_name'].unique().tolist())\n",
    "#display(unique_regions_sorted)"
   ]
  },
  {
   "cell_type": "code",
   "execution_count": 21,
   "metadata": {},
   "outputs": [],
   "source": [
    "# Изучим категориальные данные в столбце organizers\n",
    "#df_clean['service_name'].value_counts()"
   ]
  },
  {
   "cell_type": "code",
   "execution_count": 22,
   "metadata": {},
   "outputs": [],
   "source": [
    "unique_services_sorted = sorted(df_clean['service_name'].unique().tolist())\n",
    "#display(unique_services_sorted)"
   ]
  },
  {
   "cell_type": "markdown",
   "metadata": {},
   "source": [
    "**Вывод о категориальных значениях**:\\\n",
    "Категориальные величины выглядят адекватно, категории уникальны, отсутсвуют значения, которые могут обозначать пропуски в данных."
   ]
  },
  {
   "cell_type": "markdown",
   "metadata": {
    "jp-MarkdownHeadingCollapsed": true
   },
   "source": [
    "##### Количественные значения"
   ]
  },
  {
   "cell_type": "code",
   "execution_count": 23,
   "metadata": {},
   "outputs": [],
   "source": [
    "# Изучим revenue, для этого отфильтруем данные по валютам\n",
    "df_clean_rub = df_clean[df_clean['currency_code'] == 'rub']\n",
    "df_clean_kzt = df_clean[df_clean['currency_code'] == 'kzt']"
   ]
  },
  {
   "cell_type": "code",
   "execution_count": 24,
   "metadata": {},
   "outputs": [
    {
     "data": {
      "text/plain": [
       "count    285542.000000\n",
       "mean        548.013929\n",
       "std         871.750181\n",
       "min         -90.760000\n",
       "25%         114.170000\n",
       "50%         346.630000\n",
       "75%         793.320000\n",
       "max       81174.540000\n",
       "Name: revenue, dtype: float64"
      ]
     },
     "metadata": {},
     "output_type": "display_data"
    },
    {
     "data": {
      "text/plain": [
       "count     5069.000000\n",
       "mean      4995.206767\n",
       "std       4916.752776\n",
       "min          0.000000\n",
       "25%        518.100000\n",
       "50%       3698.830000\n",
       "75%       7397.660000\n",
       "max      26425.860000\n",
       "Name: revenue, dtype: float64"
      ]
     },
     "metadata": {},
     "output_type": "display_data"
    }
   ],
   "source": [
    "# Выведем статистическую информацию\n",
    "display(df_clean_rub['revenue'].describe())\n",
    "display(df_clean_kzt['revenue'].describe())"
   ]
  },
  {
   "cell_type": "code",
   "execution_count": 25,
   "metadata": {},
   "outputs": [
    {
     "data": {
      "image/png": "[encoded data removed]",
      "text/plain": [
       "<Figure size 500x400 with 1 Axes>"
      ]
     },
     "metadata": {},
     "output_type": "display_data"
    },
    {
     "data": {
      "image/png": "[encoded data removed]",
      "text/plain": [
       "<Figure size 500x400 with 1 Axes>"
      ]
     },
     "metadata": {},
     "output_type": "display_data"
    }
   ],
   "source": [
    "# Стоим диаграмму размаха для revenue в рублях методом boxplot\n",
    "boxplot = df_clean_rub.boxplot(column='revenue',\n",
    "                       vert=False,\n",
    "                       figsize=(5,4))\n",
    "# Добавляем заголовок\n",
    "boxplot.set_title('Распределение revenue в рублях')\n",
    "boxplot.set_xlabel('Revenue')\n",
    "\n",
    "plt.show()\n",
    "\n",
    "# Стоим диаграмму размаха для revenue в тенге методом boxplot\n",
    "boxplot = df_clean_kzt.boxplot(column='revenue',\n",
    "                       vert=False,\n",
    "                       figsize=(5,4))\n",
    "# Добавляем заголовок\n",
    "boxplot.set_title('Распределение revenue в тенге')\n",
    "boxplot.set_xlabel('Revenue')\n",
    "\n",
    "plt.show()"
   ]
  },
  {
   "cell_type": "markdown",
   "metadata": {},
   "source": [
    "*Промежуточный вывод*:\\\n",
    "Выбросы наблюдаются, поэтому следует отфильтровать выбросы в вырнучке по 99-му процентилю"
   ]
  },
  {
   "cell_type": "code",
   "execution_count": 26,
   "metadata": {},
   "outputs": [],
   "source": [
    "# Отфильтруем датасет по 99-му персентилю для рублей\n",
    "# Находим 99-й персентиль\n",
    "outliers_rub = df_clean_rub['revenue'].quantile(0.99)\n",
    "\n",
    "# Отбираем данные, оставляя значения меньше найденного\n",
    "df_clean_rub_filtered = df_clean_rub[df_clean_rub['revenue'] < outliers_rub]\n"
   ]
  },
  {
   "cell_type": "code",
   "execution_count": 27,
   "metadata": {},
   "outputs": [],
   "source": [
    "# Отфильтруем датасет по 99-му персентилю для тенге\n",
    "# Находим 99-й персентиль\n",
    "outliers_kzt = df_clean_kzt['revenue'].quantile(0.99)\n",
    "\n",
    "# Отбираем данные, оставляя значения меньше найденного\n",
    "df_clean_kzt_filtered = df_clean_kzt[df_clean_kzt['revenue'] < outliers_kzt]"
   ]
  },
  {
   "cell_type": "code",
   "execution_count": 28,
   "metadata": {},
   "outputs": [],
   "source": [
    "# Объединим датафреймы в df_clean_filtered\n",
    "df_clean_filtered = pd.concat([df_clean_rub_filtered, df_clean_kzt_filtered], ignore_index=True)"
   ]
  },
  {
   "cell_type": "markdown",
   "metadata": {},
   "source": [
    "*Промежуточный вывод:*\\\n",
    "Revenue для rub показало ассимметрию в распределении, наблюдаются выбросы.\\\n",
    "Для kzt также наблюдаются выбросы в revenue, по этой причине сформирован `df_clean_filtered`, в котором отфильтрованы данные по обеим валютам по 99 персентилю."
   ]
  },
  {
   "cell_type": "code",
   "execution_count": 29,
   "metadata": {
    "scrolled": true
   },
   "outputs": [
    {
     "data": {
      "text/plain": [
       "count    287529.000000\n",
       "mean          2.739108\n",
       "std           1.162387\n",
       "min           1.000000\n",
       "25%           2.000000\n",
       "50%           3.000000\n",
       "75%           3.000000\n",
       "max          57.000000\n",
       "Name: tickets_count, dtype: float64"
      ]
     },
     "metadata": {},
     "output_type": "display_data"
    }
   ],
   "source": [
    "# Теперь оценим tickets_count на наличие выбросов\n",
    "# Выведем статистическую информацию\n",
    "display(df_clean_filtered['tickets_count'].describe())"
   ]
  },
  {
   "cell_type": "code",
   "execution_count": 30,
   "metadata": {},
   "outputs": [
    {
     "data": {
      "image/png": "[encoded data removed]",
      "text/plain": [
       "<Figure size 500x400 with 1 Axes>"
      ]
     },
     "metadata": {},
     "output_type": "display_data"
    }
   ],
   "source": [
    "# Стоим диаграмму размаха методом boxplot\n",
    "boxplot = df_clean_filtered.boxplot(column='tickets_count',\n",
    "                       vert=False,\n",
    "                       figsize=(5,4))\n",
    "# Добавляем заголовок\n",
    "boxplot.set_title('Распределение количества билетов в заказе')\n",
    "boxplot.set_xlabel('tickets_count')\n",
    "\n",
    "plt.show()"
   ]
  },
  {
   "cell_type": "markdown",
   "metadata": {},
   "source": [
    "*Промежуточный вывод:*\n",
    "\n",
    "В поле `tickets_count` наблюдаются значения, похожие на выборосы вверх количества купленных билетов. \\\n",
    "Возможно, это обусловлено тем, что обычно люди покупают по несколько билетов, но в некоторых случаях присутсвуют крупные заказы, например, на экскурсионную группую. Максимальное количество купленных билетов - 57, что является количеством мест в большом экскурсионном автобусе. \\\n",
    "Скорее всего это не выбросы."
   ]
  },
  {
   "cell_type": "markdown",
   "metadata": {},
   "source": [
    "**Вывод о количественных значениях:**\\\n",
    "Revenue для rub показало ассимметрию в распределении, наблюдаются выбросы. для kzt также наблюдаются выбросы в revenue, по этой причине сформирован `df_clean_filtered`, в котором отфильтрованы данные по обеим валютам по 99 персентилю.\n",
    "\n",
    "В столце `tickets_count` наблюдается смещение величины вверх относительно медианы и среднего, возможно, это обусловлено тем, что обычно люди покупают по несколько билетов, но в некоторых случаях присутсвуют крупные заказы, например, на экскурсионную группую. Максимальное количество купленных билетов - 57, что является количеством мест в большом экскурсионном автобусе. Тем самым, скорее всего это не выбросы."
   ]
  },
  {
   "cell_type": "markdown",
   "metadata": {},
   "source": [
    "#### Проверка данных датафрейма df_currency"
   ]
  },
  {
   "cell_type": "code",
   "execution_count": 31,
   "metadata": {},
   "outputs": [],
   "source": [
    "#df_currency.info()"
   ]
  },
  {
   "cell_type": "code",
   "execution_count": 32,
   "metadata": {
    "scrolled": true
   },
   "outputs": [
    {
     "data": {
      "text/plain": [
       "count    357.000000\n",
       "mean      19.755818\n",
       "std        0.833798\n",
       "min       17.848600\n",
       "25%       19.120200\n",
       "50%       19.876000\n",
       "75%       20.443300\n",
       "max       21.937100\n",
       "Name: curs, dtype: float64"
      ]
     },
     "metadata": {},
     "output_type": "display_data"
    }
   ],
   "source": [
    "# Выведем статистическую информацию для curs\n",
    "display(df_currency['curs'].describe())"
   ]
  },
  {
   "cell_type": "code",
   "execution_count": 33,
   "metadata": {},
   "outputs": [],
   "source": [
    "# Выведем уникальные значения в столбце nominal\n",
    "#df_currency['nominal'].value_counts()"
   ]
  },
  {
   "cell_type": "code",
   "execution_count": 34,
   "metadata": {},
   "outputs": [],
   "source": [
    "# Выведем уникальные значения в столбце cdx\n",
    "#df_currency['cdx'].value_counts()"
   ]
  },
  {
   "cell_type": "markdown",
   "metadata": {},
   "source": [
    "**Вывод:**\n",
    "\n",
    " Данные датафрейма `df_currency` не выглядят аномально. В поле curs медиана и среднее близки, значит выбросов нет"
   ]
  },
  {
   "cell_type": "markdown",
   "metadata": {},
   "source": [
    "#### Проверка на явные и неявные дубликаты"
   ]
  },
  {
   "cell_type": "markdown",
   "metadata": {},
   "source": [
    "Ранее уже были изучены категориальные значения, которые могут представлять собой и неявные дубликаты, неявные дубликаты выявлены не были"
   ]
  },
  {
   "cell_type": "code",
   "execution_count": 35,
   "metadata": {},
   "outputs": [
    {
     "data": {
      "text/plain": [
       "'Количество неуникальных event_id: 16292'"
      ]
     },
     "metadata": {},
     "output_type": "display_data"
    }
   ],
   "source": [
    "# Считаем, сколько раз встречается каждый event_id (в условии сказано, что это уникальный идентификатор мероприятия)\n",
    "event_counts = df_clean_filtered['event_id'].value_counts()\n",
    "\n",
    "# Оставляем только те, которые встречаются больше одного раза\n",
    "non_unique_event_ids = event_counts[event_counts > 1].index\n",
    "\n",
    "# Отбираем строки, в которые event_id входит в список\n",
    "\n",
    "diplicate_rows_events = df_clean_filtered[df_clean_filtered['event_id'].isin(non_unique_event_ids)]\n",
    "duplicate_rows_events = diplicate_rows_events.sort_values(by='event_id', ascending=True)\n",
    "# Количество неуникальных event_id\n",
    "display(f'Количество неуникальных event_id: {len(non_unique_event_ids)}')\n",
    "\n"
   ]
  },
  {
   "cell_type": "code",
   "execution_count": 36,
   "metadata": {},
   "outputs": [],
   "source": [
    "# Выведем строки, в которые event_id входит в список\n",
    "#display(diplicate_rows_events)"
   ]
  },
  {
   "cell_type": "markdown",
   "metadata": {},
   "source": [
    "*Промежуточный вывод:*\\\n",
    "Изучив данные, можно сказать, что это не дубликаты, а к одному мероприятию относится несколько заказов"
   ]
  },
  {
   "cell_type": "code",
   "execution_count": 37,
   "metadata": {},
   "outputs": [
    {
     "data": {
      "text/plain": [
       "221"
      ]
     },
     "metadata": {},
     "output_type": "display_data"
    }
   ],
   "source": [
    "# Оценим неявные дубликаты по бронированию билета без учета идентификаторов заказа\n",
    "# Проверим сочетание created_ts_msk, event_id, user_id\n",
    "duplicates_created_ts_event_user = df_clean_filtered.duplicated(subset=['created_ts_msk','event_id', 'user_id'], keep=False)\n",
    "duplicates_created_ts_event_user = duplicates_created_ts_event_user.sum()\n",
    "display(duplicates_created_ts_event_user)"
   ]
  },
  {
   "cell_type": "markdown",
   "metadata": {},
   "source": [
    "*Промежуточный вывод:*\\\n",
    "Выявлен 221 неявный дубликат! "
   ]
  },
  {
   "cell_type": "code",
   "execution_count": 38,
   "metadata": {},
   "outputs": [
    {
     "data": {
      "text/plain": [
       "0.07686181219981289"
      ]
     },
     "metadata": {},
     "output_type": "display_data"
    }
   ],
   "source": [
    "# Посчитаем долю неявных дубликатов от общего количества строк\n",
    "duplicates_share = duplicates_created_ts_event_user / len(df_clean_filtered)*100\n",
    "display(duplicates_share)"
   ]
  },
  {
   "cell_type": "markdown",
   "metadata": {},
   "source": [
    "*Промежуточный вывод:*\\\n",
    "Доля неявных дубликатов составляет 0.077% Удалим их"
   ]
  },
  {
   "cell_type": "code",
   "execution_count": 39,
   "metadata": {},
   "outputs": [
    {
     "name": "stdout",
     "output_type": "stream",
     "text": [
      "До удаления: 287529\n",
      "После удаления: 287411\n"
     ]
    }
   ],
   "source": [
    "# Удалим неявные дубликаты, оставив только первую встречу каждого сочетания\n",
    "df_deduplicated = df_clean_filtered.drop_duplicates(subset=['created_ts_msk', 'event_id', 'user_id'], keep='first')\n",
    "\n",
    "# Проверим, насколько уменьшилось количество строк\n",
    "print(f\"До удаления: {len(df_clean_filtered)}\")\n",
    "print(f\"После удаления: {len(df_deduplicated)}\")"
   ]
  },
  {
   "cell_type": "code",
   "execution_count": 40,
   "metadata": {},
   "outputs": [
    {
     "data": {
      "text/plain": [
       "0"
      ]
     },
     "execution_count": 40,
     "metadata": {},
     "output_type": "execute_result"
    }
   ],
   "source": [
    "# Проверим наличие явных дубликатов\n",
    "df_deduplicated.duplicated().sum()"
   ]
  },
  {
   "cell_type": "markdown",
   "metadata": {},
   "source": [
    "**Вывод:**\\\n",
    "Проведена проверка на наличие явных и неявных дубликатов.\\\n",
    "Явные дубликаты не выявлены.\\\n",
    "Неявные дубликаты по сочетанию  `created_ts_msk`, `event_id`, `user_id` были выявлены в размере 0.07% от общего количества записей.\\\n",
    "Неявные дубликаты были удалены, сформирован датафрейм `df_deduplicated`"
   ]
  },
  {
   "cell_type": "markdown",
   "metadata": {},
   "source": [
    "#### Преобразование типов данных\n"
   ]
  },
  {
   "cell_type": "markdown",
   "metadata": {},
   "source": [
    "Необходимо преобразовать типы данных для следующих столбцов датафрейма `df_deduplicated`:\n",
    "1. Перевести тип данных `object` в формат `datetime`: `created_dt_msk`, `created_ts_msk`\n",
    "2. Понизить разрядность `int64`: `order_id`, `event_id`, `age_limit`, `tickets_count`, `venue_id`\n",
    "3. `float64` заменить на `int`: `days_since_prev`\n",
    "4. `int64` заменить на `object`: `venue_name`\n",
    "\n",
    "В датафрейме `df_currency`:\n",
    "1. Перевести тип данных `object` в формат `datetime`: `data`\n",
    "2. Понизить разрядность: `nominal`\n"
   ]
  },
  {
   "cell_type": "code",
   "execution_count": 41,
   "metadata": {},
   "outputs": [],
   "source": [
    "# Меняем float64 на int\n",
    "df_deduplicated = df_deduplicated.copy()\n",
    "df_deduplicated['days_since_prev'] = df['days_since_prev'].astype('int64', errors='ignore')\n",
    "\n",
    "# Понижаем разрядность int\n",
    "df_deduplicated['order_id'] = pd.to_numeric(df_deduplicated['order_id'], downcast='integer')\n",
    "df_deduplicated['event_id'] = pd.to_numeric(df_deduplicated['event_id'], downcast='integer')\n",
    "df_deduplicated['age_limit'] = pd.to_numeric(df_deduplicated['age_limit'], downcast='integer')\n",
    "df_deduplicated['tickets_count'] = pd.to_numeric(df_deduplicated['tickets_count'], downcast='integer')\n",
    "df_deduplicated['venue_id'] = pd.to_numeric(df_deduplicated['venue_id'], downcast='integer')\n",
    "\n",
    "# Int64 меняем на object \n",
    "df_deduplicated['venue_name'] = df_deduplicated['venue_name'].astype('object', errors='ignore')\n",
    "\n",
    "# Преобразуем object в datetime\n",
    "df_deduplicated['created_dt_msk'] = pd.to_datetime(df_deduplicated['created_dt_msk'], errors='coerce')\n",
    "df_deduplicated['created_ts_msk'] = pd.to_datetime(df_deduplicated['created_ts_msk'])"
   ]
  },
  {
   "cell_type": "code",
   "execution_count": 42,
   "metadata": {},
   "outputs": [],
   "source": [
    "# сделаем преобразование форматов в датафрейме df_currency\n",
    "# Преобразуем object в datetime\n",
    "df_currency['data'] = pd.to_datetime(df_currency['data'])\n",
    "# Понижаем разрядность int\n",
    "df_currency['nominal'] = pd.to_numeric(df_currency['nominal'], downcast='integer')"
   ]
  },
  {
   "cell_type": "markdown",
   "metadata": {},
   "source": [
    "**Вывод:**\\\n",
    "Преобразованы типы данных для следующих столбцов датафрейма `df_deduplicated`:\n",
    "1. тип данных `object` в `datetime`: `created_dt_msk`, `created_ts_msk`\n",
    "2. понижена разрядность `int64`: `order_id`, `event_id`, `age_limit`, `tickets_count`, `venue_id`\n",
    "3. `float64` заменено на `int`: `days_since_prev`\n",
    "4. `int64` заменено на `object`: `venue_name`\n",
    "\n",
    "В датафрейме `df_currency`:\n",
    "1. тип данных object в формат `datetime`: `data`\n",
    "2. Понижена разрядность: `nominal`"
   ]
  },
  {
   "cell_type": "markdown",
   "metadata": {},
   "source": [
    "#### Создание новых столбцов"
   ]
  },
  {
   "cell_type": "markdown",
   "metadata": {},
   "source": [
    "Необходимо выполнить следующее:\n",
    "- `revenue_rub`: привести выручку с заказа к единой валюте - российскому рублю;\n",
    "- `one_ticket_revenue_rub`: рассчитать выручку с продажи одного билета на мероприятие;\n",
    "- `month`: выделить месяц оформления заказа в отдельный столбец;\n",
    "- `season`: создайть столбец с информацией о сезонности с категориями: `'лето'`, `'осень'`, `'зима'`, `'весна'`."
   ]
  },
  {
   "cell_type": "code",
   "execution_count": 43,
   "metadata": {},
   "outputs": [],
   "source": [
    "# Создадим финальный датафрейм, в который будем добавлять новые столбцы\n",
    "df_final = df_deduplicated"
   ]
  },
  {
   "cell_type": "code",
   "execution_count": 44,
   "metadata": {},
   "outputs": [],
   "source": [
    "# Создадим датафрейм, где будет только дата и курс\n",
    "df_curs = df_currency[['data', 'curs']]\n",
    "\n",
    "# Объединим датафреймы df_final (по created_dt_msk) и df_curs (по data)\n",
    "df_final = df_final.merge(df_curs, left_on='created_dt_msk', right_on='data', how='left')\n",
    "\n",
    "#print(df_final.columns)\n"
   ]
  },
  {
   "cell_type": "code",
   "execution_count": 45,
   "metadata": {},
   "outputs": [],
   "source": [
    "# Нормализуем курс kzt на 1 рубль\n",
    "df_final['curs'] = df_final['curs']/100"
   ]
  },
  {
   "cell_type": "code",
   "execution_count": 46,
   "metadata": {},
   "outputs": [],
   "source": [
    "# Для выбора правильного revenue, создадим функцию\n",
    "def currency_exchange(row):\n",
    "    if row['currency_code'] == 'kzt':\n",
    "        return row['revenue'] * row['curs']\n",
    "    else:\n",
    "        return row['revenue']\n",
    "# Создадим столбец revenue_rub путем приведения выручки с заказа к рублю\n",
    "df_final['revenue_rub'] = df_final.apply(currency_exchange, axis=1)"
   ]
  },
  {
   "cell_type": "code",
   "execution_count": 47,
   "metadata": {},
   "outputs": [],
   "source": [
    "# Создадим столбец one_ticket_revenue_rub\n",
    "df_final['one_ticket_revenue_rub'] = df_final['revenue_rub'] / df_final['tickets_count']"
   ]
  },
  {
   "cell_type": "code",
   "execution_count": 48,
   "metadata": {},
   "outputs": [
    {
     "data": {
      "text/plain": [
       "2024-10    99236\n",
       "2024-09    69296\n",
       "2024-08    44529\n",
       "2024-07    40392\n",
       "2024-06    33958\n",
       "Freq: M, Name: month, dtype: int64"
      ]
     },
     "metadata": {},
     "output_type": "display_data"
    }
   ],
   "source": [
    "# Выделим месяц оформления заказа\n",
    "df_final['month'] = df_final['created_dt_msk'].dt.to_period('M')\n",
    "\n",
    "# выведем результат на экран\n",
    "display(df_final['month'].value_counts())\n"
   ]
  },
  {
   "cell_type": "code",
   "execution_count": 49,
   "metadata": {},
   "outputs": [],
   "source": [
    "# Для создания категорий по месяцам, создадим функцию get_season\n",
    "def get_season(month):\n",
    "    if month in [12, 1, 2]:\n",
    "        return 'зима'\n",
    "    if month in [3, 4, 5]:\n",
    "        return 'весна'\n",
    "    if month in [6, 7, 8]:\n",
    "        return 'лето'\n",
    "    else:\n",
    "        return 'осень'\n",
    "    \n",
    "# создадим столбец с сезонностью\n",
    "df_final['season'] = df_final['month'].apply(lambda p: get_season(p.month))"
   ]
  },
  {
   "cell_type": "code",
   "execution_count": 50,
   "metadata": {},
   "outputs": [],
   "source": [
    "# Выведем финальный датафрейм \n",
    "# df_final.info()"
   ]
  },
  {
   "cell_type": "code",
   "execution_count": 51,
   "metadata": {},
   "outputs": [],
   "source": [
    "# Удалим столбец curs и data, так как они не нужны по условию задачи\n",
    "df_final = df_final.drop(columns=['data', 'curs'])"
   ]
  },
  {
   "cell_type": "markdown",
   "metadata": {},
   "source": [
    "**Вывод:** \n",
    "1. Сформирован финальный датафрейм `df_final`\n",
    "2. В датафрейм добавлены следующие столбцы:\n",
    " * `revenue_rub` - выручка с заказа в рублях\n",
    " * `one_ticket_revenue_rub` - выручка с продажи одного билета на мероприятие\n",
    " * `month` - месяц оформления заказа\n",
    " * `season` - информация о сезонности с категориями: лето, осень, зима, весна"
   ]
  },
  {
   "cell_type": "markdown",
   "metadata": {},
   "source": [
    "#### Результаты предобработки"
   ]
  },
  {
   "cell_type": "code",
   "execution_count": 52,
   "metadata": {},
   "outputs": [
    {
     "data": {
      "text/plain": [
       "'Финальный датафрейм df_final включает в себя 287411 строк, исходный датафрейм включал в себя 290849 строк, удалено 3438 строк'"
      ]
     },
     "metadata": {},
     "output_type": "display_data"
    }
   ],
   "source": [
    "# Посчитаем количество столбцов в финальном датафрейме\n",
    "df_final_count = len(df_final)\n",
    "deleted_count = df_rows_count - df_final_count\n",
    "\n",
    "display(f'Финальный датафрейм df_final включает в себя {df_final_count} строк, исходный датафрейм включал в себя {df_rows_count} строк, удалено {deleted_count} строк')"
   ]
  },
  {
   "cell_type": "code",
   "execution_count": 53,
   "metadata": {},
   "outputs": [
    {
     "data": {
      "text/plain": [
       "'Удалено 1.18% строк от исходного датафрейма'"
      ]
     },
     "metadata": {},
     "output_type": "display_data"
    }
   ],
   "source": [
    "# Посчитаем процент удаленных строк\n",
    "deleted_percent = round( deleted_count / df_rows_count * 100, 2)\n",
    "display(f'Удалено {deleted_percent}% строк от исходного датафрейма')"
   ]
  },
  {
   "cell_type": "code",
   "execution_count": 54,
   "metadata": {},
   "outputs": [],
   "source": [
    "# Выведем первые 5 строк финального датафрейма df_final\n",
    "# df_final.head()"
   ]
  },
  {
   "cell_type": "markdown",
   "metadata": {},
   "source": [
    "**Вывод**\n",
    "\n",
    "Сформирован финальный датафрейм `df_final`:\n",
    "\n",
    "1. Датафрейм `df_final` сформирован путем объединения датафреймов `df_orders` и `df_events` по полю `event_id`.\n",
    "2. После объединения результирующий датафрейм включает в себя 238 пропусков. Причина: не для всех `event_id` из датафрейма `df_orders` присутствовала информация в датафрейме `df_events`. Пустые строки в размере 0.08% от общего количества удалены.\n",
    "3. Изучены категориальные значения в столбцах: `event_type_main`, `device_type_canonical`, `age_limit`, `region_name`, `service_name`. Категориальные величины выглядят адекватно, категории уникальны, отсутсвуют значения, которые могут обозначать пропуски в данных.\n",
    "4. Изучены количественные величины в столбцах `revenue`, `tickets_count`. `Revenue` для rub показало ассимметрию в распределении, наблюдаются выбросы.  Отфильтрованы данные по 99 персентилю. В столце `tickets_count` наблюдается смещение значений вверх, возможно, это обусловлено тем, что обычно люди покупают по несколько билетов, но в некоторых случаях присутсвуют крупные заказы, например, на экскурсионную группую. Максимальное количество купленных билетов - 57, что, вероятнее всего, является количеством мест в большом экскурсионном автобусе.\n",
    "5. Также изучены значения в датафрейме `df_currency`, аномальные результаты не выявлены.\n",
    "6. Проверено наличие явных и неявных дубликатов. Явные дубликаты не выявлены. Неявные дубликаты по сочетанию `created_ts_msk`, `event_id`, `user_id` обнаружены, их количество составило 0.07% от общего количества записей. Неявные дубликаты удалены.\n",
    "7. Преобразованы типы данных следующих столбцов объединенного датафрейма:\n",
    "    1. тип данных `object` в формат `datetime`: `created_dt_msk`, `created_ts_msk`\n",
    "    2. понижена разрядность `int64`: `order_id`, `event_id`, `age_limit`, `tickets_count`, `venue_id`\n",
    "    3. `float64` заменено на `int`: `days_since_prev`\n",
    "    4. `int64` заменено на `object`: `venue_name`\n",
    "8. В датафрейме `df_currency` преобразованы типы данных следующих столбцов:\n",
    "    1. тип данных `object` в формат `datetime`: `data`\n",
    "    2. Понижена разрядность: `nominal`\n",
    "9. В объединенный датафрейм добавлены следующие столбцы:\n",
    "- `revenue_rub` - выручка с заказа в рублях\n",
    "- `one_ticket_revenue_rub` - выручка с продажи одного билета на мероприятие\n",
    "- `month` - месяц оформления заказа\n",
    "- `season` - информация о сезонность с категориями: лето, осень, зима, весна\n",
    "\n",
    "Финальный датафрейм `df_final` включает в себя 287411 строк, исходный датафрейм включал в себя 290849 строк, в ходе предобработки удалено 1.18% строк от исходного датафрейма"
   ]
  },
  {
   "cell_type": "markdown",
   "metadata": {},
   "source": [
    "## Исследовательский анализ данных"
   ]
  },
  {
   "cell_type": "markdown",
   "metadata": {},
   "source": [
    "### Анализ распределения заказов по сегментам и их сезонные изменения"
   ]
  },
  {
   "cell_type": "markdown",
   "metadata": {},
   "source": [
    "**Задача:**\n",
    "\n",
    "Необходимо изучить изменение пользовательской активности и пользовательского интереса к покупке билетов на мероприятия в связи с сезонностью (лето - осень):\n",
    "\n",
    "1. Проверить, фиксируется ли увеличение заказов от июня к ноябрю 2024 года.\n",
    "2. Сравнить распределение заказов билетов по разрезам: тип мероприятия, тип устройства, возрастной рейтинг мероприятия\n",
    "3. Изучить изменение выручки с продажи билета в разрезе типа мероприятия и сезона.\n",
    "4. Проанализовать распределение заказов по категориям с наступлением осеннего периода."
   ]
  },
  {
   "cell_type": "markdown",
   "metadata": {},
   "source": [
    "#### Динамика количества заказов по месяцам\n"
   ]
  },
  {
   "cell_type": "code",
   "execution_count": 55,
   "metadata": {},
   "outputs": [],
   "source": [
    "# Сгруппируем данные по типу устройств и месяцам и посчитаем количество заказов\n",
    "df_grouped_month = df_final.groupby(['month'])['order_id'].count()"
   ]
  },
  {
   "cell_type": "code",
   "execution_count": 56,
   "metadata": {},
   "outputs": [
    {
     "data": {
      "image/png": "[encoded data removed]",
      "text/plain": [
       "<Figure size 600x400 with 1 Axes>"
      ]
     },
     "metadata": {},
     "output_type": "display_data"
    }
   ],
   "source": [
    "# Построим линейный график изменения продаж по месяцам\n",
    "plt.figure(figsize=(6, 4))\n",
    "df_grouped_month.plot(\n",
    "kind='line',\n",
    "x='month',\n",
    "y='order_id',\n",
    "title='Изменение продаж по месяцам')\n",
    "\n",
    "#Создадим подписи к графику\n",
    "plt.xlabel('Месяц')\n",
    "plt.ylabel('Продажи')\n",
    "plt.show()"
   ]
  },
  {
   "cell_type": "markdown",
   "metadata": {},
   "source": [
    "*Промежуточный вывод о динамике заказов по месяцам*\n",
    "\n",
    "Наблюдается рост количества заказов от июня к ноябрю 2024 года"
   ]
  },
  {
   "cell_type": "markdown",
   "metadata": {},
   "source": [
    "#### Сравнение распределения заказов билетов в разрезах типов мероприятий, типов устройств и возрастных категорий"
   ]
  },
  {
   "cell_type": "markdown",
   "metadata": {},
   "source": [
    "##### Сравнение распределения заказов билетов по типам мероприятий"
   ]
  },
  {
   "cell_type": "code",
   "execution_count": 57,
   "metadata": {},
   "outputs": [],
   "source": [
    "# Cравним распределение заказов билетов для осеннего и летнего периодов по типу мероприяий\n",
    "df_grouped_orders_events = df_final.groupby(['season', 'event_type_main'])['order_id'].count().reset_index()\n",
    "\n",
    "# Для удобства переименуем поле\n",
    "df_grouped_orders_events = df_grouped_orders_events.rename(columns={'order_id': 'order_count'})\n",
    "\n",
    "# Считаем общее количество заказов по каждому сезону\n",
    "total_season = df_grouped_orders_events.groupby('season')['order_count'].transform(sum)\n",
    "\n",
    "# Добавим долю\n",
    "df_grouped_orders_events['order_share'] = df_grouped_orders_events['order_count'] / total_season"
   ]
  },
  {
   "cell_type": "code",
   "execution_count": 58,
   "metadata": {},
   "outputs": [
    {
     "data": {
      "image/png": "[encoded data removed]",
      "text/plain": [
       "<Figure size 1000x400 with 1 Axes>"
      ]
     },
     "metadata": {},
     "output_type": "display_data"
    }
   ],
   "source": [
    "# Построим график - столбчатую диаграмму\n",
    "plt.figure(figsize=(10, 4))\n",
    "sns.barplot(\n",
    "    data=df_grouped_orders_events,\n",
    "    x='event_type_main', \n",
    "    y='order_share',\n",
    "    hue = 'season'\n",
    ")\n",
    "\n",
    "plt.title('Доля заказов по мероприятиям в летний и осенний период')\n",
    "plt.ylabel('Доля заказов')\n",
    "plt.xlabel('Тип мероприятия')\n",
    "plt.legend(title='Сезон')\n",
    "plt.show() "
   ]
  },
  {
   "cell_type": "markdown",
   "metadata": {},
   "source": [
    "*Промежуточный вывод о распределении заказов билетов по типам мероприятий*\n",
    "\n",
    "Для осеннего периода наблюдается спад интереса в категориях 'концерты' и 'другое', а также небольшой спад в категориях 'выставки' и 'стендап'. При этом осенью наблюдается рост в категориях 'спорт', 'театр', 'елки'."
   ]
  },
  {
   "cell_type": "markdown",
   "metadata": {},
   "source": [
    "##### Сравнение распределения заказов билетов по типам устройств"
   ]
  },
  {
   "cell_type": "code",
   "execution_count": 59,
   "metadata": {},
   "outputs": [],
   "source": [
    "# Cравним распределение заказов билетов для осеннего и летнего периодов по типу устройств\n",
    "df_grouped_orders_devices = df_final.groupby(['season', 'device_type_canonical'])['order_id'].count().reset_index()\n",
    "\n",
    "# Переименуем поле для удобства\n",
    "df_grouped_orders_devices = df_grouped_orders_devices.rename(columns={'order_id': 'order_count'})\n",
    "\n",
    "# Считаем общее количество заказов по каждому сезону\n",
    "total_season_devices = df_grouped_orders_devices.groupby('season')['order_count'].transform(sum)\n",
    "\n",
    "# Добавим долю\n",
    "df_grouped_orders_devices['order_share'] = df_grouped_orders_devices['order_count'] / total_season_devices"
   ]
  },
  {
   "cell_type": "code",
   "execution_count": 60,
   "metadata": {},
   "outputs": [
    {
     "data": {
      "image/png": "[encoded data removed]",
      "text/plain": [
       "<Figure size 500x300 with 1 Axes>"
      ]
     },
     "metadata": {},
     "output_type": "display_data"
    }
   ],
   "source": [
    "# Построим график - столбчатую диаграмму\n",
    "plt.figure(figsize=(5, 3))\n",
    "sns.barplot(\n",
    "    data=df_grouped_orders_devices,\n",
    "    x='device_type_canonical', \n",
    "    y='order_share',\n",
    "    hue = 'season'\n",
    ")\n",
    "\n",
    "plt.title('Доля заказов по типам устройств в летний и осенний период')\n",
    "plt.ylabel('Доля заказов')\n",
    "plt.xlabel('Тип устройства')\n",
    "plt.legend(title='Сезон')\n",
    "plt.show() "
   ]
  },
  {
   "cell_type": "markdown",
   "metadata": {},
   "source": [
    "*Промежуточный вывод о распределении заказов по типам устройств в летний и осенний период:*\n",
    "\n",
    "Мобильные утройства лидируют и в осенний, и в летний период. Разница между долями использования мобильных и десктопных устройств в зависимости от сезона минимальна."
   ]
  },
  {
   "cell_type": "markdown",
   "metadata": {},
   "source": [
    "##### Сравнение распределения заказов билетов в зависимости от возрастного рейтинга мероприятия"
   ]
  },
  {
   "cell_type": "code",
   "execution_count": 61,
   "metadata": {},
   "outputs": [],
   "source": [
    "# Cравним распределение заказов билетов для осеннего и летнего периодов в зависимости от возрастного рейтинга мероприятия\n",
    "df_grouped_orders_ages = df_final.groupby(['season', 'age_limit'])['order_id'].count().reset_index()\n",
    "\n",
    "# Переименуем поле для удобства\n",
    "df_grouped_orders_ages = df_grouped_orders_ages.rename(columns={'order_id': 'order_count'})\n",
    "\n",
    "# Считаем общее количество заказов по каждому сезону\n",
    "total_season_ages = df_grouped_orders_ages.groupby('season')['order_count'].transform(sum)\n",
    "\n",
    "# Добавим долю\n",
    "df_grouped_orders_ages['order_share'] = df_grouped_orders_ages['order_count'] / total_season_ages"
   ]
  },
  {
   "cell_type": "code",
   "execution_count": 62,
   "metadata": {},
   "outputs": [
    {
     "data": {
      "image/png": "[encoded data removed]",
      "text/plain": [
       "<Figure size 800x400 with 1 Axes>"
      ]
     },
     "metadata": {},
     "output_type": "display_data"
    }
   ],
   "source": [
    "# Построим график - столбчатую диаграмму\n",
    "plt.figure(figsize=(8, 4))\n",
    "sns.barplot(\n",
    "    data=df_grouped_orders_ages,\n",
    "    x='age_limit', \n",
    "    y='order_share',\n",
    "    hue = 'season'\n",
    ")\n",
    "\n",
    "plt.title('Доля заказов на мероприятия по возрастным категориям в летний и осенний период')\n",
    "plt.ylabel('Доля заказов')\n",
    "plt.xlabel('Возрастная категория')\n",
    "plt.legend(title='Сезон')\n",
    "plt.show() "
   ]
  },
  {
   "cell_type": "markdown",
   "metadata": {},
   "source": [
    "*Промежуточный вывод о распределении заказов билетов в зависимости от возрастного рейтинга мероприятия*\n",
    "\n",
    "В осенний период снижается доля заказов для возрастных категорий '16' и '18', а также немного снижается для категории '6', при этом повышается доля заказов для возрастных категорий '0', '12'."
   ]
  },
  {
   "cell_type": "markdown",
   "metadata": {},
   "source": [
    "#### Изменение выручки с продажи одного билета в зависимости от типа мероприятий"
   ]
  },
  {
   "cell_type": "code",
   "execution_count": 63,
   "metadata": {},
   "outputs": [],
   "source": [
    "# Рассчитаем среднюю выручку с продажи одного билета в разрезе категорий мероприятий \n",
    "df_grouped_revenue_events = df_final.groupby(['season', 'event_type_main'])['one_ticket_revenue_rub'].mean().reset_index()\n",
    "\n",
    "#display(df_grouped_revenue_events)"
   ]
  },
  {
   "cell_type": "code",
   "execution_count": 64,
   "metadata": {},
   "outputs": [],
   "source": [
    "# Сформируем сводную таблицу\n",
    "pivot_ticket_revenue = pd.pivot_table(df_grouped_revenue_events,\n",
    "                                      index='event_type_main',\n",
    "                                      columns='season',\n",
    "                                      values='one_ticket_revenue_rub'\n",
    ")\n",
    "pivot_ticket_revenue['price_change'] =  (\n",
    "    (pivot_ticket_revenue['осень'] - pivot_ticket_revenue['лето']) \n",
    "    / pivot_ticket_revenue['лето']\n",
    ") * 100\n",
    "\n",
    "pivot_ticket_revenue = pivot_ticket_revenue.sort_values('price_change')\n",
    "#display(pivot_ticket_revenue)"
   ]
  },
  {
   "cell_type": "code",
   "execution_count": 65,
   "metadata": {
    "scrolled": true
   },
   "outputs": [
    {
     "data": {
      "image/png": "[encoded data removed]",
      "text/plain": [
       "<Figure size 600x400 with 1 Axes>"
      ]
     },
     "metadata": {},
     "output_type": "display_data"
    }
   ],
   "source": [
    "# Создаем список цветов\n",
    "colors = pivot_ticket_revenue['price_change'].apply(lambda x: 'green' if x > 0 else 'red')\n",
    "\n",
    "# Построим линейчатую диаграмму\n",
    "plt.figure(figsize=(6, 4))\n",
    "pivot_ticket_revenue['price_change'].sort_values().plot(\n",
    "    kind='barh',\n",
    "    color = colors)\n",
    "\n",
    "plt.xlabel('Относительное изменение, %')\n",
    "plt.ylabel('Тип мероприятия')\n",
    "plt.title('Относительное изменение выручки с одного билета (осень vs лето)')\n",
    "plt.show()"
   ]
  },
  {
   "cell_type": "markdown",
   "metadata": {},
   "source": [
    "*Промежуточный вывод об изменении выручки с продажи одного билета в зависимости от типа мероприятия:*\n",
    "\n",
    "От лета к осени относительное изменение выручки с одного билета растет для категорий стендап и выставки. Для остальных категорий выручка падает, при этом сильнее всего для категорий концерты, елки и театр. Возможно, это связано с тем, что осенью на рынке появляются более бюджетные предложения "
   ]
  },
  {
   "cell_type": "markdown",
   "metadata": {},
   "source": [
    "#### Вывод"
   ]
  },
  {
   "cell_type": "markdown",
   "metadata": {},
   "source": [
    "1. Наблюдается рост количества заказов от июня к ноябрю 2024 года.\n",
    "2. Для осеннего периода наблюдается спад интереса в категориях 'концерты' и 'другое', а также небольшой спад в категориях 'выставки' и 'стендап'. При этом осенью наблюдается рост в категориях 'спорт', 'театр', 'елки'.\n",
    "3. Мобильные утройства лидируют и в осенний, и в летний период. Разница между долями использования мобильных и десктопных устройств в зависимости от сезона - минимальна.\n",
    "4. В осенний период снижается доля заказов для возрастных категорий '16' и '18', а также немного снижается для категории '6', при этом повышается доля заказов для возрастных категорий '0', '12'.\n",
    "5. От лета к осени относительное изменение выручки с одного билета растет для категорий 'стендап' и 'выставки'. Для остальных категорий выручка падает, при этом сильнее всего для категорий 'концерты', 'елки' и 'театр'. Возможно, это связано с тем, что осенью на рынке появляются более бюджетные предложения."
   ]
  },
  {
   "cell_type": "markdown",
   "metadata": {},
   "source": [
    "### Анализ осенней активности пользователей"
   ]
  },
  {
   "cell_type": "markdown",
   "metadata": {},
   "source": [
    "**Задача:**\\\n",
    "Проаназировать активность пользователей по дням в сентябре и октябре 2024 года для:\n",
    "- общего числа заказов;\n",
    "- количества активных пользователей `DAU`;\n",
    "- среднего числа заказов на одного пользователя;\n",
    "- средней стоимости одного билета.\n",
    "  \n",
    "Изучить недельную цикличность и пользовательскую активность в будни и выходные."
   ]
  },
  {
   "cell_type": "code",
   "execution_count": 66,
   "metadata": {},
   "outputs": [],
   "source": [
    "# Предварительно отфильтруем датафрейм, оставим данные за сентябрь и октябрь\n",
    "df_autumn = df_final[df_final['season'] == 'осень']"
   ]
  },
  {
   "cell_type": "markdown",
   "metadata": {},
   "source": [
    "#### Динамика изменения пользовательской активности по дням"
   ]
  },
  {
   "cell_type": "code",
   "execution_count": 67,
   "metadata": {},
   "outputs": [],
   "source": [
    "# Сформируем сводную таблицу\n",
    "pivot_autumn = pd.pivot_table(df_autumn,\n",
    "                              index='created_dt_msk',\n",
    "                              values=['order_id', 'user_id', 'one_ticket_revenue_rub'],\n",
    "                              aggfunc={\n",
    "                                 'order_id':'count',\n",
    "                                 'user_id':'nunique',\n",
    "                                 'one_ticket_revenue_rub':'mean'\n",
    "                              }\n",
    "                             )\n",
    "# Добавим столбец со средним числом заказов на пользователя\n",
    "pivot_autumn['orders_per_user'] = pivot_autumn['order_id']/pivot_autumn['user_id']\n",
    "#display(pivot_autumn)"
   ]
  },
  {
   "cell_type": "code",
   "execution_count": 68,
   "metadata": {},
   "outputs": [
    {
     "data": {
      "image/png": "[encoded data removed]",
      "text/plain": [
       "<Figure size 800x1000 with 4 Axes>"
      ]
     },
     "metadata": {},
     "output_type": "display_data"
    }
   ],
   "source": [
    "# Построим линейные графики с визуализацией метрик\n",
    "metrics = ['order_id', 'user_id', 'orders_per_user', 'one_ticket_revenue_rub']\n",
    "\n",
    "titles = [\n",
    "    'Изменение числа заказов в течение осени',\n",
    "    'Изменение DAU в течение осени',\n",
    "    'Изменение среднего числа заказов на одного пользователя в течение осени',\n",
    "    'Изменение средней стоимости билета в течение осени'\n",
    "]\n",
    "\n",
    "axes = pivot_autumn[metrics].plot(\n",
    "                         kind='line',\n",
    "                         subplots=True,\n",
    "                         sharex=True,\n",
    "                         sharey =False,\n",
    "                         title=titles,\n",
    "                         figsize=(8, 10))\n",
    "# Устанавливаем подпись для оси Y каждого из подграфиков\n",
    "axes[0].set_ylabel('Число заказов')\n",
    "axes[1].set_ylabel('Число активных \\n пользователей')\n",
    "axes[2].set_ylabel('Среднее число заказов \\n на пользователя')\n",
    "axes[3].set_ylabel('Средняя стоимость билета')\n",
    "\n",
    "# Подписываем ось Х и выводим график\n",
    "plt.xlabel('Дата')\n",
    "plt.tight_layout()\n",
    "plt.show()"
   ]
  },
  {
   "cell_type": "markdown",
   "metadata": {},
   "source": [
    "*Промежуточный вывод о динамике изменения пользовательской активности по дням*\\\n",
    "1. Наблюдается всплеск общего числа заказов в начале каждого из двух месяцев. При этом наблюдается общий тренд на рост числа заказов в течение осени.\n",
    "2. Для DAU так же наблюдается тенденция к росту в течение осени. Тренд представляет собой пилообразную кривую.\n",
    "3. Среднее число заказов на пользователя имеет всплеск в начале каждого месяца.\n",
    "4. Изменение средней стоимости билета резко падает в начале каждого месяца, а затем выходит на средний уровень.\n",
    "\n",
    "Аномальное поведение покупателей в начале каждого месяца может быть связано с тем, что площадки выкладывают билеты на новые мероприятия в начале месяца, зная это, покупатели активизируются и в первые дни месяца скупают наиболее дешевые билеты. Кроме этого, совпадение аномальных всплесков средней цены и количества заказов может быть связано с проведением акций или распродаж в начале каждого из месяцев.\n",
    "\n",
    "Если отбросить данное поведение покупателей в начале каждого месяца, в течение осени постепенно повышается активность покупаталей за счет увеличения числа заказов и DAU"
   ]
  },
  {
   "cell_type": "markdown",
   "metadata": {},
   "source": [
    "#### Недельная зависимость активности пользователей (недельная цикличность)"
   ]
  },
  {
   "cell_type": "code",
   "execution_count": 69,
   "metadata": {
    "scrolled": true
   },
   "outputs": [],
   "source": [
    "#В сформированную ранее сводную таблицу добавим информацию о днях недели\n",
    "pivot_autumn = pivot_autumn.reset_index()\n",
    "pivot_autumn['days_of_weeks'] = pivot_autumn['created_dt_msk'].dt.dayofweek"
   ]
  },
  {
   "cell_type": "code",
   "execution_count": 70,
   "metadata": {},
   "outputs": [],
   "source": [
    "# Создадим функцию, которая определит, является ли день будним или выходным\n",
    "def days(day_of_week):\n",
    "    if day_of_week in [0, 1, 2, 3, 4]:\n",
    "        return 'будний'\n",
    "    else:\n",
    "        return 'выходной'\n",
    "\n",
    "# Создадим столбец, который выведет тип для недели(будний или выходной)\n",
    "pivot_autumn['weekday_type'] = pivot_autumn['days_of_weeks'].apply(days)"
   ]
  },
  {
   "cell_type": "code",
   "execution_count": 71,
   "metadata": {},
   "outputs": [],
   "source": [
    "# Выведем на экран сводную таблицу\n",
    "#display(pivot_autumn)"
   ]
  },
  {
   "cell_type": "code",
   "execution_count": 72,
   "metadata": {
    "scrolled": true
   },
   "outputs": [
    {
     "data": {
      "text/html": [
       "<div>\n",
       "<style scoped>\n",
       "    .dataframe tbody tr th:only-of-type {\n",
       "        vertical-align: middle;\n",
       "    }\n",
       "\n",
       "    .dataframe tbody tr th {\n",
       "        vertical-align: top;\n",
       "    }\n",
       "\n",
       "    .dataframe thead th {\n",
       "        text-align: right;\n",
       "    }\n",
       "</style>\n",
       "<table border=\"1\" class=\"dataframe\">\n",
       "  <thead>\n",
       "    <tr style=\"text-align: right;\">\n",
       "      <th></th>\n",
       "      <th>weekday_type</th>\n",
       "      <th>DAU</th>\n",
       "      <th>order_count</th>\n",
       "      <th>avg_orders_per_user</th>\n",
       "      <th>avg_ticket_price</th>\n",
       "    </tr>\n",
       "  </thead>\n",
       "  <tbody>\n",
       "    <tr>\n",
       "      <th>0</th>\n",
       "      <td>будний</td>\n",
       "      <td>937.204545</td>\n",
       "      <td>2905.022727</td>\n",
       "      <td>3.064540</td>\n",
       "      <td>178.466543</td>\n",
       "    </tr>\n",
       "    <tr>\n",
       "      <th>1</th>\n",
       "      <td>выходной</td>\n",
       "      <td>887.588235</td>\n",
       "      <td>2394.764706</td>\n",
       "      <td>2.674437</td>\n",
       "      <td>195.100685</td>\n",
       "    </tr>\n",
       "  </tbody>\n",
       "</table>\n",
       "</div>"
      ],
      "text/plain": [
       "  weekday_type         DAU  order_count  avg_orders_per_user  avg_ticket_price\n",
       "0       будний  937.204545  2905.022727             3.064540        178.466543\n",
       "1     выходной  887.588235  2394.764706             2.674437        195.100685"
      ]
     },
     "metadata": {},
     "output_type": "display_data"
    }
   ],
   "source": [
    "# Сгруппируем данные по типу дня недели и рассчитаем средние значения по интересующим метрикам\n",
    "pivot_autumn_grouped = pivot_autumn.groupby('weekday_type')[\n",
    "    ['user_id', 'order_id', 'orders_per_user', 'one_ticket_revenue_rub']\n",
    "].mean().reset_index()\n",
    "\n",
    "# Изменим названия столбцов\n",
    "pivot_autumn_grouped = pivot_autumn_grouped.rename(columns={\n",
    "    'user_id': 'DAU',\n",
    "    'order_id': 'order_count',\n",
    "    'orders_per_user': 'avg_orders_per_user',\n",
    "    'one_ticket_revenue_rub': 'avg_ticket_price'\n",
    "})\n",
    "\n",
    "# Выведем результат\n",
    "display(pivot_autumn_grouped)\n"
   ]
  },
  {
   "cell_type": "markdown",
   "metadata": {},
   "source": [
    "*Промежуточный вывод о недельной активности пользователей:*\n",
    "* В будние дни выше DAU, среднее количество заказов и среднее количество заказов на пользователя\n",
    "* В будние дни ниже средняя цена билета\n",
    "  \n",
    " При этом необходимо принимать во внимание, что количество будней и выходных в течение недели разное."
   ]
  },
  {
   "cell_type": "markdown",
   "metadata": {},
   "source": [
    "#### Вывод по результатам анализа пользовательской активности по дням за период сентябрь - октябрь и типам дней недели (будние / выходные)"
   ]
  },
  {
   "cell_type": "markdown",
   "metadata": {},
   "source": [
    "1. Наблюдается всплеск общего числа заказов в начале месяцев. Выявлен тренд на общий рост числа заказов в течение сентября и октября.\n",
    "\n",
    "2. Для DAU наблюдается тенденция к росту в течение сентября и октября. Тренд представляет собой пилообразную кривую.\n",
    "\n",
    "3. Среднее число заказов на пользователя имеет всплеск в начале каждого месяца \n",
    "\n",
    "4. Изменение средней стоимости билета резко падает в начале каждого месяца, а затем выходит на средний уровень. Аномальное поведение покупателей в начале каждого месяца может быть связано с тем, что площадки выкладывают билеты на новые мероприятия в начале месяца, зная это, покупатели активизируются и скупают наиболее дешевые билеты. Так же в начале месяцев могут проходить скидки. Если отбросить данное поведение покупателей в начале каждого месяца, в течение осени постепенно повышается активность покупателей за счет увеличения числа заказов и DAU.\n",
    "\n",
    "5. В будние дни выше DAU, среднее количество заказов и среднее количество заказов на пользователя. В будние дни ниже средняя цена билета."
   ]
  },
  {
   "cell_type": "markdown",
   "metadata": {},
   "source": [
    "### Анализ мероприятий в разрезе регионов и билетных партнеров"
   ]
  },
  {
   "cell_type": "markdown",
   "metadata": {},
   "source": [
    "**Задача:** Проанализировать распределение мероприятий по регионам и партнёрам с целью выделить ключевые регионы и партнёров.\n",
    "- Для регионов вычислить уникальное количество мероприятий и общее число заказов.\n",
    "- Для билетных партнеров проанализировать общее число уникальных мероприятий, обработанных заказов и суммарную выручку с заказов билетов."
   ]
  },
  {
   "cell_type": "markdown",
   "metadata": {},
   "source": [
    "#### Анализ количества мероприятий в разрезе регионов"
   ]
  },
  {
   "cell_type": "code",
   "execution_count": 73,
   "metadata": {},
   "outputs": [],
   "source": [
    "# Перед проведение анализа сгруппируем данные по регионам и посчитаем количество уникальных мероприятий и общее число заказов\n",
    "df_regions = df_autumn.groupby(['region_name']).agg({\n",
    "    'event_id': 'nunique',\n",
    "    'order_id': 'count'\n",
    "})"
   ]
  },
  {
   "cell_type": "code",
   "execution_count": 74,
   "metadata": {},
   "outputs": [],
   "source": [
    "# Отсортируем данные по убыванию количества мероприятий\n",
    "df_regions = df_regions.sort_values('event_id', ascending=False)\n",
    "#display(df_regions)"
   ]
  },
  {
   "cell_type": "code",
   "execution_count": 75,
   "metadata": {},
   "outputs": [],
   "source": [
    "# Вычислим долю уникального количества мероприятий и общего числа заказов\n",
    "total_events = df_autumn['event_id'].nunique()\n",
    "total_orders = df_autumn['order_id'].count()\n",
    "df_regions['events_share'] = round(df_regions['event_id'] / total_events*100, 2)\n",
    "df_regions['order_share'] = round(df_regions['order_id'] / total_orders*100, 2)"
   ]
  },
  {
   "cell_type": "code",
   "execution_count": 76,
   "metadata": {},
   "outputs": [
    {
     "data": {
      "image/png": "[encoded data removed]",
      "text/plain": [
       "<Figure size 800x400 with 1 Axes>"
      ]
     },
     "metadata": {},
     "output_type": "display_data"
    }
   ],
   "source": [
    "# Отбираем топ-10 регионов\n",
    "top_regions_events = df_regions['events_share'].sort_values(ascending=False).head(10)\n",
    "\n",
    "# Построим визуализацию\n",
    "plt.figure(figsize=(8, 4))\n",
    "top_regions_events.sort_values().plot(kind='barh',)\n",
    "plt.xlabel('Доля уникальных мероприятий')\n",
    "plt.ylabel('Регион')\n",
    "plt.title('Распределение регионов по количеству уникальных мероприятий, в долях')\n",
    "plt.show()"
   ]
  },
  {
   "cell_type": "code",
   "execution_count": 77,
   "metadata": {},
   "outputs": [
    {
     "data": {
      "image/png": "[encoded data removed]",
      "text/plain": [
       "<Figure size 800x400 with 1 Axes>"
      ]
     },
     "metadata": {},
     "output_type": "display_data"
    }
   ],
   "source": [
    "# Отберем топ-10 регионов по количеству заказов\n",
    "top_regions_orders = df_regions['order_share'].sort_values(ascending=False).head(10)\n",
    "\n",
    "# Построим визуализацию\n",
    "plt.figure(figsize=(8, 4))\n",
    "top_regions_orders.sort_values().plot(kind='barh',)\n",
    "plt.xlabel('Доля количества заказов')\n",
    "plt.ylabel('Регион')\n",
    "plt.title('Распределение регионов по количеству заказов, в долях')\n",
    "plt.show()"
   ]
  },
  {
   "cell_type": "markdown",
   "metadata": {},
   "source": [
    "*Промежуточный вывод о популярных регионах:* \n",
    "\n",
    "Наибольшее разнообразие мероприятий наблюдается для следующих регионов (топ-5):\n",
    "1. Каменевский регион\t\n",
    "2. Североярская область\t\n",
    "3. Широковская область\t\n",
    "4. Светополянский округ\t\n",
    "5. Речиновская область"
   ]
  },
  {
   "cell_type": "markdown",
   "metadata": {},
   "source": [
    "#### Анализ мероприятий в разрезе билетных партнеров"
   ]
  },
  {
   "cell_type": "code",
   "execution_count": 78,
   "metadata": {},
   "outputs": [],
   "source": [
    "# сгруппируем данные по билетным партнерам и посчитаем количество уникальных мероприятий, обработанных заказов и суммарную выручку с заказов билетов\n",
    "df_partners = df_autumn.groupby(['service_name']).agg({\n",
    "    'event_id': 'nunique',\n",
    "    'order_id': 'count',\n",
    "    'revenue_rub': 'sum'\n",
    "})\n",
    "\n",
    "# Вычислим доли\n",
    "total_revenue = df_autumn['revenue_rub'].sum()\n",
    "\n",
    "df_partners['events_share'] = round(df_partners['event_id'] / total_events*100, 2)\n",
    "df_partners['order_share'] = round(df_partners['order_id'] / total_orders*100, 2)\n",
    "df_partners['revenue_share'] = round(df_partners['revenue_rub'] / total_revenue*100, 2)"
   ]
  },
  {
   "cell_type": "code",
   "execution_count": 79,
   "metadata": {},
   "outputs": [
    {
     "data": {
      "image/png": "[encoded data removed]",
      "text/plain": [
       "<Figure size 800x600 with 1 Axes>"
      ]
     },
     "metadata": {},
     "output_type": "display_data"
    }
   ],
   "source": [
    "# Построим визуализацию\n",
    "plt.figure(figsize=(8, 6))\n",
    "df_partners['events_share'].nlargest(10).sort_values().plot(kind='barh',)\n",
    "plt.xlabel('Доля уникальных мероприятий')\n",
    "plt.ylabel('Билетный партнер')\n",
    "plt.title('Топ-10 билетных партнеров по количеству уникальных мероприятий, в долях')\n",
    "plt.show()"
   ]
  },
  {
   "cell_type": "code",
   "execution_count": 80,
   "metadata": {},
   "outputs": [
    {
     "data": {
      "image/png": "[encoded data removed]",
      "text/plain": [
       "<Figure size 800x600 with 1 Axes>"
      ]
     },
     "metadata": {},
     "output_type": "display_data"
    }
   ],
   "source": [
    "# Построим визуализацию\n",
    "plt.figure(figsize=(8, 6))\n",
    "df_partners['order_share'].nlargest(10).sort_values().plot(kind='barh',)\n",
    "plt.xlabel('Доля количества заказов')\n",
    "plt.ylabel('Билетный партнер')\n",
    "plt.title('Топ-10 билетных партнеров по количеству заказов, в долях')\n",
    "plt.show()"
   ]
  },
  {
   "cell_type": "code",
   "execution_count": 81,
   "metadata": {},
   "outputs": [
    {
     "data": {
      "image/png": "[encoded data removed]",
      "text/plain": [
       "<Figure size 800x600 with 1 Axes>"
      ]
     },
     "metadata": {},
     "output_type": "display_data"
    }
   ],
   "source": [
    "# Построим визуализацию\n",
    "plt.figure(figsize=(8, 6))\n",
    "df_partners['revenue_share'].nlargest(10).sort_values().plot(kind='barh',)\n",
    "plt.xlabel('Доля выручки')\n",
    "plt.ylabel('Билетный партнер')\n",
    "plt.title('Топ-10 билетных партнеров по выручке, в долях')\n",
    "plt.show()"
   ]
  },
  {
   "cell_type": "markdown",
   "metadata": {},
   "source": [
    "*Промежуточный вывод об активности билетных партнеров:*\n",
    "Среди билетных партнеров выявлено следующее:\n",
    "1. Лови билет, билеты без проблем и билеты в руки - топ 3 билетных партнера по количеству уникальных мероприятий.\n",
    "2. Билеты без проблем, лови билет и билеты в руки - топ 3 билетных партнера по количеству обработанных заказов.\n",
    "3. Билеты без проблем, мой билет и облачко - топ 3 билетных партнера по выручке.\n",
    "\n",
    "При этом в системе наблюдается большое количество билетных партнеров (порядка 10-15 шт), у которых не наблюдается активность при продаже билетов (данные на графиках не отображены)."
   ]
  },
  {
   "cell_type": "markdown",
   "metadata": {},
   "source": [
    "#### Вывод об анализе мероприятий в разрезе регионов и билетных партнеров"
   ]
  },
  {
   "cell_type": "markdown",
   "metadata": {},
   "source": [
    "Активность по регионам и билетным партнерам:\n",
    "1. Наблюдается два региона, в которых активность максимальна (Каменевский регион, Североярская область), для остальных регионов выражен отрыв по количеству уникальных мероприятий и заказов.\n",
    "2. Существуют регионы, для которых активность минимальна и практически отсутствует.\n",
    "3. Топ-3 билетных партнера по количеству уникальных мероприятий: 'Лови билет', 'Билеты без проблем' и 'Билеты в руки'.\n",
    "4. Топ-3 билетных партнера по количеству обработанных заказов: 'Билеты без проблем', 'Лови билет' и 'Билеты в руки'.\n",
    "5. Топ-3 билетных партнера по объему выручки: 'Билеты без проблем', 'Мой билет' и 'Облачко'.\n",
    "6. При этом в системе наблюдается большое количество билетных партнеров (порядка 10-15 шт), у которых не наблюдается активность при продаже билетов (на графиках не отображены)."
   ]
  },
  {
   "cell_type": "markdown",
   "metadata": {},
   "source": [
    "## Статистический анализ данных"
   ]
  },
  {
   "cell_type": "markdown",
   "metadata": {},
   "source": [
    "### Проверка гипотезы об активности пользователей мобильных и стационарный устройств"
   ]
  },
  {
   "cell_type": "markdown",
   "metadata": {},
   "source": [
    "**Задача:** Проверить гипотезу о разнице активности пользователей мобильных и стационарных устройств\n",
    "\n",
    "**H0**: Среднее количество заказов на одного пользователя мобильного приложения равно среднему количеству заказов пользователей стационарных устройств.\n",
    "\n",
    "**Н1:** Среднее количество заказов на одного пользователя мобильного приложения выше по сравнению с пользователями стационарных устройств."
   ]
  },
  {
   "cell_type": "code",
   "execution_count": 82,
   "metadata": {},
   "outputs": [
    {
     "data": {
      "image/png": "[encoded data removed]",
      "text/plain": [
       "<Figure size 640x480 with 1 Axes>"
      ]
     },
     "metadata": {},
     "output_type": "display_data"
    }
   ],
   "source": [
    "# Выполним проверку независимости пользователей групп в разрезе типа устройства\n",
    "\n",
    "mobile_id = set(df_autumn[df_autumn['device_type_canonical']=='mobile']['user_id'].dropna().unique())\n",
    "desktop_id = set(df_autumn[df_autumn['device_type_canonical']=='desktop']['user_id'].dropna().unique())\n",
    "\n",
    "# Строим диаграмму Венна\n",
    "venn2([mobile_id, desktop_id], set_labels=('mobile', 'desktop'))\n",
    "\n",
    "# Отображаем график\n",
    "plt.title(\"Пересечение\")\n",
    "plt.show()"
   ]
  },
  {
   "cell_type": "markdown",
   "metadata": {},
   "source": [
    "*Промежуточный вывод*: Пользователи пересекаются, выявлено 3248 пользователей, входящих обе группы в разрезе типа устройств (мобильное / стационарное)"
   ]
  },
  {
   "cell_type": "code",
   "execution_count": 83,
   "metadata": {},
   "outputs": [],
   "source": [
    "# Найдем пересекающихся пользователей\n",
    "overlap_users = mobile_id & desktop_id\n",
    "\n",
    "# Создадим датафрейм, из которого исключим пользователей, входящих в обе группы\n",
    "df_autumn_independent = df_autumn[~df_autumn['user_id'].isin(overlap_users)]"
   ]
  },
  {
   "cell_type": "code",
   "execution_count": 84,
   "metadata": {},
   "outputs": [
    {
     "data": {
      "text/plain": [
       "'Среднее кол-во заказов на 1 пользователя мобильного приложения 2.86'"
      ]
     },
     "metadata": {},
     "output_type": "display_data"
    },
    {
     "data": {
      "text/plain": [
       "'Среднее кол-во заказов на 1 пользователя десктопного приложения 1.97'"
      ]
     },
     "metadata": {},
     "output_type": "display_data"
    }
   ],
   "source": [
    "# Создадим выборки для пользователей десктопного и мобильного приложений и считаем количество заказов\n",
    "mobile_order_count = df_autumn_independent[df_autumn_independent['device_type_canonical']=='mobile'].groupby('user_id')['order_id'].count()\n",
    "avg_order_mobile = round(mobile_order_count.mean(), 2)\n",
    "\n",
    "desktop_order_count = df_autumn_independent[df_autumn_independent['device_type_canonical']=='desktop'].groupby('user_id')['order_id'].count()\n",
    "avg_order_desktop = round(desktop_order_count.mean(), 2)\n",
    "\n",
    "display(f'Среднее кол-во заказов на 1 пользователя мобильного приложения {avg_order_mobile}')\n",
    "display(f'Среднее кол-во заказов на 1 пользователя десктопного приложения {avg_order_desktop}')"
   ]
  },
  {
   "cell_type": "code",
   "execution_count": 85,
   "metadata": {},
   "outputs": [
    {
     "name": "stderr",
     "output_type": "stream",
     "text": [
      "C:\\Users\\user\\anaconda3\\envs\\practicum\\lib\\site-packages\\scipy\\stats\\_morestats.py:1761: UserWarning: p-value may not be accurate for N > 5000.\n",
      "  warnings.warn(\"p-value may not be accurate for N > 5000.\")\n"
     ]
    },
    {
     "data": {
      "text/plain": [
       "ShapiroResult(statistic=0.30036985874176025, pvalue=0.0)"
      ]
     },
     "execution_count": 85,
     "metadata": {},
     "output_type": "execute_result"
    }
   ],
   "source": [
    "# Проверим нормальность распределения с использованием теста Шапиро\n",
    "shapiro(mobile_order_count) \n",
    "shapiro(desktop_order_count)"
   ]
  },
  {
   "cell_type": "markdown",
   "metadata": {},
   "source": [
    "*Промежуточный вывод*: Тест о нормальности тестом Шапиро отвергается, так как p-value=0 (меньше 0.05). В силу ЦПТ все равно будет использоваться t-тест Стьюдента"
   ]
  },
  {
   "cell_type": "code",
   "execution_count": 86,
   "metadata": {},
   "outputs": [
    {
     "name": "stdout",
     "output_type": "stream",
     "text": [
      "p-значение: 3.911721617208012e-17\n",
      "Отвергаем нулевую гипотезу\n"
     ]
    }
   ],
   "source": [
    "# Применяем t-test\n",
    "alpha = 0.05\n",
    "\n",
    "results = st.ttest_ind(\n",
    "    mobile_order_count, \n",
    "    desktop_order_count, \n",
    "    alternative='greater'\n",
    ")\n",
    "\n",
    "print('p-значение:', results.pvalue)\n",
    "\n",
    "if results.pvalue < alpha:\n",
    "    print('Отвергаем нулевую гипотезу')\n",
    "else:\n",
    "    print('Не получилось отвергнуть нулевую гипотезу')"
   ]
  },
  {
   "cell_type": "markdown",
   "metadata": {},
   "source": [
    "**Вывод:**\n",
    "\n",
    "Гипотеза **Н1** нашла подтверждение, пользователи мобильных устройств совершают в среднем большее количество заказов, чем пользователи десктопных устройств:\n",
    "\n",
    "* Проверена независимость выборок, из выборок удалены 3248 пользователей, пользовавшихся как мобильным, так и десктопным приложением, для проверки гипотез использовался датафрейм `df_autumn_independent`\n",
    "* Рассчитано среднее количество заказов на одного пользователя мобильного и десктопного приложения, 2.86 и 1.97 заказов, соответственно.\n",
    "* Проведена проверка нормальности распеределения тестом Шапиро. p value составило 0, гипотеза о нормальности распеределений была отвергнута.\n",
    "* Проведен t-test Стьюдента с использованием метода ttest_ind, p value стремится к нулю при альфа 0.5, нулевая гипотеза отвергнута, подтверждение нашла гипотеза Н1."
   ]
  },
  {
   "cell_type": "markdown",
   "metadata": {},
   "source": [
    "### Проверка гипотезы о среднем времени между заказами в зависимости от типа устройства"
   ]
  },
  {
   "cell_type": "markdown",
   "metadata": {},
   "source": [
    "**Задача:** Проверить гипотезу о среднем времени между заказами для пользователей мобильных и стационарных устройств.\n",
    "\n",
    "**H0:** Среднее время между заказами пользователей мобильных приложений такое же, как и у пользователей стационарных устройств.\n",
    "\n",
    "**Н1:** Среднее время между заказами пользователей мобильных приложений выше по сравнению с пользователями стационарных устройств."
   ]
  },
  {
   "cell_type": "code",
   "execution_count": 87,
   "metadata": {},
   "outputs": [],
   "source": [
    "# Отфильтруем данные и уберем пропуски\n",
    "mobile_days = df_autumn_independent[df_autumn_independent['device_type_canonical'] == 'mobile']['days_since_prev'].dropna()\n",
    "desktop_days = df_autumn_independent[df_autumn_independent['device_type_canonical'] == 'desktop']['days_since_prev'].dropna()"
   ]
  },
  {
   "cell_type": "code",
   "execution_count": 88,
   "metadata": {},
   "outputs": [
    {
     "name": "stdout",
     "output_type": "stream",
     "text": [
      "Среднее время между заказами (mobile): 3.56 дней\n",
      "Среднее время между заказами (desktop): 3.89 дней\n"
     ]
    }
   ],
   "source": [
    "# Рассчитаем средние значения количества дней между заказами\n",
    "avg_days_mobile = mobile_days.mean()\n",
    "avg_days_desktop = desktop_days.mean()\n",
    "\n",
    "print(f'Среднее время между заказами (mobile): {round(avg_days_mobile, 2)} дней')\n",
    "print(f'Среднее время между заказами (desktop): {round(avg_days_desktop, 2)} дней')\n"
   ]
  },
  {
   "cell_type": "code",
   "execution_count": 89,
   "metadata": {},
   "outputs": [
    {
     "data": {
      "text/plain": [
       "ShapiroResult(statistic=0.33683323860168457, pvalue=0.0)"
      ]
     },
     "execution_count": 89,
     "metadata": {},
     "output_type": "execute_result"
    }
   ],
   "source": [
    "# Проверим нормальность распределения\n",
    "shapiro(mobile_days) \n",
    "shapiro(desktop_days)"
   ]
  },
  {
   "cell_type": "markdown",
   "metadata": {},
   "source": [
    "*Промежуточный вывод:* Распределение не является нормальным, используем тест Манна-Уитни и t-test Стьюдента"
   ]
  },
  {
   "cell_type": "code",
   "execution_count": 90,
   "metadata": {},
   "outputs": [
    {
     "name": "stdout",
     "output_type": "stream",
     "text": [
      "pvalue=0.8247921208009672 > 0.05\n",
      "Не получилоь отвергнуть нулевую гипотезу\n"
     ]
    }
   ],
   "source": [
    "# Применяем тест Манна — Уитни\n",
    "\n",
    "alpha = 0.05\n",
    "stat_mw, p_value_mw = mannwhitneyu(\n",
    "    mobile_days, \n",
    "    desktop_days, \n",
    "    alternative='greater'\n",
    ") \n",
    "\n",
    "if p_value_mw > alpha:\n",
    "    print(f'pvalue={p_value_mw} > {alpha}')\n",
    "    print('Не получилоь отвергнуть нулевую гипотезу')\n",
    "else:\n",
    "    print(f'pvalue={p_value_mw} < {alpha}')\n",
    "    print('Отвергаем нулевую гипотезу')"
   ]
  },
  {
   "cell_type": "code",
   "execution_count": 91,
   "metadata": {},
   "outputs": [
    {
     "name": "stdout",
     "output_type": "stream",
     "text": [
      "pvalue=0.9244460697801774\n",
      "Не получилось отвергнуть нулевую гипотезу\n"
     ]
    }
   ],
   "source": [
    "# Применяем t-test\n",
    "alpha = 0.05\n",
    "\n",
    "results = st.ttest_ind(\n",
    "    mobile_days, \n",
    "    desktop_days, \n",
    "    alternative='greater'\n",
    ")\n",
    "\n",
    "print(f'pvalue={results.pvalue}')\n",
    "\n",
    "if results.pvalue < alpha:\n",
    "    print('Отвергаем нулевую гипотезу')\n",
    "else:\n",
    "    print('Не получилось отвергнуть нулевую гипотезу')"
   ]
  },
  {
   "cell_type": "markdown",
   "metadata": {},
   "source": [
    "**Вывод:**\n",
    "\n",
    "Нулевая **Н0** гипотеза нашла подтверждение, что говорит от том, что пользователи мобильных устройств совершают следующий заказ в среднем через столько же дней, что и пользователи десктопных устройств:\n",
    "\n",
    "*Рассчитано среднее время между заказами на одного пользователя мобильного и десктопного приложения и составило 3.56 и 3.89 дней, соответственно.\n",
    "*Проведена проверка нормальности распеределения тестом Шапиро. p value составило 0, нормальность распеределений была отвергнута\n",
    "*Для проверки статистической гипотезы использоался тест Манна-Уитни, p value составило 0.824 при альфа 0.5.\n",
    "*Также был проведен статистический t-тест Стьюдента,  p value составило 0.924 при альфа 0.5"
   ]
  },
  {
   "cell_type": "markdown",
   "metadata": {},
   "source": [
    "## Выводы и рекомендации"
   ]
  },
  {
   "cell_type": "markdown",
   "metadata": {},
   "source": [
    "**Выводы:**\n",
    "\n",
    "1. Был проведен анализ следующих данных:\n",
    "    1. Информация о заказах билетов, совершенных с двух типов устройств - мобильных и стационарных. Сформирован и изучен датафрейм `df_orders`.\n",
    "    2. Информация о событиях, включая город и регион события, информация о площадке проведения мероприятия. Сформирован и изучен датафрейм `df_events`.\n",
    "    3. Информация о курсе тенге к российскому рублю за 2024 год. Сформирован и изучен датафрейм `df_currency`.\n",
    "2. Проведена **предобработка** данных, в результате которой сформирован результирующий датафрейм `df_final`, который использовался для исследовательского анализа данных и проверки гипотез.  Данные подготовленны к работе и достаточны для объективного исследования.\n",
    "    Финальный датафрейм `df_final` включает в себя 287411 строк, исходный датафрейм включал в себя 290849 строк.\n",
    "    \n",
    "3. Выполнен **исследовательский анализ данных**:\n",
    "    1. Анализ распределения заказов по сегментам и их сезонные изменения\n",
    "       1. Наблюдается рост количества заказов от июня к ноябрю 2024 года\n",
    "       2. Для осеннего периода наблюдается спад интереса в категориях концерты и другое, а также небольшой спад в категориях выставки и стендап. При этом осенью наблюдается рост в категориях спорт, театр, елки\n",
    "       3. Мобильные утройства лидируют и в осенний, и в летний период. Разница между долями использования мобильных и десктопных устройств в зависимости от сезона - минимальна\n",
    "       4. В осенний период снижается доля заказов для возрастных категорий 16 и 18, а также немного снижается для категории 6, при этом повышается доля заказов для возрастных категорий 0, 12\n",
    "       5. От лета к осени относительное изменение выручки с одного билета растет для категорий стендап и выставки. Для остальных категорий выручка падает, сильнее всего для категорий концерты, елки и театр. Возможно, это связано с тем, что осенью на рынке появляются более бюджетные предложения\n",
    "       \n",
    "   2. Осенняя активность пользователей\n",
    "      1. Наблюдается всплеск общего числа заказов в начале месяцев. В целом, наблюдается тренд на рост числа заказов в течение осени\n",
    "      2. Для DAU также наблюдается тенденция к росту в течение осени. Тренд представляет собой пилообразную кривую\n",
    "      3. Среднее число заказов на пользователя имеет всплеск в начале каждого месяца\n",
    "      4. Изменение средней стоимости билета резко падает в начале каждого месяца, а затем выходит на средний уровень.       \n",
    "       5. В будние дни выше DAU, среднее количество заказов и среднее количество заказов на пользователя.\n",
    "       6. В будние дни ниже средняя цена билета.\n",
    "\n",
    "   3.  Популярные события и партнеры\n",
    "       1. Наблюдается два региона, в которых активность максимальна (Каменевский регион, Североярская область), для остальных регионов выражен отрыв по количеству уникальных мероприятий и заказов\n",
    "       2. Существуют регионы, для которых активность минимальна и практически отсутствует\n",
    "       3. 'Лови билет', 'Билеты без проблем' и 'Билеты в руки' - топ 3 билетных партнера по количеству уникальных мероприятий\n",
    "       4. 'Билеты без проблем', 'Лови билет' и 'Билеты в руки' - топ 3 билетных партнера по количеству обработанных заказов\n",
    "       5. 'Билеты без проблем', 'Мой билет' и 'Облачко' - топ 3 билетных партнера по выручке\n",
    "    \n",
    "4. **Статистический анализ данных**. Проверены следующие гипотезы:\n",
    "    1.  Среднее количество заказов\n",
    "  \n",
    "       H0: Среднее количество заказов на одного пользователя мобильного приложения равно среднему количеству заказов пользователей стационарных устройств.\n",
    "  \n",
    "       Н1: Среднее количество заказов на одного пользователя мобильного приложения выше по сравнению с пользователями стационарных устройств.\n",
    "  \n",
    "       Подтвердилась гипотеза Н1: пользователи мобильных устройств совершают в среднем большее количество заказов, по сравнению с пользователиями десктопных устройств.\n",
    "  \n",
    "       Проведена проверка нормальности распеределения тестом Шапиро. p value составило 0, нормальность распеределений была отвергнута.\n",
    "  \n",
    "       Для проверки статистической гипотезы использоался t-тест Стьюдента, p value стремится к нулю при альфа 0.5.\n",
    "    \n",
    "    2. Среднее время между заказами\n",
    "  \n",
    "       Среднее время между заказами пользователей мобильных приложений такое же, как и у пользователей стационарных устройств.\n",
    "  \n",
    "       Н1: Среднее время между заказами пользователей мобильных приложений выше по сравнению с пользователями стационарных устройств.\n",
    "  \n",
    "       Нулевая гипотеза нашла подтверждение, пользователи мобильных устройств совершают следующий заказ в среднем через столько же дней, что и пользователи десктопных устройств.\n",
    "  \n",
    "       Проведена проверка нормальности распеределения тестом Шапиро. p value составило 0, нормальность распеределений была отвергнута.\n",
    "  \n",
    "       Для проверки статистической гипотезы использовался тест Манна-Уитни, p value составило 0.824 при альфа 0.5. Также был проведен статистический t-тест Стьюдента, p value составило 0.924 при альфа 0.5."
   ]
  },
  {
   "cell_type": "markdown",
   "metadata": {},
   "source": [
    "**Рекомендации:**\n",
    "\n",
    "При расчете скидочных кампаний, маркетинговых стратегий и планировании продаж на зимний период, рекомендуется следующее:\n",
    "1. Рекомендуется выстроить маркетинговые кампании вокруг следующих категорий мероприятий:  'спорт', 'театр', 'елки' по причине того, что ожидается продолжение роста заказов к зиме. \n",
    "2. В связи с бОльшей долей использоватения мобильных устройств по сравнению со стационарными устройствами, рекомендуется сконцентрироваться на добавлении дополнительных акций в мобильные приложения и в мобильные версии сайтов.\n",
    "3. Рекомендуется сконцентрироваться на кампаниях для мероприятий среди возрастных категорий 0, 12.\n",
    "4. Выручка может падать в связи с появление бюджетных предложений, в связи с этим можно увеличить количество рекламы для более дорогих предложений.\n",
    "5. В начале месяцев всплеск общего числа заказов, можно добавить акции и рекламу в первые числа месяцев.\n",
    "6. В связи повышенной активностью пользователей в будние дни, рекомендуется концентрироваться на проведении маркетинговых акций в будние дни. \n",
    "7. Рекомендуется сконцентироваться на двух регионах: Каменевский регион и Североярская область.\n",
    "8. Наибольший потенциал по выручке имеют 3 билетных партнера: 'Билеты без проблем', 'Мой билет' и 'Облачко'. Возможно имеет смысл продумать особые маркетинговые кампании с ними.\n",
    "9. Среднее количество заказов для пользователей мобильного приложения статистически значимо выше, что говорит о том, что рекомендуется концентрироваться на пользователях мобильных версий сервиса, готовить для них дополнительные акции и привлекать пользователей в приложение."
   ]
  },
  {
   "cell_type": "code",
   "execution_count": null,
   "metadata": {},
   "outputs": [],
   "source": []
  }
 ],
 "metadata": {
  "ExecuteTimeLog": [
   {
    "duration": 6558,
    "start_time": "2025-06-25T11:33:40.331Z"
   },
   {
    "duration": 1661,
    "start_time": "2025-06-25T11:35:39.454Z"
   },
   {
    "duration": 2580,
    "start_time": "2025-06-25T11:36:32.537Z"
   },
   {
    "duration": 103,
    "start_time": "2025-06-25T11:37:31.918Z"
   },
   {
    "duration": 23,
    "start_time": "2025-06-25T11:38:14.270Z"
   },
   {
    "duration": 118,
    "start_time": "2025-06-25T11:40:35.089Z"
   },
   {
    "duration": 103,
    "start_time": "2025-06-25T11:40:42.112Z"
   },
   {
    "duration": 86,
    "start_time": "2025-06-25T11:56:13.305Z"
   },
   {
    "duration": 20,
    "start_time": "2025-06-25T11:56:37.995Z"
   },
   {
    "duration": 84,
    "start_time": "2025-06-25T11:56:50.405Z"
   },
   {
    "duration": 94,
    "start_time": "2025-06-25T11:57:00.096Z"
   },
   {
    "duration": 15,
    "start_time": "2025-06-25T11:57:08.942Z"
   },
   {
    "duration": 12,
    "start_time": "2025-06-25T11:57:23.876Z"
   },
   {
    "duration": 12,
    "start_time": "2025-06-25T12:05:58.830Z"
   },
   {
    "duration": 6,
    "start_time": "2025-06-25T12:06:28.151Z"
   },
   {
    "duration": 9,
    "start_time": "2025-06-25T12:06:43.998Z"
   },
   {
    "duration": 245,
    "start_time": "2025-06-25T13:18:36.887Z"
   },
   {
    "duration": 196,
    "start_time": "2025-06-25T13:18:45.462Z"
   },
   {
    "duration": 196,
    "start_time": "2025-06-25T13:24:33.586Z"
   },
   {
    "duration": 2,
    "start_time": "2025-06-25T14:02:52.497Z"
   },
   {
    "duration": 4,
    "start_time": "2025-06-25T14:03:04.447Z"
   },
   {
    "duration": 95,
    "start_time": "2025-06-25T14:03:33.794Z"
   },
   {
    "duration": 4,
    "start_time": "2025-06-25T14:03:42.307Z"
   },
   {
    "duration": 23,
    "start_time": "2025-06-25T14:05:12.589Z"
   },
   {
    "duration": 24,
    "start_time": "2025-06-25T14:07:47.700Z"
   },
   {
    "duration": 25,
    "start_time": "2025-06-25T14:07:55.598Z"
   },
   {
    "duration": 40,
    "start_time": "2025-06-25T14:12:02.472Z"
   },
   {
    "duration": 219,
    "start_time": "2025-06-25T14:14:28.443Z"
   },
   {
    "duration": 96,
    "start_time": "2025-06-25T14:15:04.652Z"
   },
   {
    "duration": 43,
    "start_time": "2025-06-25T14:59:02.229Z"
   },
   {
    "duration": 33,
    "start_time": "2025-06-25T14:59:32.190Z"
   },
   {
    "duration": 7,
    "start_time": "2025-06-25T14:59:57.015Z"
   },
   {
    "duration": 30,
    "start_time": "2025-06-25T15:00:18.766Z"
   },
   {
    "duration": 30,
    "start_time": "2025-06-25T15:01:14.940Z"
   },
   {
    "duration": 27,
    "start_time": "2025-06-25T15:03:13.376Z"
   },
   {
    "duration": 30,
    "start_time": "2025-06-25T15:03:27.606Z"
   },
   {
    "duration": 40,
    "start_time": "2025-06-25T15:06:13.584Z"
   },
   {
    "duration": 33,
    "start_time": "2025-06-25T15:06:58.455Z"
   },
   {
    "duration": 29,
    "start_time": "2025-06-25T15:07:55.856Z"
   },
   {
    "duration": 1760,
    "start_time": "2025-06-25T15:13:00.829Z"
   },
   {
    "duration": 1021,
    "start_time": "2025-06-25T15:13:11.854Z"
   },
   {
    "duration": 90,
    "start_time": "2025-06-25T15:14:42.622Z"
   },
   {
    "duration": 163,
    "start_time": "2025-06-25T15:18:10.395Z"
   },
   {
    "duration": 24,
    "start_time": "2025-06-25T15:18:37.766Z"
   },
   {
    "duration": 3067,
    "start_time": "2025-06-25T15:22:34.226Z"
   },
   {
    "duration": 20,
    "start_time": "2025-06-25T15:25:23.552Z"
   },
   {
    "duration": 663,
    "start_time": "2025-06-25T15:25:45.247Z"
   },
   {
    "duration": 209,
    "start_time": "2025-06-25T15:34:04.341Z"
   },
   {
    "duration": 58,
    "start_time": "2025-06-25T15:36:29.382Z"
   },
   {
    "duration": 6,
    "start_time": "2025-06-25T15:37:14.550Z"
   },
   {
    "duration": 141,
    "start_time": "2025-06-25T15:38:22.971Z"
   },
   {
    "duration": 210,
    "start_time": "2025-06-25T15:38:35.812Z"
   },
   {
    "duration": 19,
    "start_time": "2025-06-25T15:50:48.222Z"
   },
   {
    "duration": 383,
    "start_time": "2025-06-25T15:51:44.779Z"
   },
   {
    "duration": 11,
    "start_time": "2025-06-25T15:56:11.488Z"
   },
   {
    "duration": 1144,
    "start_time": "2025-06-25T15:57:00.370Z"
   },
   {
    "duration": 9,
    "start_time": "2025-06-25T15:57:12.902Z"
   },
   {
    "duration": 6,
    "start_time": "2025-06-25T15:58:00.742Z"
   },
   {
    "duration": 6,
    "start_time": "2025-06-25T15:58:17.912Z"
   },
   {
    "duration": 6,
    "start_time": "2025-06-25T15:58:53.420Z"
   },
   {
    "duration": 7516,
    "start_time": "2025-06-25T17:39:58.904Z"
   },
   {
    "duration": 2460,
    "start_time": "2025-06-25T17:40:06.422Z"
   },
   {
    "duration": 116,
    "start_time": "2025-06-25T17:40:08.883Z"
   },
   {
    "duration": 121,
    "start_time": "2025-06-25T17:40:09.001Z"
   },
   {
    "duration": 35,
    "start_time": "2025-06-25T17:40:09.125Z"
   },
   {
    "duration": 20,
    "start_time": "2025-06-25T17:40:09.163Z"
   },
   {
    "duration": 14,
    "start_time": "2025-06-25T17:40:09.185Z"
   },
   {
    "duration": 40,
    "start_time": "2025-06-25T17:40:09.201Z"
   },
   {
    "duration": 17,
    "start_time": "2025-06-25T17:40:09.251Z"
   },
   {
    "duration": 6,
    "start_time": "2025-06-25T17:40:09.270Z"
   },
   {
    "duration": 17,
    "start_time": "2025-06-25T17:40:09.277Z"
   },
   {
    "duration": 277,
    "start_time": "2025-06-25T17:40:09.295Z"
   },
   {
    "duration": 245,
    "start_time": "2025-06-25T17:40:09.573Z"
   },
   {
    "duration": 47,
    "start_time": "2025-06-25T17:40:09.821Z"
   },
   {
    "duration": 221,
    "start_time": "2025-06-25T17:40:09.869Z"
   },
   {
    "duration": 29,
    "start_time": "2025-06-25T17:40:10.092Z"
   },
   {
    "duration": 48,
    "start_time": "2025-06-25T17:40:10.135Z"
   },
   {
    "duration": 7,
    "start_time": "2025-06-25T17:40:10.185Z"
   },
   {
    "duration": 68,
    "start_time": "2025-06-25T17:40:10.194Z"
   },
   {
    "duration": 34,
    "start_time": "2025-06-25T17:40:10.264Z"
   },
   {
    "duration": 38,
    "start_time": "2025-06-25T17:40:10.299Z"
   },
   {
    "duration": 42,
    "start_time": "2025-06-25T17:40:10.340Z"
   },
   {
    "duration": 96,
    "start_time": "2025-06-25T17:40:10.384Z"
   },
   {
    "duration": 24,
    "start_time": "2025-06-25T17:40:10.482Z"
   },
   {
    "duration": 660,
    "start_time": "2025-06-25T17:40:10.508Z"
   },
   {
    "duration": 80,
    "start_time": "2025-06-25T17:40:11.170Z"
   },
   {
    "duration": 11,
    "start_time": "2025-06-25T17:40:11.254Z"
   },
   {
    "duration": 147,
    "start_time": "2025-06-25T17:40:11.267Z"
   },
   {
    "duration": 14,
    "start_time": "2025-06-25T17:40:11.416Z"
   },
   {
    "duration": 442,
    "start_time": "2025-06-25T17:40:11.439Z"
   },
   {
    "duration": 11,
    "start_time": "2025-06-25T17:40:11.882Z"
   },
   {
    "duration": 9,
    "start_time": "2025-06-25T17:40:11.895Z"
   },
   {
    "duration": 71,
    "start_time": "2025-06-25T17:40:11.906Z"
   },
   {
    "duration": 68,
    "start_time": "2025-06-25T17:40:11.978Z"
   },
   {
    "duration": 90,
    "start_time": "2025-06-25T17:42:37.915Z"
   },
   {
    "duration": 13,
    "start_time": "2025-06-25T17:42:50.764Z"
   },
   {
    "duration": 14,
    "start_time": "2025-06-25T17:43:21.007Z"
   },
   {
    "duration": 207,
    "start_time": "2025-06-25T17:44:14.556Z"
   },
   {
    "duration": 79,
    "start_time": "2025-06-25T17:44:28.202Z"
   },
   {
    "duration": 14,
    "start_time": "2025-06-25T17:47:16.856Z"
   },
   {
    "duration": 55,
    "start_time": "2025-06-25T17:52:47.358Z"
   },
   {
    "duration": 329,
    "start_time": "2025-06-25T17:53:00.065Z"
   },
   {
    "duration": 490,
    "start_time": "2025-06-25T17:54:00.715Z"
   },
   {
    "duration": 124,
    "start_time": "2025-06-25T18:02:03.665Z"
   },
   {
    "duration": 4,
    "start_time": "2025-06-25T18:03:46.604Z"
   },
   {
    "duration": 4,
    "start_time": "2025-06-25T18:03:58.112Z"
   },
   {
    "duration": 155,
    "start_time": "2025-06-25T18:05:47.384Z"
   },
   {
    "duration": 594,
    "start_time": "2025-06-25T18:06:48.999Z"
   },
   {
    "duration": 202,
    "start_time": "2025-06-25T18:21:53.672Z"
   },
   {
    "duration": 17,
    "start_time": "2025-06-25T18:30:44.855Z"
   },
   {
    "duration": 21,
    "start_time": "2025-06-25T18:31:12.177Z"
   },
   {
    "duration": 9,
    "start_time": "2025-06-25T18:32:19.659Z"
   },
   {
    "duration": 104,
    "start_time": "2025-06-25T18:32:57.242Z"
   },
   {
    "duration": 107,
    "start_time": "2025-06-25T18:35:41.658Z"
   },
   {
    "duration": 126,
    "start_time": "2025-06-25T18:36:54.185Z"
   },
   {
    "duration": 108,
    "start_time": "2025-06-25T18:38:32.835Z"
   },
   {
    "duration": 246,
    "start_time": "2025-06-25T18:41:42.375Z"
   },
   {
    "duration": 389,
    "start_time": "2025-06-25T18:43:53.749Z"
   },
   {
    "duration": 210,
    "start_time": "2025-06-25T18:44:15.667Z"
   },
   {
    "duration": 204,
    "start_time": "2025-06-25T18:44:33.987Z"
   },
   {
    "duration": 191,
    "start_time": "2025-06-25T18:44:36.267Z"
   },
   {
    "duration": 43,
    "start_time": "2025-06-25T18:45:08.417Z"
   },
   {
    "duration": 5,
    "start_time": "2025-06-25T18:48:38.760Z"
   },
   {
    "duration": 4,
    "start_time": "2025-06-25T18:49:42.013Z"
   },
   {
    "duration": 2,
    "start_time": "2025-06-25T18:52:52.969Z"
   },
   {
    "duration": 1063,
    "start_time": "2025-06-25T18:57:10.455Z"
   },
   {
    "duration": 13,
    "start_time": "2025-06-25T18:57:21.318Z"
   },
   {
    "duration": 29,
    "start_time": "2025-06-25T18:58:10.077Z"
   },
   {
    "duration": 51,
    "start_time": "2025-06-26T12:46:28.813Z"
   },
   {
    "duration": 6629,
    "start_time": "2025-06-26T12:46:37.154Z"
   },
   {
    "duration": 3263,
    "start_time": "2025-06-26T12:46:43.786Z"
   },
   {
    "duration": 105,
    "start_time": "2025-06-26T12:46:47.051Z"
   },
   {
    "duration": 103,
    "start_time": "2025-06-26T12:46:47.158Z"
   },
   {
    "duration": 18,
    "start_time": "2025-06-26T12:46:47.264Z"
   },
   {
    "duration": 38,
    "start_time": "2025-06-26T12:46:47.284Z"
   },
   {
    "duration": 25,
    "start_time": "2025-06-26T12:46:47.324Z"
   },
   {
    "duration": 43,
    "start_time": "2025-06-26T12:46:47.350Z"
   },
   {
    "duration": 31,
    "start_time": "2025-06-26T12:46:47.394Z"
   },
   {
    "duration": 31,
    "start_time": "2025-06-26T12:46:47.427Z"
   },
   {
    "duration": 22,
    "start_time": "2025-06-26T12:46:47.460Z"
   },
   {
    "duration": 288,
    "start_time": "2025-06-26T12:46:47.484Z"
   },
   {
    "duration": 205,
    "start_time": "2025-06-26T12:46:47.774Z"
   },
   {
    "duration": 67,
    "start_time": "2025-06-26T12:46:47.983Z"
   },
   {
    "duration": 224,
    "start_time": "2025-06-26T12:46:48.051Z"
   },
   {
    "duration": 31,
    "start_time": "2025-06-26T12:46:48.277Z"
   },
   {
    "duration": 57,
    "start_time": "2025-06-26T12:46:48.310Z"
   },
   {
    "duration": 12,
    "start_time": "2025-06-26T12:46:48.369Z"
   },
   {
    "duration": 32,
    "start_time": "2025-06-26T12:46:48.382Z"
   },
   {
    "duration": 30,
    "start_time": "2025-06-26T12:46:48.416Z"
   },
   {
    "duration": 44,
    "start_time": "2025-06-26T12:46:48.448Z"
   },
   {
    "duration": 93,
    "start_time": "2025-06-26T12:46:48.494Z"
   },
   {
    "duration": 94,
    "start_time": "2025-06-26T12:46:48.588Z"
   },
   {
    "duration": 34,
    "start_time": "2025-06-26T12:46:48.684Z"
   },
   {
    "duration": 606,
    "start_time": "2025-06-26T12:46:48.719Z"
   },
   {
    "duration": 64,
    "start_time": "2025-06-26T12:46:49.326Z"
   },
   {
    "duration": 18,
    "start_time": "2025-06-26T12:46:49.391Z"
   },
   {
    "duration": 150,
    "start_time": "2025-06-26T12:46:49.410Z"
   },
   {
    "duration": 15,
    "start_time": "2025-06-26T12:46:49.561Z"
   },
   {
    "duration": 434,
    "start_time": "2025-06-26T12:46:49.578Z"
   },
   {
    "duration": 11,
    "start_time": "2025-06-26T12:46:50.014Z"
   },
   {
    "duration": 51,
    "start_time": "2025-06-26T12:46:50.027Z"
   },
   {
    "duration": 36,
    "start_time": "2025-06-26T12:46:50.080Z"
   },
   {
    "duration": 26,
    "start_time": "2025-06-26T12:46:50.118Z"
   },
   {
    "duration": 621,
    "start_time": "2025-06-26T12:46:50.146Z"
   },
   {
    "duration": 127,
    "start_time": "2025-06-26T12:46:50.769Z"
   },
   {
    "duration": 8,
    "start_time": "2025-06-26T12:46:50.898Z"
   },
   {
    "duration": 232,
    "start_time": "2025-06-26T12:46:50.908Z"
   },
   {
    "duration": 551,
    "start_time": "2025-06-26T12:46:51.142Z"
   },
   {
    "duration": 361,
    "start_time": "2025-06-26T12:46:51.695Z"
   },
   {
    "duration": 182,
    "start_time": "2025-06-26T12:46:52.059Z"
   },
   {
    "duration": 5,
    "start_time": "2025-06-26T12:46:52.242Z"
   },
   {
    "duration": 7,
    "start_time": "2025-06-26T12:46:52.249Z"
   },
   {
    "duration": 31,
    "start_time": "2025-06-26T12:46:52.258Z"
   },
   {
    "duration": 23,
    "start_time": "2025-06-26T12:46:52.290Z"
   },
   {
    "duration": 79,
    "start_time": "2025-06-26T12:50:59.532Z"
   },
   {
    "duration": 113,
    "start_time": "2025-06-26T12:51:17.560Z"
   },
   {
    "duration": 181,
    "start_time": "2025-06-26T12:51:23.030Z"
   },
   {
    "duration": 13,
    "start_time": "2025-06-26T12:53:04.919Z"
   },
   {
    "duration": 9,
    "start_time": "2025-06-26T12:53:29.591Z"
   },
   {
    "duration": 35,
    "start_time": "2025-06-26T12:58:25.269Z"
   },
   {
    "duration": 43,
    "start_time": "2025-06-26T12:58:57.313Z"
   },
   {
    "duration": 212,
    "start_time": "2025-06-26T12:59:18.318Z"
   },
   {
    "duration": 49,
    "start_time": "2025-06-26T13:00:19.847Z"
   },
   {
    "duration": 45,
    "start_time": "2025-06-26T13:00:28.374Z"
   },
   {
    "duration": 11,
    "start_time": "2025-06-26T13:00:43.152Z"
   },
   {
    "duration": 392,
    "start_time": "2025-06-26T13:03:48.655Z"
   },
   {
    "duration": 3,
    "start_time": "2025-06-26T13:04:52.173Z"
   },
   {
    "duration": 190,
    "start_time": "2025-06-26T13:05:00.585Z"
   },
   {
    "duration": 220,
    "start_time": "2025-06-26T13:05:28.790Z"
   },
   {
    "duration": 755,
    "start_time": "2025-06-26T13:05:53.740Z"
   },
   {
    "duration": 28,
    "start_time": "2025-06-26T13:06:09.194Z"
   },
   {
    "duration": 154,
    "start_time": "2025-06-26T13:17:20.559Z"
   },
   {
    "duration": 11,
    "start_time": "2025-06-26T13:20:02.363Z"
   },
   {
    "duration": 9,
    "start_time": "2025-06-26T13:20:14.046Z"
   },
   {
    "duration": 6,
    "start_time": "2025-06-26T13:21:34.669Z"
   },
   {
    "duration": 11,
    "start_time": "2025-06-26T13:29:43.098Z"
   },
   {
    "duration": 1124,
    "start_time": "2025-06-26T13:30:02.145Z"
   },
   {
    "duration": 3,
    "start_time": "2025-06-26T13:30:18.950Z"
   },
   {
    "duration": 12,
    "start_time": "2025-06-26T13:30:31.801Z"
   },
   {
    "duration": 13,
    "start_time": "2025-06-26T13:32:59.428Z"
   },
   {
    "duration": 11,
    "start_time": "2025-06-26T13:33:40.390Z"
   },
   {
    "duration": 364,
    "start_time": "2025-06-26T13:34:00.237Z"
   },
   {
    "duration": 1280,
    "start_time": "2025-06-26T14:14:49.848Z"
   },
   {
    "duration": 286,
    "start_time": "2025-06-26T14:15:55.463Z"
   },
   {
    "duration": 1582,
    "start_time": "2025-06-26T14:16:20.461Z"
   },
   {
    "duration": 650,
    "start_time": "2025-06-26T14:17:16.286Z"
   },
   {
    "duration": 1807,
    "start_time": "2025-06-26T14:17:21.770Z"
   },
   {
    "duration": 579,
    "start_time": "2025-06-26T14:18:08.184Z"
   },
   {
    "duration": 3278,
    "start_time": "2025-06-26T14:18:46.484Z"
   },
   {
    "duration": 2427,
    "start_time": "2025-06-26T14:18:49.764Z"
   },
   {
    "duration": 104,
    "start_time": "2025-06-26T14:18:52.193Z"
   },
   {
    "duration": 94,
    "start_time": "2025-06-26T14:18:52.299Z"
   },
   {
    "duration": 24,
    "start_time": "2025-06-26T14:18:52.395Z"
   },
   {
    "duration": 120,
    "start_time": "2025-06-26T14:18:52.421Z"
   },
   {
    "duration": 14,
    "start_time": "2025-06-26T14:18:52.543Z"
   },
   {
    "duration": 117,
    "start_time": "2025-06-26T14:18:52.558Z"
   },
   {
    "duration": 11,
    "start_time": "2025-06-26T14:18:52.677Z"
   },
   {
    "duration": 28,
    "start_time": "2025-06-26T14:18:52.690Z"
   },
   {
    "duration": 8,
    "start_time": "2025-06-26T14:18:52.720Z"
   },
   {
    "duration": 266,
    "start_time": "2025-06-26T14:18:52.729Z"
   },
   {
    "duration": 198,
    "start_time": "2025-06-26T14:18:52.996Z"
   },
   {
    "duration": 26,
    "start_time": "2025-06-26T14:18:53.204Z"
   },
   {
    "duration": 232,
    "start_time": "2025-06-26T14:18:53.232Z"
   },
   {
    "duration": 29,
    "start_time": "2025-06-26T14:18:53.466Z"
   },
   {
    "duration": 42,
    "start_time": "2025-06-26T14:18:53.506Z"
   },
   {
    "duration": 8,
    "start_time": "2025-06-26T14:18:53.550Z"
   },
   {
    "duration": 47,
    "start_time": "2025-06-26T14:18:53.560Z"
   },
   {
    "duration": 35,
    "start_time": "2025-06-26T14:18:53.609Z"
   },
   {
    "duration": 34,
    "start_time": "2025-06-26T14:18:53.646Z"
   },
   {
    "duration": 43,
    "start_time": "2025-06-26T14:18:53.682Z"
   },
   {
    "duration": 109,
    "start_time": "2025-06-26T14:18:53.727Z"
   },
   {
    "duration": 27,
    "start_time": "2025-06-26T14:18:53.837Z"
   },
   {
    "duration": 587,
    "start_time": "2025-06-26T14:18:53.866Z"
   },
   {
    "duration": 76,
    "start_time": "2025-06-26T14:18:54.455Z"
   },
   {
    "duration": 8,
    "start_time": "2025-06-26T14:18:54.532Z"
   },
   {
    "duration": 154,
    "start_time": "2025-06-26T14:18:54.541Z"
   },
   {
    "duration": 16,
    "start_time": "2025-06-26T14:18:54.696Z"
   },
   {
    "duration": 467,
    "start_time": "2025-06-26T14:18:54.714Z"
   },
   {
    "duration": 11,
    "start_time": "2025-06-26T14:18:55.183Z"
   },
   {
    "duration": 8,
    "start_time": "2025-06-26T14:18:55.205Z"
   },
   {
    "duration": 9,
    "start_time": "2025-06-26T14:18:55.214Z"
   },
   {
    "duration": 5,
    "start_time": "2025-06-26T14:18:55.224Z"
   },
   {
    "duration": 632,
    "start_time": "2025-06-26T14:18:55.230Z"
   },
   {
    "duration": 120,
    "start_time": "2025-06-26T14:18:55.863Z"
   },
   {
    "duration": 3,
    "start_time": "2025-06-26T14:18:55.985Z"
   },
   {
    "duration": 185,
    "start_time": "2025-06-26T14:18:55.990Z"
   },
   {
    "duration": 561,
    "start_time": "2025-06-26T14:18:56.177Z"
   },
   {
    "duration": 362,
    "start_time": "2025-06-26T14:18:56.739Z"
   },
   {
    "duration": 180,
    "start_time": "2025-06-26T14:18:57.104Z"
   },
   {
    "duration": 5,
    "start_time": "2025-06-26T14:18:57.285Z"
   },
   {
    "duration": 14,
    "start_time": "2025-06-26T14:18:57.292Z"
   },
   {
    "duration": 220,
    "start_time": "2025-06-26T14:18:57.307Z"
   },
   {
    "duration": 743,
    "start_time": "2025-06-26T14:18:57.529Z"
   },
   {
    "duration": 308,
    "start_time": "2025-06-26T14:18:58.274Z"
   },
   {
    "duration": 171,
    "start_time": "2025-06-26T14:18:58.584Z"
   },
   {
    "duration": 10,
    "start_time": "2025-06-26T14:18:58.757Z"
   },
   {
    "duration": 5,
    "start_time": "2025-06-26T14:22:40.975Z"
   },
   {
    "duration": 398,
    "start_time": "2025-06-26T14:37:56.093Z"
   },
   {
    "duration": 6190,
    "start_time": "2025-06-26T14:40:21.589Z"
   },
   {
    "duration": 202,
    "start_time": "2025-06-26T14:40:43.963Z"
   },
   {
    "duration": 5,
    "start_time": "2025-06-26T14:46:28.088Z"
   },
   {
    "duration": 185,
    "start_time": "2025-06-26T14:47:12.268Z"
   },
   {
    "duration": 46,
    "start_time": "2025-06-26T14:48:43.358Z"
   },
   {
    "duration": 2,
    "start_time": "2025-06-26T14:52:52.439Z"
   },
   {
    "duration": 4,
    "start_time": "2025-06-26T14:54:08.397Z"
   },
   {
    "duration": 5,
    "start_time": "2025-06-26T14:56:40.935Z"
   },
   {
    "duration": 5,
    "start_time": "2025-06-26T14:56:51.398Z"
   },
   {
    "duration": 4,
    "start_time": "2025-06-26T14:56:58.719Z"
   },
   {
    "duration": 8,
    "start_time": "2025-06-26T16:07:38.036Z"
   },
   {
    "duration": 18,
    "start_time": "2025-06-26T16:07:50.068Z"
   },
   {
    "duration": 10,
    "start_time": "2025-06-26T16:09:29.393Z"
   },
   {
    "duration": 30,
    "start_time": "2025-06-26T16:19:30.260Z"
   },
   {
    "duration": 9,
    "start_time": "2025-06-26T16:19:44.158Z"
   },
   {
    "duration": 6,
    "start_time": "2025-06-26T16:19:58.878Z"
   },
   {
    "duration": 9,
    "start_time": "2025-06-26T16:20:44.977Z"
   },
   {
    "duration": 5,
    "start_time": "2025-06-26T16:20:47.565Z"
   },
   {
    "duration": 5,
    "start_time": "2025-06-26T16:21:01.781Z"
   },
   {
    "duration": 5,
    "start_time": "2025-06-26T16:23:56.468Z"
   },
   {
    "duration": 151,
    "start_time": "2025-06-26T16:25:36.302Z"
   },
   {
    "duration": 45,
    "start_time": "2025-06-26T16:33:08.252Z"
   },
   {
    "duration": 5,
    "start_time": "2025-06-26T16:35:28.145Z"
   },
   {
    "duration": 47,
    "start_time": "2025-06-26T16:43:24.789Z"
   },
   {
    "duration": 9,
    "start_time": "2025-06-26T16:43:33.225Z"
   },
   {
    "duration": 49,
    "start_time": "2025-06-26T16:45:13.795Z"
   },
   {
    "duration": 11,
    "start_time": "2025-06-26T16:45:15.763Z"
   },
   {
    "duration": 21,
    "start_time": "2025-06-26T17:02:56.973Z"
   },
   {
    "duration": 15,
    "start_time": "2025-06-26T17:04:27.611Z"
   },
   {
    "duration": 230,
    "start_time": "2025-06-26T17:04:44.848Z"
   },
   {
    "duration": 125,
    "start_time": "2025-06-26T17:05:18.407Z"
   },
   {
    "duration": 3086,
    "start_time": "2025-06-26T17:06:20.250Z"
   },
   {
    "duration": 250,
    "start_time": "2025-06-26T17:07:03.392Z"
   },
   {
    "duration": 264,
    "start_time": "2025-06-26T17:08:12.956Z"
   },
   {
    "duration": 235,
    "start_time": "2025-06-26T17:08:26.228Z"
   },
   {
    "duration": 61,
    "start_time": "2025-06-26T17:13:25.490Z"
   },
   {
    "duration": 227,
    "start_time": "2025-06-26T17:13:32.899Z"
   },
   {
    "duration": 44,
    "start_time": "2025-06-26T17:14:59.308Z"
   },
   {
    "duration": 16,
    "start_time": "2025-06-26T17:15:16.145Z"
   },
   {
    "duration": 167,
    "start_time": "2025-06-26T17:15:42.731Z"
   },
   {
    "duration": 33,
    "start_time": "2025-06-26T17:19:28.300Z"
   },
   {
    "duration": 224,
    "start_time": "2025-06-26T17:20:35.853Z"
   },
   {
    "duration": 34,
    "start_time": "2025-06-26T17:21:38.115Z"
   },
   {
    "duration": 198,
    "start_time": "2025-06-26T17:21:41.615Z"
   },
   {
    "duration": 10,
    "start_time": "2025-06-26T17:24:57.478Z"
   },
   {
    "duration": 56,
    "start_time": "2025-06-26T17:27:52.040Z"
   },
   {
    "duration": 11,
    "start_time": "2025-06-26T17:42:54.377Z"
   },
   {
    "duration": 17,
    "start_time": "2025-06-26T17:43:05.501Z"
   },
   {
    "duration": 18,
    "start_time": "2025-06-26T17:49:49.273Z"
   },
   {
    "duration": 18,
    "start_time": "2025-06-26T17:50:06.849Z"
   },
   {
    "duration": 1068,
    "start_time": "2025-06-26T17:54:12.589Z"
   },
   {
    "duration": 1245,
    "start_time": "2025-06-26T17:54:32.219Z"
   },
   {
    "duration": 1111,
    "start_time": "2025-06-26T17:54:54.355Z"
   },
   {
    "duration": 20,
    "start_time": "2025-06-26T17:56:30.993Z"
   },
   {
    "duration": 157,
    "start_time": "2025-06-26T17:57:58.190Z"
   },
   {
    "duration": 149,
    "start_time": "2025-06-26T17:58:24.631Z"
   },
   {
    "duration": 50,
    "start_time": "2025-06-26T18:01:55.011Z"
   },
   {
    "duration": 2,
    "start_time": "2025-06-26T18:05:57.105Z"
   },
   {
    "duration": 48,
    "start_time": "2025-06-26T18:08:50.728Z"
   },
   {
    "duration": 146,
    "start_time": "2025-06-26T18:12:26.011Z"
   },
   {
    "duration": 91,
    "start_time": "2025-06-26T18:17:44.730Z"
   },
   {
    "duration": 88,
    "start_time": "2025-06-26T18:17:52.429Z"
   },
   {
    "duration": 36,
    "start_time": "2025-06-26T18:19:57.109Z"
   },
   {
    "duration": 41,
    "start_time": "2025-06-26T18:20:13.798Z"
   },
   {
    "duration": 36,
    "start_time": "2025-06-26T18:20:25.476Z"
   },
   {
    "duration": 40,
    "start_time": "2025-06-26T18:27:22.406Z"
   },
   {
    "duration": 39,
    "start_time": "2025-06-26T18:27:30.801Z"
   },
   {
    "duration": 46,
    "start_time": "2025-06-26T18:27:46.474Z"
   },
   {
    "duration": 46,
    "start_time": "2025-06-26T18:28:47.230Z"
   },
   {
    "duration": 82,
    "start_time": "2025-06-26T18:35:01.854Z"
   },
   {
    "duration": 1042,
    "start_time": "2025-06-26T18:35:13.350Z"
   },
   {
    "duration": 297,
    "start_time": "2025-06-26T18:37:21.900Z"
   },
   {
    "duration": 296,
    "start_time": "2025-06-26T18:38:08.063Z"
   },
   {
    "duration": 280,
    "start_time": "2025-06-26T18:39:26.473Z"
   },
   {
    "duration": 306,
    "start_time": "2025-06-26T18:40:45.555Z"
   },
   {
    "duration": 8333,
    "start_time": "2025-06-27T08:22:28.835Z"
   },
   {
    "duration": 2487,
    "start_time": "2025-06-27T08:22:37.170Z"
   },
   {
    "duration": 108,
    "start_time": "2025-06-27T08:22:39.659Z"
   },
   {
    "duration": 95,
    "start_time": "2025-06-27T08:22:39.769Z"
   },
   {
    "duration": 16,
    "start_time": "2025-06-27T08:22:39.866Z"
   },
   {
    "duration": 20,
    "start_time": "2025-06-27T08:22:39.884Z"
   },
   {
    "duration": 34,
    "start_time": "2025-06-27T08:22:39.906Z"
   },
   {
    "duration": 11,
    "start_time": "2025-06-27T08:22:39.942Z"
   },
   {
    "duration": 20,
    "start_time": "2025-06-27T08:22:39.955Z"
   },
   {
    "duration": 11,
    "start_time": "2025-06-27T08:22:39.977Z"
   },
   {
    "duration": 10,
    "start_time": "2025-06-27T08:22:39.990Z"
   },
   {
    "duration": 264,
    "start_time": "2025-06-27T08:22:40.001Z"
   },
   {
    "duration": 184,
    "start_time": "2025-06-27T08:22:40.267Z"
   },
   {
    "duration": 22,
    "start_time": "2025-06-27T08:22:40.453Z"
   },
   {
    "duration": 248,
    "start_time": "2025-06-27T08:22:40.477Z"
   },
   {
    "duration": 28,
    "start_time": "2025-06-27T08:22:40.727Z"
   },
   {
    "duration": 31,
    "start_time": "2025-06-27T08:22:40.757Z"
   },
   {
    "duration": 14,
    "start_time": "2025-06-27T08:22:40.790Z"
   },
   {
    "duration": 45,
    "start_time": "2025-06-27T08:22:40.806Z"
   },
   {
    "duration": 28,
    "start_time": "2025-06-27T08:22:40.853Z"
   },
   {
    "duration": 58,
    "start_time": "2025-06-27T08:22:40.883Z"
   },
   {
    "duration": 31,
    "start_time": "2025-06-27T08:22:40.943Z"
   },
   {
    "duration": 103,
    "start_time": "2025-06-27T08:22:40.976Z"
   },
   {
    "duration": 24,
    "start_time": "2025-06-27T08:22:41.081Z"
   },
   {
    "duration": 561,
    "start_time": "2025-06-27T08:22:41.106Z"
   },
   {
    "duration": 74,
    "start_time": "2025-06-27T08:22:41.669Z"
   },
   {
    "duration": 6,
    "start_time": "2025-06-27T08:22:41.745Z"
   },
   {
    "duration": 147,
    "start_time": "2025-06-27T08:22:41.755Z"
   },
   {
    "duration": 14,
    "start_time": "2025-06-27T08:22:41.904Z"
   },
   {
    "duration": 376,
    "start_time": "2025-06-27T08:22:41.920Z"
   },
   {
    "duration": 11,
    "start_time": "2025-06-27T08:22:42.298Z"
   },
   {
    "duration": 9,
    "start_time": "2025-06-27T08:22:42.311Z"
   },
   {
    "duration": 18,
    "start_time": "2025-06-27T08:22:42.322Z"
   },
   {
    "duration": 9,
    "start_time": "2025-06-27T08:22:42.342Z"
   },
   {
    "duration": 596,
    "start_time": "2025-06-27T08:22:42.352Z"
   },
   {
    "duration": 135,
    "start_time": "2025-06-27T08:22:42.949Z"
   },
   {
    "duration": 4,
    "start_time": "2025-06-27T08:22:43.085Z"
   },
   {
    "duration": 159,
    "start_time": "2025-06-27T08:22:43.091Z"
   },
   {
    "duration": 573,
    "start_time": "2025-06-27T08:22:43.252Z"
   },
   {
    "duration": 356,
    "start_time": "2025-06-27T08:22:43.827Z"
   },
   {
    "duration": 176,
    "start_time": "2025-06-27T08:22:44.185Z"
   },
   {
    "duration": 5,
    "start_time": "2025-06-27T08:22:44.363Z"
   },
   {
    "duration": 4,
    "start_time": "2025-06-27T08:22:44.369Z"
   },
   {
    "duration": 314,
    "start_time": "2025-06-27T08:22:44.374Z"
   },
   {
    "duration": 5,
    "start_time": "2025-06-27T08:22:44.690Z"
   },
   {
    "duration": 5283,
    "start_time": "2025-06-27T08:22:44.696Z"
   },
   {
    "duration": 5,
    "start_time": "2025-06-27T08:22:49.981Z"
   },
   {
    "duration": 53,
    "start_time": "2025-06-27T08:22:49.987Z"
   },
   {
    "duration": 673,
    "start_time": "2025-06-27T08:22:50.042Z"
   },
   {
    "duration": 195,
    "start_time": "2025-06-27T08:22:50.717Z"
   },
   {
    "duration": 146,
    "start_time": "2025-06-27T08:22:50.914Z"
   },
   {
    "duration": 4,
    "start_time": "2025-06-27T08:22:51.062Z"
   },
   {
    "duration": 17,
    "start_time": "2025-06-27T08:22:51.067Z"
   },
   {
    "duration": 11,
    "start_time": "2025-06-27T08:22:51.086Z"
   },
   {
    "duration": 161,
    "start_time": "2025-06-27T08:22:51.099Z"
   },
   {
    "duration": 47,
    "start_time": "2025-06-27T08:22:51.262Z"
   },
   {
    "duration": 236,
    "start_time": "2025-06-27T08:22:51.310Z"
   },
   {
    "duration": 44,
    "start_time": "2025-06-27T08:22:51.548Z"
   },
   {
    "duration": 330,
    "start_time": "2025-06-27T08:22:51.594Z"
   },
   {
    "duration": 36,
    "start_time": "2025-06-27T08:22:51.925Z"
   },
   {
    "duration": 197,
    "start_time": "2025-06-27T08:22:51.963Z"
   },
   {
    "duration": 51,
    "start_time": "2025-06-27T08:22:52.162Z"
   },
   {
    "duration": 35,
    "start_time": "2025-06-27T08:22:52.214Z"
   },
   {
    "duration": 235,
    "start_time": "2025-06-27T08:22:52.251Z"
   },
   {
    "duration": 56,
    "start_time": "2025-06-27T08:22:52.488Z"
   },
   {
    "duration": 127,
    "start_time": "2025-06-27T08:22:52.546Z"
   },
   {
    "duration": 52,
    "start_time": "2025-06-27T08:22:52.675Z"
   },
   {
    "duration": 288,
    "start_time": "2025-06-27T08:22:52.729Z"
   },
   {
    "duration": 281,
    "start_time": "2025-06-27T08:22:53.018Z"
   },
   {
    "duration": 297,
    "start_time": "2025-06-27T08:22:53.301Z"
   },
   {
    "duration": 313,
    "start_time": "2025-06-27T08:22:53.600Z"
   },
   {
    "duration": 49,
    "start_time": "2025-06-28T17:39:39.391Z"
   },
   {
    "duration": 7168,
    "start_time": "2025-06-28T17:39:47.048Z"
   },
   {
    "duration": 2063,
    "start_time": "2025-06-28T17:39:54.219Z"
   },
   {
    "duration": 106,
    "start_time": "2025-06-28T17:39:56.284Z"
   },
   {
    "duration": 108,
    "start_time": "2025-06-28T17:39:56.392Z"
   },
   {
    "duration": 34,
    "start_time": "2025-06-28T17:39:56.504Z"
   },
   {
    "duration": 29,
    "start_time": "2025-06-28T17:39:56.541Z"
   },
   {
    "duration": 14,
    "start_time": "2025-06-28T17:39:56.572Z"
   },
   {
    "duration": 22,
    "start_time": "2025-06-28T17:39:56.587Z"
   },
   {
    "duration": 9,
    "start_time": "2025-06-28T17:39:56.610Z"
   },
   {
    "duration": 12,
    "start_time": "2025-06-28T17:39:56.637Z"
   },
   {
    "duration": 17,
    "start_time": "2025-06-28T17:39:56.650Z"
   },
   {
    "duration": 268,
    "start_time": "2025-06-28T17:39:56.669Z"
   },
   {
    "duration": 226,
    "start_time": "2025-06-28T17:39:56.940Z"
   },
   {
    "duration": 23,
    "start_time": "2025-06-28T17:39:57.169Z"
   },
   {
    "duration": 231,
    "start_time": "2025-06-28T17:39:57.194Z"
   },
   {
    "duration": 40,
    "start_time": "2025-06-28T17:39:57.427Z"
   },
   {
    "duration": 29,
    "start_time": "2025-06-28T17:39:57.468Z"
   },
   {
    "duration": 7,
    "start_time": "2025-06-28T17:39:57.499Z"
   },
   {
    "duration": 66,
    "start_time": "2025-06-28T17:39:57.507Z"
   },
   {
    "duration": 55,
    "start_time": "2025-06-28T17:39:57.575Z"
   },
   {
    "duration": 41,
    "start_time": "2025-06-28T17:39:57.631Z"
   },
   {
    "duration": 55,
    "start_time": "2025-06-28T17:39:57.673Z"
   },
   {
    "duration": 93,
    "start_time": "2025-06-28T17:39:57.730Z"
   },
   {
    "duration": 39,
    "start_time": "2025-06-28T17:39:57.824Z"
   },
   {
    "duration": 530,
    "start_time": "2025-06-28T17:39:57.865Z"
   },
   {
    "duration": 76,
    "start_time": "2025-06-28T17:39:58.396Z"
   },
   {
    "duration": 6,
    "start_time": "2025-06-28T17:39:58.474Z"
   },
   {
    "duration": 169,
    "start_time": "2025-06-28T17:39:58.481Z"
   },
   {
    "duration": 15,
    "start_time": "2025-06-28T17:39:58.652Z"
   },
   {
    "duration": 382,
    "start_time": "2025-06-28T17:39:58.669Z"
   },
   {
    "duration": 10,
    "start_time": "2025-06-28T17:39:59.053Z"
   },
   {
    "duration": 12,
    "start_time": "2025-06-28T17:39:59.065Z"
   },
   {
    "duration": 20,
    "start_time": "2025-06-28T17:39:59.079Z"
   },
   {
    "duration": 91,
    "start_time": "2025-06-28T17:39:59.101Z"
   },
   {
    "duration": 616,
    "start_time": "2025-06-28T17:39:59.194Z"
   },
   {
    "duration": 138,
    "start_time": "2025-06-28T17:39:59.811Z"
   },
   {
    "duration": 4,
    "start_time": "2025-06-28T17:39:59.951Z"
   },
   {
    "duration": 157,
    "start_time": "2025-06-28T17:39:59.956Z"
   },
   {
    "duration": 576,
    "start_time": "2025-06-28T17:40:00.115Z"
   },
   {
    "duration": 368,
    "start_time": "2025-06-28T17:40:00.692Z"
   },
   {
    "duration": 178,
    "start_time": "2025-06-28T17:40:01.065Z"
   },
   {
    "duration": 9,
    "start_time": "2025-06-28T17:40:01.246Z"
   },
   {
    "duration": 99,
    "start_time": "2025-06-28T17:40:01.257Z"
   },
   {
    "duration": 332,
    "start_time": "2025-06-28T17:40:01.358Z"
   },
   {
    "duration": 4,
    "start_time": "2025-06-28T17:40:01.692Z"
   },
   {
    "duration": 5519,
    "start_time": "2025-06-28T17:40:01.698Z"
   },
   {
    "duration": 32,
    "start_time": "2025-06-28T17:40:07.219Z"
   },
   {
    "duration": 132,
    "start_time": "2025-06-28T17:40:07.254Z"
   },
   {
    "duration": 710,
    "start_time": "2025-06-28T17:40:07.388Z"
   },
   {
    "duration": 214,
    "start_time": "2025-06-28T17:40:08.100Z"
   },
   {
    "duration": 149,
    "start_time": "2025-06-28T17:40:08.316Z"
   },
   {
    "duration": 4,
    "start_time": "2025-06-28T17:40:08.467Z"
   },
   {
    "duration": 53,
    "start_time": "2025-06-28T17:40:08.473Z"
   },
   {
    "duration": 21,
    "start_time": "2025-06-28T17:40:08.527Z"
   },
   {
    "duration": 161,
    "start_time": "2025-06-28T17:40:08.551Z"
   },
   {
    "duration": 62,
    "start_time": "2025-06-28T17:40:08.714Z"
   },
   {
    "duration": 232,
    "start_time": "2025-06-28T17:40:08.777Z"
   },
   {
    "duration": 61,
    "start_time": "2025-06-28T17:40:09.010Z"
   },
   {
    "duration": 174,
    "start_time": "2025-06-28T17:40:09.073Z"
   },
   {
    "duration": 31,
    "start_time": "2025-06-28T17:40:09.254Z"
   },
   {
    "duration": 223,
    "start_time": "2025-06-28T17:40:09.287Z"
   },
   {
    "duration": 64,
    "start_time": "2025-06-28T17:40:09.512Z"
   },
   {
    "duration": 19,
    "start_time": "2025-06-28T17:40:09.577Z"
   },
   {
    "duration": 255,
    "start_time": "2025-06-28T17:40:09.598Z"
   },
   {
    "duration": 49,
    "start_time": "2025-06-28T17:40:09.855Z"
   },
   {
    "duration": 142,
    "start_time": "2025-06-28T17:40:09.906Z"
   },
   {
    "duration": 57,
    "start_time": "2025-06-28T17:40:10.050Z"
   },
   {
    "duration": 300,
    "start_time": "2025-06-28T17:40:10.109Z"
   },
   {
    "duration": 306,
    "start_time": "2025-06-28T17:40:10.410Z"
   },
   {
    "duration": 313,
    "start_time": "2025-06-28T17:40:10.718Z"
   },
   {
    "duration": 292,
    "start_time": "2025-06-28T17:40:11.032Z"
   },
   {
    "duration": 135,
    "start_time": "2025-06-28T17:40:11.326Z"
   },
   {
    "duration": 986,
    "start_time": "2025-06-28T17:42:24.164Z"
   },
   {
    "duration": 11,
    "start_time": "2025-06-28T17:44:11.356Z"
   },
   {
    "duration": 11,
    "start_time": "2025-06-28T17:44:45.961Z"
   },
   {
    "duration": 8,
    "start_time": "2025-06-28T17:45:24.391Z"
   },
   {
    "duration": 9,
    "start_time": "2025-06-28T17:45:55.909Z"
   },
   {
    "duration": 9,
    "start_time": "2025-06-28T17:46:05.605Z"
   },
   {
    "duration": 52,
    "start_time": "2025-06-28T17:46:46.012Z"
   },
   {
    "duration": 295,
    "start_time": "2025-06-28T17:46:47.775Z"
   },
   {
    "duration": 398,
    "start_time": "2025-06-28T17:46:49.411Z"
   },
   {
    "duration": 278,
    "start_time": "2025-06-28T17:46:50.947Z"
   },
   {
    "duration": 300,
    "start_time": "2025-06-28T17:46:52.263Z"
   },
   {
    "duration": 8,
    "start_time": "2025-06-28T17:46:56.454Z"
   },
   {
    "duration": 29,
    "start_time": "2025-06-28T17:47:17.824Z"
   },
   {
    "duration": 99,
    "start_time": "2025-06-28T17:53:01.011Z"
   },
   {
    "duration": 119,
    "start_time": "2025-06-28T17:54:15.935Z"
   },
   {
    "duration": 29,
    "start_time": "2025-06-28T17:54:24.032Z"
   },
   {
    "duration": 6,
    "start_time": "2025-06-28T17:55:54.167Z"
   },
   {
    "duration": 18,
    "start_time": "2025-06-28T17:56:21.088Z"
   },
   {
    "duration": 2,
    "start_time": "2025-06-28T17:58:37.868Z"
   },
   {
    "duration": 13,
    "start_time": "2025-06-28T17:59:09.882Z"
   },
   {
    "duration": 11,
    "start_time": "2025-06-28T17:59:46.366Z"
   },
   {
    "duration": 20,
    "start_time": "2025-06-28T18:08:38.550Z"
   },
   {
    "duration": 13,
    "start_time": "2025-06-28T18:09:10.044Z"
   },
   {
    "duration": 12,
    "start_time": "2025-06-28T18:10:02.966Z"
   },
   {
    "duration": 15,
    "start_time": "2025-06-28T18:10:26.724Z"
   },
   {
    "duration": 4,
    "start_time": "2025-06-28T18:10:31.963Z"
   },
   {
    "duration": 7,
    "start_time": "2025-06-28T18:10:40.947Z"
   },
   {
    "duration": 5,
    "start_time": "2025-06-28T18:10:44.292Z"
   },
   {
    "duration": 14,
    "start_time": "2025-06-28T18:10:45.757Z"
   },
   {
    "duration": 21,
    "start_time": "2025-06-28T18:10:49.338Z"
   },
   {
    "duration": 61,
    "start_time": "2025-06-28T18:16:55.145Z"
   },
   {
    "duration": 141,
    "start_time": "2025-06-28T18:16:56.678Z"
   },
   {
    "duration": 62,
    "start_time": "2025-06-28T18:16:57.640Z"
   },
   {
    "duration": 281,
    "start_time": "2025-06-28T18:16:58.487Z"
   },
   {
    "duration": 295,
    "start_time": "2025-06-28T18:16:59.425Z"
   },
   {
    "duration": 269,
    "start_time": "2025-06-28T18:17:00.447Z"
   },
   {
    "duration": 396,
    "start_time": "2025-06-28T18:17:01.327Z"
   },
   {
    "duration": 4,
    "start_time": "2025-06-28T18:17:05.899Z"
   },
   {
    "duration": 4,
    "start_time": "2025-06-28T18:17:07.001Z"
   },
   {
    "duration": 8,
    "start_time": "2025-06-28T18:17:43.954Z"
   },
   {
    "duration": 16,
    "start_time": "2025-06-28T18:17:51.516Z"
   },
   {
    "duration": 13,
    "start_time": "2025-06-28T18:19:13.516Z"
   },
   {
    "duration": 12,
    "start_time": "2025-06-28T18:20:27.594Z"
   },
   {
    "duration": 186,
    "start_time": "2025-06-28T18:26:42.875Z"
   },
   {
    "duration": 74,
    "start_time": "2025-06-28T18:31:39.514Z"
   },
   {
    "duration": 9,
    "start_time": "2025-06-28T18:33:07.385Z"
   },
   {
    "duration": 5,
    "start_time": "2025-06-28T18:33:54.095Z"
   },
   {
    "duration": 9,
    "start_time": "2025-06-28T18:34:04.394Z"
   },
   {
    "duration": 10,
    "start_time": "2025-06-28T18:37:53.125Z"
   },
   {
    "duration": 7,
    "start_time": "2025-06-28T18:38:22.769Z"
   },
   {
    "duration": 9,
    "start_time": "2025-06-28T18:38:49.815Z"
   },
   {
    "duration": 11,
    "start_time": "2025-06-28T18:44:48.887Z"
   },
   {
    "duration": 1728,
    "start_time": "2025-06-28T18:46:28.576Z"
   },
   {
    "duration": 1763,
    "start_time": "2025-06-28T18:47:14.961Z"
   },
   {
    "duration": 1766,
    "start_time": "2025-06-28T18:47:40.803Z"
   },
   {
    "duration": 10,
    "start_time": "2025-06-28T18:58:39.021Z"
   },
   {
    "duration": 1856,
    "start_time": "2025-06-28T18:58:40.905Z"
   },
   {
    "duration": 1785,
    "start_time": "2025-06-28T18:58:43.142Z"
   },
   {
    "duration": 70,
    "start_time": "2025-06-28T18:59:50.360Z"
   },
   {
    "duration": 3783,
    "start_time": "2025-06-28T19:01:57.569Z"
   },
   {
    "duration": 1932,
    "start_time": "2025-06-28T19:02:01.354Z"
   },
   {
    "duration": 103,
    "start_time": "2025-06-28T19:02:03.288Z"
   },
   {
    "duration": 98,
    "start_time": "2025-06-28T19:02:03.393Z"
   },
   {
    "duration": 14,
    "start_time": "2025-06-28T19:02:03.493Z"
   },
   {
    "duration": 148,
    "start_time": "2025-06-28T19:02:03.509Z"
   },
   {
    "duration": 13,
    "start_time": "2025-06-28T19:02:03.659Z"
   },
   {
    "duration": 15,
    "start_time": "2025-06-28T19:02:03.673Z"
   },
   {
    "duration": 66,
    "start_time": "2025-06-28T19:02:03.690Z"
   },
   {
    "duration": 11,
    "start_time": "2025-06-28T19:02:03.759Z"
   },
   {
    "duration": 8,
    "start_time": "2025-06-28T19:02:03.771Z"
   },
   {
    "duration": 256,
    "start_time": "2025-06-28T19:02:03.780Z"
   },
   {
    "duration": 237,
    "start_time": "2025-06-28T19:02:04.045Z"
   },
   {
    "duration": 22,
    "start_time": "2025-06-28T19:02:04.283Z"
   },
   {
    "duration": 221,
    "start_time": "2025-06-28T19:02:04.306Z"
   },
   {
    "duration": 39,
    "start_time": "2025-06-28T19:02:04.528Z"
   },
   {
    "duration": 165,
    "start_time": "2025-06-28T19:02:04.569Z"
   },
   {
    "duration": 33,
    "start_time": "2025-06-28T19:02:04.736Z"
   },
   {
    "duration": 43,
    "start_time": "2025-06-28T19:02:04.771Z"
   },
   {
    "duration": 37,
    "start_time": "2025-06-28T19:02:04.816Z"
   },
   {
    "duration": 58,
    "start_time": "2025-06-28T19:02:04.857Z"
   },
   {
    "duration": 67,
    "start_time": "2025-06-28T19:02:04.917Z"
   },
   {
    "duration": 101,
    "start_time": "2025-06-28T19:02:04.986Z"
   },
   {
    "duration": 28,
    "start_time": "2025-06-28T19:02:05.089Z"
   },
   {
    "duration": 589,
    "start_time": "2025-06-28T19:02:05.119Z"
   },
   {
    "duration": 71,
    "start_time": "2025-06-28T19:02:05.710Z"
   },
   {
    "duration": 7,
    "start_time": "2025-06-28T19:02:05.782Z"
   },
   {
    "duration": 166,
    "start_time": "2025-06-28T19:02:05.794Z"
   },
   {
    "duration": 16,
    "start_time": "2025-06-28T19:02:05.962Z"
   },
   {
    "duration": 395,
    "start_time": "2025-06-28T19:02:05.980Z"
   },
   {
    "duration": 11,
    "start_time": "2025-06-28T19:02:06.376Z"
   },
   {
    "duration": 23,
    "start_time": "2025-06-28T19:02:06.388Z"
   },
   {
    "duration": 6,
    "start_time": "2025-06-28T19:02:06.413Z"
   },
   {
    "duration": 221,
    "start_time": "2025-06-28T19:02:06.421Z"
   },
   {
    "duration": 670,
    "start_time": "2025-06-28T19:02:06.644Z"
   },
   {
    "duration": 134,
    "start_time": "2025-06-28T19:02:07.316Z"
   },
   {
    "duration": 10,
    "start_time": "2025-06-28T19:02:07.453Z"
   },
   {
    "duration": 186,
    "start_time": "2025-06-28T19:02:07.465Z"
   },
   {
    "duration": 563,
    "start_time": "2025-06-28T19:02:07.653Z"
   },
   {
    "duration": 342,
    "start_time": "2025-06-28T19:02:08.217Z"
   },
   {
    "duration": 180,
    "start_time": "2025-06-28T19:02:08.560Z"
   },
   {
    "duration": 7,
    "start_time": "2025-06-28T19:02:08.742Z"
   },
   {
    "duration": 8,
    "start_time": "2025-06-28T19:02:08.751Z"
   },
   {
    "duration": 336,
    "start_time": "2025-06-28T19:02:08.760Z"
   },
   {
    "duration": 4,
    "start_time": "2025-06-28T19:02:09.098Z"
   },
   {
    "duration": 5425,
    "start_time": "2025-06-28T19:02:09.104Z"
   },
   {
    "duration": 14,
    "start_time": "2025-06-28T19:02:14.530Z"
   },
   {
    "duration": 175,
    "start_time": "2025-06-28T19:02:14.546Z"
   },
   {
    "duration": 685,
    "start_time": "2025-06-28T19:02:14.723Z"
   },
   {
    "duration": 195,
    "start_time": "2025-06-28T19:02:15.410Z"
   },
   {
    "duration": 144,
    "start_time": "2025-06-28T19:02:15.607Z"
   },
   {
    "duration": 5,
    "start_time": "2025-06-28T19:02:15.754Z"
   },
   {
    "duration": 23,
    "start_time": "2025-06-28T19:02:15.760Z"
   },
   {
    "duration": 37,
    "start_time": "2025-06-28T19:02:15.785Z"
   },
   {
    "duration": 149,
    "start_time": "2025-06-28T19:02:15.823Z"
   },
   {
    "duration": 45,
    "start_time": "2025-06-28T19:02:15.974Z"
   },
   {
    "duration": 239,
    "start_time": "2025-06-28T19:02:16.020Z"
   },
   {
    "duration": 41,
    "start_time": "2025-06-28T19:02:16.261Z"
   },
   {
    "duration": 198,
    "start_time": "2025-06-28T19:02:16.303Z"
   },
   {
    "duration": 55,
    "start_time": "2025-06-28T19:02:16.505Z"
   },
   {
    "duration": 290,
    "start_time": "2025-06-28T19:02:16.565Z"
   },
   {
    "duration": 45,
    "start_time": "2025-06-28T19:02:16.857Z"
   },
   {
    "duration": 36,
    "start_time": "2025-06-28T19:02:16.904Z"
   },
   {
    "duration": 157,
    "start_time": "2025-06-28T19:02:16.949Z"
   },
   {
    "duration": 60,
    "start_time": "2025-06-28T19:02:17.108Z"
   },
   {
    "duration": 120,
    "start_time": "2025-06-28T19:02:17.170Z"
   },
   {
    "duration": 64,
    "start_time": "2025-06-28T19:02:17.292Z"
   },
   {
    "duration": 309,
    "start_time": "2025-06-28T19:02:17.358Z"
   },
   {
    "duration": 303,
    "start_time": "2025-06-28T19:02:17.669Z"
   },
   {
    "duration": 358,
    "start_time": "2025-06-28T19:02:17.974Z"
   },
   {
    "duration": 304,
    "start_time": "2025-06-28T19:02:18.333Z"
   },
   {
    "duration": 10,
    "start_time": "2025-06-28T19:02:18.639Z"
   },
   {
    "duration": 6,
    "start_time": "2025-06-28T19:02:18.651Z"
   },
   {
    "duration": 65,
    "start_time": "2025-06-28T19:02:18.658Z"
   },
   {
    "duration": 22,
    "start_time": "2025-06-28T19:02:18.724Z"
   },
   {
    "duration": 180,
    "start_time": "2025-06-28T19:02:18.749Z"
   },
   {
    "duration": 74,
    "start_time": "2025-06-28T19:02:18.931Z"
   },
   {
    "duration": 10,
    "start_time": "2025-06-28T19:02:19.007Z"
   },
   {
    "duration": 19,
    "start_time": "2025-06-28T19:02:19.035Z"
   },
   {
    "duration": 1772,
    "start_time": "2025-06-28T19:02:19.056Z"
   },
   {
    "duration": 1758,
    "start_time": "2025-06-28T19:02:20.830Z"
   },
   {
    "duration": 89,
    "start_time": "2025-06-28T19:02:22.593Z"
   },
   {
    "duration": 57239,
    "start_time": "2025-06-28T19:02:22.683Z"
   },
   {
    "duration": 32,
    "start_time": "2025-06-28T19:03:19.926Z"
   },
   {
    "duration": 83,
    "start_time": "2025-06-28T19:04:16.204Z"
   },
   {
    "duration": 17,
    "start_time": "2025-06-28T19:04:19.183Z"
   },
   {
    "duration": 397,
    "start_time": "2025-06-28T19:04:22.153Z"
   },
   {
    "duration": 381,
    "start_time": "2025-06-28T19:04:29.852Z"
   },
   {
    "duration": 1190,
    "start_time": "2025-06-28T19:05:20.902Z"
   },
   {
    "duration": 401,
    "start_time": "2025-06-28T19:05:59.049Z"
   },
   {
    "duration": 115,
    "start_time": "2025-06-28T19:40:07.516Z"
   },
   {
    "duration": 13,
    "start_time": "2025-06-28T19:40:11.984Z"
   },
   {
    "duration": 11,
    "start_time": "2025-06-28T19:40:15.916Z"
   },
   {
    "duration": 12,
    "start_time": "2025-06-28T19:40:22.201Z"
   },
   {
    "duration": 45,
    "start_time": "2025-06-28T19:40:49.465Z"
   },
   {
    "duration": 288,
    "start_time": "2025-06-28T19:41:28.654Z"
   },
   {
    "duration": 118,
    "start_time": "2025-06-28T19:42:26.425Z"
   },
   {
    "duration": 97,
    "start_time": "2025-06-28T19:42:50.363Z"
   },
   {
    "duration": 103,
    "start_time": "2025-06-28T19:42:55.896Z"
   },
   {
    "duration": 190,
    "start_time": "2025-06-28T19:49:31.752Z"
   },
   {
    "duration": 142,
    "start_time": "2025-06-28T19:49:58.355Z"
   },
   {
    "duration": 2717,
    "start_time": "2025-06-28T19:53:15.467Z"
   },
   {
    "duration": 19,
    "start_time": "2025-06-28T20:00:09.234Z"
   },
   {
    "duration": 2715,
    "start_time": "2025-06-28T20:02:46.414Z"
   },
   {
    "duration": 2633,
    "start_time": "2025-06-28T20:03:00.991Z"
   },
   {
    "duration": 25,
    "start_time": "2025-06-28T20:04:10.834Z"
   },
   {
    "duration": 16,
    "start_time": "2025-06-28T20:04:50.534Z"
   },
   {
    "duration": 89,
    "start_time": "2025-06-28T20:09:14.549Z"
   },
   {
    "duration": 107,
    "start_time": "2025-06-28T20:12:01.489Z"
   },
   {
    "duration": 8,
    "start_time": "2025-06-28T20:12:21.783Z"
   },
   {
    "duration": 21,
    "start_time": "2025-06-28T20:12:46.556Z"
   },
   {
    "duration": 8,
    "start_time": "2025-06-28T20:13:55.165Z"
   },
   {
    "duration": 93,
    "start_time": "2025-06-28T20:15:26.778Z"
   },
   {
    "duration": 97,
    "start_time": "2025-06-28T20:17:03.751Z"
   },
   {
    "duration": 6,
    "start_time": "2025-06-28T20:17:06.919Z"
   },
   {
    "duration": 6,
    "start_time": "2025-06-28T20:17:10.588Z"
   },
   {
    "duration": 67,
    "start_time": "2025-06-28T20:17:42.543Z"
   },
   {
    "duration": 5,
    "start_time": "2025-06-28T20:17:45.320Z"
   },
   {
    "duration": 11,
    "start_time": "2025-06-28T20:17:49.587Z"
   },
   {
    "duration": 8,
    "start_time": "2025-06-28T20:17:52.463Z"
   },
   {
    "duration": 3970,
    "start_time": "2025-06-28T20:18:33.554Z"
   },
   {
    "duration": 1959,
    "start_time": "2025-06-28T20:18:37.526Z"
   },
   {
    "duration": 108,
    "start_time": "2025-06-28T20:18:39.486Z"
   },
   {
    "duration": 113,
    "start_time": "2025-06-28T20:18:39.596Z"
   },
   {
    "duration": 31,
    "start_time": "2025-06-28T20:18:39.712Z"
   },
   {
    "duration": 29,
    "start_time": "2025-06-28T20:18:39.745Z"
   },
   {
    "duration": 15,
    "start_time": "2025-06-28T20:18:39.776Z"
   },
   {
    "duration": 12,
    "start_time": "2025-06-28T20:18:39.793Z"
   },
   {
    "duration": 37,
    "start_time": "2025-06-28T20:18:39.807Z"
   },
   {
    "duration": 80,
    "start_time": "2025-06-28T20:18:39.846Z"
   },
   {
    "duration": 8,
    "start_time": "2025-06-28T20:18:39.927Z"
   },
   {
    "duration": 281,
    "start_time": "2025-06-28T20:18:39.940Z"
   },
   {
    "duration": 202,
    "start_time": "2025-06-28T20:18:40.223Z"
   },
   {
    "duration": 38,
    "start_time": "2025-06-28T20:18:40.428Z"
   },
   {
    "duration": 224,
    "start_time": "2025-06-28T20:18:40.467Z"
   },
   {
    "duration": 27,
    "start_time": "2025-06-28T20:18:40.693Z"
   },
   {
    "duration": 49,
    "start_time": "2025-06-28T20:18:40.722Z"
   },
   {
    "duration": 211,
    "start_time": "2025-06-28T20:18:40.773Z"
   },
   {
    "duration": 32,
    "start_time": "2025-06-28T20:18:40.986Z"
   },
   {
    "duration": 35,
    "start_time": "2025-06-28T20:18:41.020Z"
   },
   {
    "duration": 29,
    "start_time": "2025-06-28T20:18:41.057Z"
   },
   {
    "duration": 26,
    "start_time": "2025-06-28T20:18:41.088Z"
   },
   {
    "duration": 134,
    "start_time": "2025-06-28T20:18:41.116Z"
   },
   {
    "duration": 22,
    "start_time": "2025-06-28T20:18:41.253Z"
   },
   {
    "duration": 574,
    "start_time": "2025-06-28T20:18:41.278Z"
   },
   {
    "duration": 64,
    "start_time": "2025-06-28T20:18:41.854Z"
   },
   {
    "duration": 7,
    "start_time": "2025-06-28T20:18:41.919Z"
   },
   {
    "duration": 158,
    "start_time": "2025-06-28T20:18:41.927Z"
   },
   {
    "duration": 14,
    "start_time": "2025-06-28T20:18:42.087Z"
   },
   {
    "duration": 403,
    "start_time": "2025-06-28T20:18:42.102Z"
   },
   {
    "duration": 10,
    "start_time": "2025-06-28T20:18:42.506Z"
   },
   {
    "duration": 24,
    "start_time": "2025-06-28T20:18:42.518Z"
   },
   {
    "duration": 20,
    "start_time": "2025-06-28T20:18:42.543Z"
   },
   {
    "duration": 5,
    "start_time": "2025-06-28T20:18:42.565Z"
   },
   {
    "duration": 619,
    "start_time": "2025-06-28T20:18:42.571Z"
   },
   {
    "duration": 128,
    "start_time": "2025-06-28T20:18:43.192Z"
   },
   {
    "duration": 4,
    "start_time": "2025-06-28T20:18:43.321Z"
   },
   {
    "duration": 182,
    "start_time": "2025-06-28T20:18:43.338Z"
   },
   {
    "duration": 569,
    "start_time": "2025-06-28T20:18:43.522Z"
   },
   {
    "duration": 384,
    "start_time": "2025-06-28T20:18:44.093Z"
   },
   {
    "duration": 187,
    "start_time": "2025-06-28T20:18:44.482Z"
   },
   {
    "duration": 5,
    "start_time": "2025-06-28T20:18:44.671Z"
   },
   {
    "duration": 4,
    "start_time": "2025-06-28T20:18:44.678Z"
   },
   {
    "duration": 334,
    "start_time": "2025-06-28T20:18:44.684Z"
   },
   {
    "duration": 20,
    "start_time": "2025-06-28T20:18:45.019Z"
   },
   {
    "duration": 5644,
    "start_time": "2025-06-28T20:18:45.042Z"
   },
   {
    "duration": 5,
    "start_time": "2025-06-28T20:18:50.688Z"
   },
   {
    "duration": 61,
    "start_time": "2025-06-28T20:18:50.694Z"
   },
   {
    "duration": 760,
    "start_time": "2025-06-28T20:18:50.757Z"
   },
   {
    "duration": 204,
    "start_time": "2025-06-28T20:18:51.518Z"
   },
   {
    "duration": 146,
    "start_time": "2025-06-28T20:18:51.724Z"
   },
   {
    "duration": 4,
    "start_time": "2025-06-28T20:18:51.872Z"
   },
   {
    "duration": 51,
    "start_time": "2025-06-28T20:18:51.878Z"
   },
   {
    "duration": 9,
    "start_time": "2025-06-28T20:18:51.931Z"
   },
   {
    "duration": 148,
    "start_time": "2025-06-28T20:18:51.944Z"
   },
   {
    "duration": 59,
    "start_time": "2025-06-28T20:18:52.094Z"
   },
   {
    "duration": 227,
    "start_time": "2025-06-28T20:18:52.156Z"
   },
   {
    "duration": 62,
    "start_time": "2025-06-28T20:18:52.384Z"
   },
   {
    "duration": 171,
    "start_time": "2025-06-28T20:18:52.452Z"
   },
   {
    "duration": 41,
    "start_time": "2025-06-28T20:18:52.624Z"
   },
   {
    "duration": 207,
    "start_time": "2025-06-28T20:18:52.667Z"
   },
   {
    "duration": 47,
    "start_time": "2025-06-28T20:18:52.875Z"
   },
   {
    "duration": 72,
    "start_time": "2025-06-28T20:18:52.940Z"
   },
   {
    "duration": 167,
    "start_time": "2025-06-28T20:18:53.013Z"
   },
   {
    "duration": 74,
    "start_time": "2025-06-28T20:18:53.182Z"
   },
   {
    "duration": 116,
    "start_time": "2025-06-28T20:18:53.258Z"
   },
   {
    "duration": 77,
    "start_time": "2025-06-28T20:18:53.376Z"
   },
   {
    "duration": 288,
    "start_time": "2025-06-28T20:18:53.454Z"
   },
   {
    "duration": 301,
    "start_time": "2025-06-28T20:18:53.750Z"
   },
   {
    "duration": 391,
    "start_time": "2025-06-28T20:18:54.054Z"
   },
   {
    "duration": 308,
    "start_time": "2025-06-28T20:18:54.447Z"
   },
   {
    "duration": 7,
    "start_time": "2025-06-28T20:18:54.757Z"
   },
   {
    "duration": 95,
    "start_time": "2025-06-28T20:18:54.766Z"
   },
   {
    "duration": 146,
    "start_time": "2025-06-28T20:18:54.864Z"
   },
   {
    "duration": 15,
    "start_time": "2025-06-28T20:18:55.013Z"
   },
   {
    "duration": 91,
    "start_time": "2025-06-28T20:18:55.030Z"
   },
   {
    "duration": 9,
    "start_time": "2025-06-28T20:18:55.123Z"
   },
   {
    "duration": 29,
    "start_time": "2025-06-28T20:18:55.134Z"
   },
   {
    "duration": 1877,
    "start_time": "2025-06-28T20:18:55.164Z"
   },
   {
    "duration": 1779,
    "start_time": "2025-06-28T20:18:57.045Z"
   },
   {
    "duration": 82,
    "start_time": "2025-06-28T20:18:58.827Z"
   },
   {
    "duration": 566,
    "start_time": "2025-06-28T20:18:58.911Z"
   },
   {
    "duration": 408,
    "start_time": "2025-06-28T20:18:59.478Z"
   },
   {
    "duration": 407,
    "start_time": "2025-06-28T20:18:59.889Z"
   },
   {
    "duration": 97,
    "start_time": "2025-06-28T20:19:00.298Z"
   },
   {
    "duration": 6,
    "start_time": "2025-06-28T20:19:00.397Z"
   },
   {
    "duration": 8,
    "start_time": "2025-06-28T20:19:00.405Z"
   },
   {
    "duration": 97,
    "start_time": "2025-06-28T20:19:00.414Z"
   },
   {
    "duration": 13,
    "start_time": "2025-06-28T20:19:00.512Z"
   },
   {
    "duration": 66,
    "start_time": "2025-06-28T20:19:00.527Z"
   },
   {
    "duration": 12,
    "start_time": "2025-06-28T20:19:00.595Z"
   },
   {
    "duration": 7122,
    "start_time": "2025-06-29T06:22:27.741Z"
   },
   {
    "duration": 1859,
    "start_time": "2025-06-29T06:22:34.865Z"
   },
   {
    "duration": 101,
    "start_time": "2025-06-29T06:22:36.725Z"
   },
   {
    "duration": 95,
    "start_time": "2025-06-29T06:22:36.828Z"
   },
   {
    "duration": 31,
    "start_time": "2025-06-29T06:22:36.925Z"
   },
   {
    "duration": 16,
    "start_time": "2025-06-29T06:22:36.958Z"
   },
   {
    "duration": 16,
    "start_time": "2025-06-29T06:22:36.975Z"
   },
   {
    "duration": 32,
    "start_time": "2025-06-29T06:22:36.992Z"
   },
   {
    "duration": 30,
    "start_time": "2025-06-29T06:22:37.026Z"
   },
   {
    "duration": 29,
    "start_time": "2025-06-29T06:22:37.059Z"
   },
   {
    "duration": 18,
    "start_time": "2025-06-29T06:22:37.089Z"
   },
   {
    "duration": 279,
    "start_time": "2025-06-29T06:22:37.109Z"
   },
   {
    "duration": 208,
    "start_time": "2025-06-29T06:22:37.390Z"
   },
   {
    "duration": 24,
    "start_time": "2025-06-29T06:22:37.599Z"
   },
   {
    "duration": 222,
    "start_time": "2025-06-29T06:22:37.636Z"
   },
   {
    "duration": 46,
    "start_time": "2025-06-29T06:22:37.861Z"
   },
   {
    "duration": 66,
    "start_time": "2025-06-29T06:22:37.909Z"
   },
   {
    "duration": 23,
    "start_time": "2025-06-29T06:22:37.976Z"
   },
   {
    "duration": 26,
    "start_time": "2025-06-29T06:22:38.000Z"
   },
   {
    "duration": 99,
    "start_time": "2025-06-29T06:22:38.027Z"
   },
   {
    "duration": 36,
    "start_time": "2025-06-29T06:22:38.128Z"
   },
   {
    "duration": 128,
    "start_time": "2025-06-29T06:22:38.166Z"
   },
   {
    "duration": 87,
    "start_time": "2025-06-29T06:22:38.296Z"
   },
   {
    "duration": 135,
    "start_time": "2025-06-29T06:22:38.385Z"
   },
   {
    "duration": 502,
    "start_time": "2025-06-29T06:22:38.521Z"
   },
   {
    "duration": 71,
    "start_time": "2025-06-29T06:22:39.024Z"
   },
   {
    "duration": 6,
    "start_time": "2025-06-29T06:22:39.097Z"
   },
   {
    "duration": 158,
    "start_time": "2025-06-29T06:22:39.106Z"
   },
   {
    "duration": 15,
    "start_time": "2025-06-29T06:22:39.266Z"
   },
   {
    "duration": 370,
    "start_time": "2025-06-29T06:22:39.283Z"
   },
   {
    "duration": 11,
    "start_time": "2025-06-29T06:22:39.654Z"
   },
   {
    "duration": 7,
    "start_time": "2025-06-29T06:22:39.666Z"
   },
   {
    "duration": 11,
    "start_time": "2025-06-29T06:22:39.675Z"
   },
   {
    "duration": 6,
    "start_time": "2025-06-29T06:22:39.687Z"
   },
   {
    "duration": 602,
    "start_time": "2025-06-29T06:22:39.695Z"
   },
   {
    "duration": 118,
    "start_time": "2025-06-29T06:22:40.298Z"
   },
   {
    "duration": 46,
    "start_time": "2025-06-29T06:22:40.418Z"
   },
   {
    "duration": 151,
    "start_time": "2025-06-29T06:22:40.465Z"
   },
   {
    "duration": 532,
    "start_time": "2025-06-29T06:22:40.617Z"
   },
   {
    "duration": 336,
    "start_time": "2025-06-29T06:22:41.150Z"
   },
   {
    "duration": 178,
    "start_time": "2025-06-29T06:22:41.488Z"
   },
   {
    "duration": 6,
    "start_time": "2025-06-29T06:22:41.668Z"
   },
   {
    "duration": 34,
    "start_time": "2025-06-29T06:22:41.675Z"
   },
   {
    "duration": 294,
    "start_time": "2025-06-29T06:22:41.711Z"
   },
   {
    "duration": 4,
    "start_time": "2025-06-29T06:22:42.006Z"
   },
   {
    "duration": 5756,
    "start_time": "2025-06-29T06:22:42.012Z"
   },
   {
    "duration": 4,
    "start_time": "2025-06-29T06:22:47.770Z"
   },
   {
    "duration": 139,
    "start_time": "2025-06-29T06:22:47.775Z"
   },
   {
    "duration": 677,
    "start_time": "2025-06-29T06:22:47.916Z"
   },
   {
    "duration": 193,
    "start_time": "2025-06-29T06:22:48.594Z"
   },
   {
    "duration": 133,
    "start_time": "2025-06-29T06:22:48.788Z"
   },
   {
    "duration": 3,
    "start_time": "2025-06-29T06:22:48.923Z"
   },
   {
    "duration": 15,
    "start_time": "2025-06-29T06:22:48.935Z"
   },
   {
    "duration": 5,
    "start_time": "2025-06-29T06:22:48.952Z"
   },
   {
    "duration": 158,
    "start_time": "2025-06-29T06:22:48.958Z"
   },
   {
    "duration": 56,
    "start_time": "2025-06-29T06:22:49.118Z"
   },
   {
    "duration": 224,
    "start_time": "2025-06-29T06:22:49.175Z"
   },
   {
    "duration": 63,
    "start_time": "2025-06-29T06:22:49.401Z"
   },
   {
    "duration": 165,
    "start_time": "2025-06-29T06:22:49.466Z"
   },
   {
    "duration": 37,
    "start_time": "2025-06-29T06:22:49.634Z"
   },
   {
    "duration": 190,
    "start_time": "2025-06-29T06:22:49.673Z"
   },
   {
    "duration": 45,
    "start_time": "2025-06-29T06:22:49.864Z"
   },
   {
    "duration": 34,
    "start_time": "2025-06-29T06:22:49.911Z"
   },
   {
    "duration": 270,
    "start_time": "2025-06-29T06:22:49.948Z"
   },
   {
    "duration": 99,
    "start_time": "2025-06-29T06:22:50.220Z"
   },
   {
    "duration": 109,
    "start_time": "2025-06-29T06:22:50.320Z"
   },
   {
    "duration": 60,
    "start_time": "2025-06-29T06:22:50.430Z"
   },
   {
    "duration": 277,
    "start_time": "2025-06-29T06:22:50.492Z"
   },
   {
    "duration": 285,
    "start_time": "2025-06-29T06:22:50.770Z"
   },
   {
    "duration": 293,
    "start_time": "2025-06-29T06:22:51.057Z"
   },
   {
    "duration": 277,
    "start_time": "2025-06-29T06:22:51.351Z"
   },
   {
    "duration": 20,
    "start_time": "2025-06-29T06:22:51.630Z"
   },
   {
    "duration": 30,
    "start_time": "2025-06-29T06:22:51.652Z"
   },
   {
    "duration": 26,
    "start_time": "2025-06-29T06:22:51.683Z"
   },
   {
    "duration": 13,
    "start_time": "2025-06-29T06:22:51.711Z"
   },
   {
    "duration": 37,
    "start_time": "2025-06-29T06:23:03.052Z"
   },
   {
    "duration": 8,
    "start_time": "2025-06-29T06:23:07.364Z"
   },
   {
    "duration": 8,
    "start_time": "2025-06-29T06:23:22.399Z"
   },
   {
    "duration": 1794,
    "start_time": "2025-06-29T06:23:29.774Z"
   },
   {
    "duration": 1672,
    "start_time": "2025-06-29T06:23:38.054Z"
   },
   {
    "duration": 41,
    "start_time": "2025-06-29T06:24:09.759Z"
   },
   {
    "duration": 392,
    "start_time": "2025-06-29T06:24:17.531Z"
   },
   {
    "duration": 371,
    "start_time": "2025-06-29T06:24:20.188Z"
   },
   {
    "duration": 368,
    "start_time": "2025-06-29T06:24:31.056Z"
   },
   {
    "duration": 3914,
    "start_time": "2025-06-29T06:30:40.766Z"
   },
   {
    "duration": 1721,
    "start_time": "2025-06-29T06:30:44.682Z"
   },
   {
    "duration": 102,
    "start_time": "2025-06-29T06:30:46.404Z"
   },
   {
    "duration": 117,
    "start_time": "2025-06-29T06:30:46.508Z"
   },
   {
    "duration": 29,
    "start_time": "2025-06-29T06:30:46.627Z"
   },
   {
    "duration": 22,
    "start_time": "2025-06-29T06:30:46.657Z"
   },
   {
    "duration": 14,
    "start_time": "2025-06-29T06:30:46.680Z"
   },
   {
    "duration": 18,
    "start_time": "2025-06-29T06:30:46.696Z"
   },
   {
    "duration": 35,
    "start_time": "2025-06-29T06:30:46.716Z"
   },
   {
    "duration": 9,
    "start_time": "2025-06-29T06:30:46.753Z"
   },
   {
    "duration": 10,
    "start_time": "2025-06-29T06:30:46.764Z"
   },
   {
    "duration": 259,
    "start_time": "2025-06-29T06:30:46.776Z"
   },
   {
    "duration": 211,
    "start_time": "2025-06-29T06:30:47.037Z"
   },
   {
    "duration": 22,
    "start_time": "2025-06-29T06:30:47.253Z"
   },
   {
    "duration": 215,
    "start_time": "2025-06-29T06:30:47.277Z"
   },
   {
    "duration": 29,
    "start_time": "2025-06-29T06:30:47.494Z"
   },
   {
    "duration": 37,
    "start_time": "2025-06-29T06:30:47.539Z"
   },
   {
    "duration": 6,
    "start_time": "2025-06-29T06:30:47.577Z"
   },
   {
    "duration": 34,
    "start_time": "2025-06-29T06:30:47.584Z"
   },
   {
    "duration": 54,
    "start_time": "2025-06-29T06:30:47.621Z"
   },
   {
    "duration": 39,
    "start_time": "2025-06-29T06:30:47.677Z"
   },
   {
    "duration": 50,
    "start_time": "2025-06-29T06:30:47.718Z"
   },
   {
    "duration": 98,
    "start_time": "2025-06-29T06:30:47.770Z"
   },
   {
    "duration": 44,
    "start_time": "2025-06-29T06:30:47.869Z"
   },
   {
    "duration": 555,
    "start_time": "2025-06-29T06:30:47.915Z"
   },
   {
    "duration": 79,
    "start_time": "2025-06-29T06:30:48.471Z"
   },
   {
    "duration": 6,
    "start_time": "2025-06-29T06:30:48.552Z"
   },
   {
    "duration": 152,
    "start_time": "2025-06-29T06:30:48.560Z"
   },
   {
    "duration": 15,
    "start_time": "2025-06-29T06:30:48.714Z"
   },
   {
    "duration": 382,
    "start_time": "2025-06-29T06:30:48.731Z"
   },
   {
    "duration": 10,
    "start_time": "2025-06-29T06:30:49.114Z"
   },
   {
    "duration": 21,
    "start_time": "2025-06-29T06:30:49.135Z"
   },
   {
    "duration": 27,
    "start_time": "2025-06-29T06:30:49.157Z"
   },
   {
    "duration": 12,
    "start_time": "2025-06-29T06:30:49.185Z"
   },
   {
    "duration": 624,
    "start_time": "2025-06-29T06:30:49.199Z"
   },
   {
    "duration": 139,
    "start_time": "2025-06-29T06:30:49.825Z"
   },
   {
    "duration": 4,
    "start_time": "2025-06-29T06:30:49.966Z"
   },
   {
    "duration": 163,
    "start_time": "2025-06-29T06:30:49.971Z"
   },
   {
    "duration": 552,
    "start_time": "2025-06-29T06:30:50.146Z"
   },
   {
    "duration": 352,
    "start_time": "2025-06-29T06:30:50.699Z"
   },
   {
    "duration": 199,
    "start_time": "2025-06-29T06:30:51.059Z"
   },
   {
    "duration": 5,
    "start_time": "2025-06-29T06:30:51.259Z"
   },
   {
    "duration": 7,
    "start_time": "2025-06-29T06:30:51.265Z"
   },
   {
    "duration": 302,
    "start_time": "2025-06-29T06:30:51.274Z"
   },
   {
    "duration": 4,
    "start_time": "2025-06-29T06:30:51.578Z"
   },
   {
    "duration": 5440,
    "start_time": "2025-06-29T06:30:51.584Z"
   },
   {
    "duration": 4,
    "start_time": "2025-06-29T06:30:57.026Z"
   },
   {
    "duration": 43,
    "start_time": "2025-06-29T06:30:57.036Z"
   },
   {
    "duration": 738,
    "start_time": "2025-06-29T06:30:57.081Z"
   },
   {
    "duration": 199,
    "start_time": "2025-06-29T06:30:57.820Z"
   },
   {
    "duration": 140,
    "start_time": "2025-06-29T06:30:58.021Z"
   },
   {
    "duration": 3,
    "start_time": "2025-06-29T06:30:58.163Z"
   },
   {
    "duration": 143,
    "start_time": "2025-06-29T06:30:58.168Z"
   },
   {
    "duration": 6,
    "start_time": "2025-06-29T06:30:58.312Z"
   },
   {
    "duration": 202,
    "start_time": "2025-06-29T06:30:58.320Z"
   },
   {
    "duration": 57,
    "start_time": "2025-06-29T06:30:58.524Z"
   },
   {
    "duration": 233,
    "start_time": "2025-06-29T06:30:58.582Z"
   },
   {
    "duration": 65,
    "start_time": "2025-06-29T06:30:58.817Z"
   },
   {
    "duration": 166,
    "start_time": "2025-06-29T06:30:58.884Z"
   },
   {
    "duration": 30,
    "start_time": "2025-06-29T06:30:59.051Z"
   },
   {
    "duration": 204,
    "start_time": "2025-06-29T06:30:59.083Z"
   },
   {
    "duration": 64,
    "start_time": "2025-06-29T06:30:59.289Z"
   },
   {
    "duration": 17,
    "start_time": "2025-06-29T06:30:59.354Z"
   },
   {
    "duration": 150,
    "start_time": "2025-06-29T06:30:59.372Z"
   },
   {
    "duration": 61,
    "start_time": "2025-06-29T06:30:59.523Z"
   },
   {
    "duration": 123,
    "start_time": "2025-06-29T06:30:59.585Z"
   },
   {
    "duration": 61,
    "start_time": "2025-06-29T06:30:59.709Z"
   },
   {
    "duration": 282,
    "start_time": "2025-06-29T06:30:59.771Z"
   },
   {
    "duration": 298,
    "start_time": "2025-06-29T06:31:00.055Z"
   },
   {
    "duration": 352,
    "start_time": "2025-06-29T06:31:00.355Z"
   },
   {
    "duration": 301,
    "start_time": "2025-06-29T06:31:00.708Z"
   },
   {
    "duration": 5,
    "start_time": "2025-06-29T06:31:01.011Z"
   },
   {
    "duration": 21,
    "start_time": "2025-06-29T06:31:01.017Z"
   },
   {
    "duration": 15,
    "start_time": "2025-06-29T06:31:01.048Z"
   },
   {
    "duration": 13,
    "start_time": "2025-06-29T06:31:01.065Z"
   },
   {
    "duration": 51,
    "start_time": "2025-06-29T06:31:01.080Z"
   },
   {
    "duration": 22,
    "start_time": "2025-06-29T06:31:01.133Z"
   },
   {
    "duration": 60,
    "start_time": "2025-06-29T06:31:01.157Z"
   },
   {
    "duration": 1707,
    "start_time": "2025-06-29T06:31:01.218Z"
   },
   {
    "duration": 1664,
    "start_time": "2025-06-29T06:31:02.927Z"
   },
   {
    "duration": 60,
    "start_time": "2025-06-29T06:31:04.592Z"
   },
   {
    "duration": 442,
    "start_time": "2025-06-29T06:31:04.653Z"
   },
   {
    "duration": 377,
    "start_time": "2025-06-29T06:31:05.097Z"
   },
   {
    "duration": 383,
    "start_time": "2025-06-29T06:31:05.476Z"
   },
   {
    "duration": 104,
    "start_time": "2025-06-29T06:31:05.861Z"
   },
   {
    "duration": 8,
    "start_time": "2025-06-29T06:31:05.967Z"
   },
   {
    "duration": 30,
    "start_time": "2025-06-29T06:31:05.976Z"
   },
   {
    "duration": 69,
    "start_time": "2025-06-29T06:31:06.008Z"
   },
   {
    "duration": 4,
    "start_time": "2025-06-29T06:31:06.079Z"
   },
   {
    "duration": 240,
    "start_time": "2025-06-29T06:31:06.084Z"
   },
   {
    "duration": 72,
    "start_time": "2025-06-29T06:31:06.325Z"
   },
   {
    "duration": 50,
    "start_time": "2025-07-02T08:13:57.539Z"
   },
   {
    "duration": 7126,
    "start_time": "2025-07-02T08:14:19.955Z"
   },
   {
    "duration": 1806,
    "start_time": "2025-07-02T08:14:27.083Z"
   },
   {
    "duration": 99,
    "start_time": "2025-07-02T08:14:28.891Z"
   },
   {
    "duration": 95,
    "start_time": "2025-07-02T08:14:28.992Z"
   },
   {
    "duration": 16,
    "start_time": "2025-07-02T08:14:29.089Z"
   },
   {
    "duration": 35,
    "start_time": "2025-07-02T08:14:29.106Z"
   },
   {
    "duration": 13,
    "start_time": "2025-07-02T08:14:29.143Z"
   },
   {
    "duration": 11,
    "start_time": "2025-07-02T08:14:29.158Z"
   },
   {
    "duration": 32,
    "start_time": "2025-07-02T08:14:29.171Z"
   },
   {
    "duration": 7,
    "start_time": "2025-07-02T08:14:29.205Z"
   },
   {
    "duration": 25,
    "start_time": "2025-07-02T08:14:29.214Z"
   },
   {
    "duration": 299,
    "start_time": "2025-07-02T08:14:29.240Z"
   },
   {
    "duration": 205,
    "start_time": "2025-07-02T08:14:29.541Z"
   },
   {
    "duration": 22,
    "start_time": "2025-07-02T08:14:29.751Z"
   },
   {
    "duration": 225,
    "start_time": "2025-07-02T08:14:29.775Z"
   },
   {
    "duration": 28,
    "start_time": "2025-07-02T08:14:30.001Z"
   },
   {
    "duration": 125,
    "start_time": "2025-07-02T08:14:30.038Z"
   },
   {
    "duration": 71,
    "start_time": "2025-07-02T08:14:30.165Z"
   },
   {
    "duration": 62,
    "start_time": "2025-07-02T08:14:30.238Z"
   },
   {
    "duration": 48,
    "start_time": "2025-07-02T08:14:30.303Z"
   },
   {
    "duration": 62,
    "start_time": "2025-07-02T08:14:30.353Z"
   },
   {
    "duration": 24,
    "start_time": "2025-07-02T08:14:30.418Z"
   },
   {
    "duration": 97,
    "start_time": "2025-07-02T08:14:30.444Z"
   },
   {
    "duration": 25,
    "start_time": "2025-07-02T08:14:30.543Z"
   },
   {
    "duration": 563,
    "start_time": "2025-07-02T08:14:30.569Z"
   },
   {
    "duration": 67,
    "start_time": "2025-07-02T08:14:31.136Z"
   },
   {
    "duration": 6,
    "start_time": "2025-07-02T08:14:31.205Z"
   },
   {
    "duration": 162,
    "start_time": "2025-07-02T08:14:31.213Z"
   },
   {
    "duration": 15,
    "start_time": "2025-07-02T08:14:31.377Z"
   },
   {
    "duration": 397,
    "start_time": "2025-07-02T08:14:31.394Z"
   },
   {
    "duration": 10,
    "start_time": "2025-07-02T08:14:31.793Z"
   },
   {
    "duration": 107,
    "start_time": "2025-07-02T08:14:31.805Z"
   },
   {
    "duration": 6,
    "start_time": "2025-07-02T08:14:31.914Z"
   },
   {
    "duration": 28,
    "start_time": "2025-07-02T08:14:31.922Z"
   },
   {
    "duration": 589,
    "start_time": "2025-07-02T08:14:31.951Z"
   },
   {
    "duration": 129,
    "start_time": "2025-07-02T08:14:32.541Z"
   },
   {
    "duration": 4,
    "start_time": "2025-07-02T08:14:32.672Z"
   },
   {
    "duration": 296,
    "start_time": "2025-07-02T08:14:32.678Z"
   },
   {
    "duration": 571,
    "start_time": "2025-07-02T08:14:32.976Z"
   },
   {
    "duration": 361,
    "start_time": "2025-07-02T08:14:33.549Z"
   },
   {
    "duration": 181,
    "start_time": "2025-07-02T08:14:33.914Z"
   },
   {
    "duration": 5,
    "start_time": "2025-07-02T08:14:34.097Z"
   },
   {
    "duration": 12,
    "start_time": "2025-07-02T08:14:34.104Z"
   },
   {
    "duration": 326,
    "start_time": "2025-07-02T08:14:34.118Z"
   },
   {
    "duration": 6,
    "start_time": "2025-07-02T08:14:34.446Z"
   },
   {
    "duration": 5590,
    "start_time": "2025-07-02T08:14:34.454Z"
   },
   {
    "duration": 6,
    "start_time": "2025-07-02T08:14:40.046Z"
   },
   {
    "duration": 38,
    "start_time": "2025-07-02T08:14:40.054Z"
   },
   {
    "duration": 717,
    "start_time": "2025-07-02T08:14:40.095Z"
   },
   {
    "duration": 199,
    "start_time": "2025-07-02T08:14:40.814Z"
   },
   {
    "duration": 141,
    "start_time": "2025-07-02T08:14:41.015Z"
   },
   {
    "duration": 5,
    "start_time": "2025-07-02T08:14:41.158Z"
   },
   {
    "duration": 27,
    "start_time": "2025-07-02T08:14:41.165Z"
   },
   {
    "duration": 5,
    "start_time": "2025-07-02T08:14:41.194Z"
   },
   {
    "duration": 159,
    "start_time": "2025-07-02T08:14:41.201Z"
   },
   {
    "duration": 48,
    "start_time": "2025-07-02T08:14:41.362Z"
   },
   {
    "duration": 246,
    "start_time": "2025-07-02T08:14:41.412Z"
   },
   {
    "duration": 44,
    "start_time": "2025-07-02T08:14:41.660Z"
   },
   {
    "duration": 182,
    "start_time": "2025-07-02T08:14:41.706Z"
   },
   {
    "duration": 32,
    "start_time": "2025-07-02T08:14:41.890Z"
   },
   {
    "duration": 203,
    "start_time": "2025-07-02T08:14:41.923Z"
   },
   {
    "duration": 54,
    "start_time": "2025-07-02T08:14:42.128Z"
   },
   {
    "duration": 18,
    "start_time": "2025-07-02T08:14:42.184Z"
   },
   {
    "duration": 249,
    "start_time": "2025-07-02T08:14:42.204Z"
   },
   {
    "duration": 51,
    "start_time": "2025-07-02T08:14:42.454Z"
   },
   {
    "duration": 131,
    "start_time": "2025-07-02T08:14:42.507Z"
   },
   {
    "duration": 47,
    "start_time": "2025-07-02T08:14:42.640Z"
   },
   {
    "duration": 305,
    "start_time": "2025-07-02T08:14:42.688Z"
   },
   {
    "duration": 302,
    "start_time": "2025-07-02T08:14:42.994Z"
   },
   {
    "duration": 292,
    "start_time": "2025-07-02T08:14:43.298Z"
   },
   {
    "duration": 305,
    "start_time": "2025-07-02T08:14:43.592Z"
   },
   {
    "duration": 6,
    "start_time": "2025-07-02T08:14:43.899Z"
   },
   {
    "duration": 17,
    "start_time": "2025-07-02T08:14:43.906Z"
   },
   {
    "duration": 22,
    "start_time": "2025-07-02T08:14:43.925Z"
   },
   {
    "duration": 22,
    "start_time": "2025-07-02T08:14:43.949Z"
   },
   {
    "duration": 41,
    "start_time": "2025-07-02T08:14:43.973Z"
   },
   {
    "duration": 21,
    "start_time": "2025-07-02T08:14:44.016Z"
   },
   {
    "duration": 10,
    "start_time": "2025-07-02T08:14:44.039Z"
   },
   {
    "duration": 1903,
    "start_time": "2025-07-02T08:14:44.051Z"
   },
   {
    "duration": 1718,
    "start_time": "2025-07-02T08:14:45.956Z"
   },
   {
    "duration": 45,
    "start_time": "2025-07-02T08:14:47.676Z"
   },
   {
    "duration": 379,
    "start_time": "2025-07-02T08:14:47.723Z"
   },
   {
    "duration": 389,
    "start_time": "2025-07-02T08:14:48.104Z"
   },
   {
    "duration": 375,
    "start_time": "2025-07-02T08:14:48.495Z"
   },
   {
    "duration": 105,
    "start_time": "2025-07-02T08:14:48.872Z"
   },
   {
    "duration": 7,
    "start_time": "2025-07-02T08:14:48.978Z"
   },
   {
    "duration": 7,
    "start_time": "2025-07-02T08:14:48.986Z"
   },
   {
    "duration": 79,
    "start_time": "2025-07-02T08:14:48.994Z"
   },
   {
    "duration": 5,
    "start_time": "2025-07-02T08:14:49.075Z"
   },
   {
    "duration": 20,
    "start_time": "2025-07-02T08:14:49.081Z"
   },
   {
    "duration": 6,
    "start_time": "2025-07-02T08:14:49.103Z"
   },
   {
    "duration": 4,
    "start_time": "2025-07-02T08:20:56.986Z"
   },
   {
    "duration": 4,
    "start_time": "2025-07-02T08:21:11.614Z"
   },
   {
    "duration": 111,
    "start_time": "2025-07-02T08:22:25.043Z"
   },
   {
    "duration": 5,
    "start_time": "2025-07-02T08:22:36.257Z"
   },
   {
    "duration": 11,
    "start_time": "2025-07-02T08:22:50.598Z"
   },
   {
    "duration": 10,
    "start_time": "2025-07-02T08:23:07.667Z"
   },
   {
    "duration": 5,
    "start_time": "2025-07-02T08:23:22.560Z"
   },
   {
    "duration": 27,
    "start_time": "2025-07-02T08:25:44.817Z"
   },
   {
    "duration": 159,
    "start_time": "2025-07-02T08:35:03.726Z"
   },
   {
    "duration": 256,
    "start_time": "2025-07-02T08:35:24.281Z"
   },
   {
    "duration": 20,
    "start_time": "2025-07-02T08:36:57.092Z"
   },
   {
    "duration": 154,
    "start_time": "2025-07-02T08:37:01.863Z"
   },
   {
    "duration": 742,
    "start_time": "2025-07-02T08:45:02.689Z"
   },
   {
    "duration": 86,
    "start_time": "2025-07-02T08:48:34.878Z"
   },
   {
    "duration": 789,
    "start_time": "2025-07-02T08:48:42.789Z"
   },
   {
    "duration": 759,
    "start_time": "2025-07-02T08:49:52.808Z"
   },
   {
    "duration": 907,
    "start_time": "2025-07-02T08:50:00.320Z"
   },
   {
    "duration": 746,
    "start_time": "2025-07-02T08:50:06.650Z"
   },
   {
    "duration": 717,
    "start_time": "2025-07-02T08:50:12.924Z"
   },
   {
    "duration": 724,
    "start_time": "2025-07-02T08:50:19.405Z"
   },
   {
    "duration": 700,
    "start_time": "2025-07-02T08:50:28.695Z"
   },
   {
    "duration": 197,
    "start_time": "2025-07-02T08:54:51.189Z"
   },
   {
    "duration": 197,
    "start_time": "2025-07-02T08:55:21.663Z"
   },
   {
    "duration": 365,
    "start_time": "2025-07-02T08:56:52.260Z"
   },
   {
    "duration": 189,
    "start_time": "2025-07-02T08:56:59.492Z"
   },
   {
    "duration": 682,
    "start_time": "2025-07-02T08:57:13.161Z"
   },
   {
    "duration": 771,
    "start_time": "2025-07-02T08:57:19.669Z"
   },
   {
    "duration": 11962,
    "start_time": "2025-07-02T09:02:27.914Z"
   },
   {
    "duration": 101,
    "start_time": "2025-07-02T09:03:09.865Z"
   },
   {
    "duration": 147,
    "start_time": "2025-07-02T09:03:40.900Z"
   },
   {
    "duration": 17,
    "start_time": "2025-07-02T09:06:05.822Z"
   },
   {
    "duration": 34,
    "start_time": "2025-07-02T09:06:40.782Z"
   },
   {
    "duration": 8,
    "start_time": "2025-07-02T09:08:10.958Z"
   },
   {
    "duration": 5180,
    "start_time": "2025-07-02T09:10:44.734Z"
   },
   {
    "duration": 9,
    "start_time": "2025-07-02T09:12:35.083Z"
   },
   {
    "duration": 39,
    "start_time": "2025-07-02T09:41:52.844Z"
   },
   {
    "duration": 5,
    "start_time": "2025-07-02T09:41:59.034Z"
   },
   {
    "duration": 5,
    "start_time": "2025-07-02T09:42:16.732Z"
   },
   {
    "duration": 13,
    "start_time": "2025-07-02T09:42:34.251Z"
   },
   {
    "duration": 7,
    "start_time": "2025-07-02T09:45:02.632Z"
   },
   {
    "duration": 5,
    "start_time": "2025-07-02T09:47:06.427Z"
   },
   {
    "duration": 94,
    "start_time": "2025-07-02T09:48:14.578Z"
   },
   {
    "duration": 20,
    "start_time": "2025-07-02T09:51:35.631Z"
   },
   {
    "duration": 6,
    "start_time": "2025-07-02T09:51:36.826Z"
   },
   {
    "duration": 7,
    "start_time": "2025-07-02T09:51:38.908Z"
   },
   {
    "duration": 24,
    "start_time": "2025-07-02T09:51:42.256Z"
   },
   {
    "duration": 5,
    "start_time": "2025-07-02T09:52:38.155Z"
   },
   {
    "duration": 6469,
    "start_time": "2025-07-02T10:00:37.440Z"
   },
   {
    "duration": 1946,
    "start_time": "2025-07-02T10:00:43.912Z"
   },
   {
    "duration": 108,
    "start_time": "2025-07-02T10:00:45.860Z"
   },
   {
    "duration": 102,
    "start_time": "2025-07-02T10:00:45.970Z"
   },
   {
    "duration": 18,
    "start_time": "2025-07-02T10:00:46.074Z"
   },
   {
    "duration": 40,
    "start_time": "2025-07-02T10:00:46.093Z"
   },
   {
    "duration": 30,
    "start_time": "2025-07-02T10:00:46.137Z"
   },
   {
    "duration": 12,
    "start_time": "2025-07-02T10:00:46.169Z"
   },
   {
    "duration": 92,
    "start_time": "2025-07-02T10:00:46.183Z"
   },
   {
    "duration": 39,
    "start_time": "2025-07-02T10:00:46.277Z"
   },
   {
    "duration": 25,
    "start_time": "2025-07-02T10:00:46.318Z"
   },
   {
    "duration": 274,
    "start_time": "2025-07-02T10:00:46.345Z"
   },
   {
    "duration": 199,
    "start_time": "2025-07-02T10:00:46.621Z"
   },
   {
    "duration": 30,
    "start_time": "2025-07-02T10:00:46.823Z"
   },
   {
    "duration": 219,
    "start_time": "2025-07-02T10:00:46.855Z"
   },
   {
    "duration": 30,
    "start_time": "2025-07-02T10:00:47.076Z"
   },
   {
    "duration": 50,
    "start_time": "2025-07-02T10:00:47.108Z"
   },
   {
    "duration": 33,
    "start_time": "2025-07-02T10:00:47.159Z"
   },
   {
    "duration": 46,
    "start_time": "2025-07-02T10:00:47.193Z"
   },
   {
    "duration": 107,
    "start_time": "2025-07-02T10:00:47.240Z"
   },
   {
    "duration": 47,
    "start_time": "2025-07-02T10:00:47.348Z"
   },
   {
    "duration": 28,
    "start_time": "2025-07-02T10:00:47.397Z"
   },
   {
    "duration": 95,
    "start_time": "2025-07-02T10:00:47.426Z"
   },
   {
    "duration": 30,
    "start_time": "2025-07-02T10:00:47.523Z"
   },
   {
    "duration": 571,
    "start_time": "2025-07-02T10:00:47.554Z"
   },
   {
    "duration": 68,
    "start_time": "2025-07-02T10:00:48.128Z"
   },
   {
    "duration": 7,
    "start_time": "2025-07-02T10:00:48.198Z"
   },
   {
    "duration": 252,
    "start_time": "2025-07-02T10:00:48.207Z"
   },
   {
    "duration": 16,
    "start_time": "2025-07-02T10:00:48.461Z"
   },
   {
    "duration": 398,
    "start_time": "2025-07-02T10:00:48.479Z"
   },
   {
    "duration": 12,
    "start_time": "2025-07-02T10:00:48.878Z"
   },
   {
    "duration": 11,
    "start_time": "2025-07-02T10:00:48.892Z"
   },
   {
    "duration": 5,
    "start_time": "2025-07-02T10:00:48.905Z"
   },
   {
    "duration": 42,
    "start_time": "2025-07-02T10:00:48.912Z"
   },
   {
    "duration": 637,
    "start_time": "2025-07-02T10:00:48.955Z"
   },
   {
    "duration": 133,
    "start_time": "2025-07-02T10:00:49.593Z"
   },
   {
    "duration": 12,
    "start_time": "2025-07-02T10:00:49.727Z"
   },
   {
    "duration": 165,
    "start_time": "2025-07-02T10:00:49.741Z"
   },
   {
    "duration": 585,
    "start_time": "2025-07-02T10:00:49.908Z"
   },
   {
    "duration": 363,
    "start_time": "2025-07-02T10:00:50.495Z"
   },
   {
    "duration": 181,
    "start_time": "2025-07-02T10:00:50.863Z"
   },
   {
    "duration": 4,
    "start_time": "2025-07-02T10:00:51.046Z"
   },
   {
    "duration": 11,
    "start_time": "2025-07-02T10:00:51.052Z"
   },
   {
    "duration": 320,
    "start_time": "2025-07-02T10:00:51.065Z"
   },
   {
    "duration": 5,
    "start_time": "2025-07-02T10:00:51.386Z"
   },
   {
    "duration": 5503,
    "start_time": "2025-07-02T10:00:51.393Z"
   },
   {
    "duration": 4,
    "start_time": "2025-07-02T10:00:56.898Z"
   },
   {
    "duration": 48,
    "start_time": "2025-07-02T10:00:56.904Z"
   },
   {
    "duration": 708,
    "start_time": "2025-07-02T10:00:56.953Z"
   },
   {
    "duration": 191,
    "start_time": "2025-07-02T10:00:57.663Z"
   },
   {
    "duration": 136,
    "start_time": "2025-07-02T10:00:57.856Z"
   },
   {
    "duration": 4,
    "start_time": "2025-07-02T10:00:57.994Z"
   },
   {
    "duration": 63,
    "start_time": "2025-07-02T10:00:57.999Z"
   },
   {
    "duration": 64,
    "start_time": "2025-07-02T10:00:58.063Z"
   },
   {
    "duration": 52,
    "start_time": "2025-07-02T10:00:58.129Z"
   },
   {
    "duration": 131,
    "start_time": "2025-07-02T10:00:58.183Z"
   },
   {
    "duration": 152,
    "start_time": "2025-07-02T10:00:58.316Z"
   },
   {
    "duration": 51,
    "start_time": "2025-07-02T10:00:58.470Z"
   },
   {
    "duration": 248,
    "start_time": "2025-07-02T10:00:58.523Z"
   },
   {
    "duration": 46,
    "start_time": "2025-07-02T10:00:58.773Z"
   },
   {
    "duration": 193,
    "start_time": "2025-07-02T10:00:58.821Z"
   },
   {
    "duration": 42,
    "start_time": "2025-07-02T10:00:59.016Z"
   },
   {
    "duration": 209,
    "start_time": "2025-07-02T10:00:59.060Z"
   },
   {
    "duration": 51,
    "start_time": "2025-07-02T10:00:59.271Z"
   },
   {
    "duration": 51,
    "start_time": "2025-07-02T10:00:59.336Z"
   },
   {
    "duration": 156,
    "start_time": "2025-07-02T10:00:59.388Z"
   },
   {
    "duration": 50,
    "start_time": "2025-07-02T10:00:59.546Z"
   },
   {
    "duration": 127,
    "start_time": "2025-07-02T10:00:59.598Z"
   },
   {
    "duration": 61,
    "start_time": "2025-07-02T10:00:59.727Z"
   },
   {
    "duration": 1500,
    "start_time": "2025-07-02T10:00:59.790Z"
   },
   {
    "duration": 6,
    "start_time": "2025-07-02T10:01:01.292Z"
   },
   {
    "duration": 85,
    "start_time": "2025-07-02T10:01:01.300Z"
   },
   {
    "duration": 101,
    "start_time": "2025-07-02T10:01:01.386Z"
   },
   {
    "duration": 100,
    "start_time": "2025-07-02T10:01:01.488Z"
   },
   {
    "duration": 112,
    "start_time": "2025-07-02T10:01:01.590Z"
   },
   {
    "duration": 11,
    "start_time": "2025-07-02T10:01:01.704Z"
   },
   {
    "duration": 33,
    "start_time": "2025-07-02T10:01:01.716Z"
   },
   {
    "duration": 245,
    "start_time": "2025-07-02T10:01:01.751Z"
   },
   {
    "duration": 207,
    "start_time": "2025-07-02T10:01:01.998Z"
   },
   {
    "duration": 51,
    "start_time": "2025-07-02T10:01:02.206Z"
   },
   {
    "duration": 481,
    "start_time": "2025-07-02T10:01:02.259Z"
   },
   {
    "duration": 385,
    "start_time": "2025-07-02T10:01:02.742Z"
   },
   {
    "duration": 390,
    "start_time": "2025-07-02T10:01:03.137Z"
   },
   {
    "duration": 164,
    "start_time": "2025-07-02T10:01:03.529Z"
   },
   {
    "duration": 15,
    "start_time": "2025-07-02T10:01:03.695Z"
   },
   {
    "duration": 50,
    "start_time": "2025-07-02T10:01:03.712Z"
   },
   {
    "duration": 12,
    "start_time": "2025-07-02T10:01:03.764Z"
   },
   {
    "duration": 15,
    "start_time": "2025-07-02T10:01:03.777Z"
   },
   {
    "duration": 19,
    "start_time": "2025-07-02T10:01:03.793Z"
   },
   {
    "duration": 4,
    "start_time": "2025-07-02T10:01:03.814Z"
   },
   {
    "duration": 25,
    "start_time": "2025-07-02T10:01:03.819Z"
   },
   {
    "duration": 24,
    "start_time": "2025-07-02T10:01:03.846Z"
   },
   {
    "duration": 11,
    "start_time": "2025-07-02T10:01:03.872Z"
   }
  ],
  "colab": {
   "provenance": []
  },
  "kernelspec": {
   "display_name": "Python 3 (ipykernel)",
   "language": "python",
   "name": "python3"
  },
  "language_info": {
   "codemirror_mode": {
    "name": "ipython",
    "version": 3
   },
   "file_extension": ".py",
   "mimetype": "text/x-python",
   "name": "python",
   "nbconvert_exporter": "python",
   "pygments_lexer": "ipython3",
   "version": "3.9.23"
  },
  "toc": {
   "base_numbering": 1,
   "nav_menu": {},
   "number_sections": true,
   "sideBar": true,
   "skip_h1_title": true,
   "title_cell": "Table of Contents",
   "title_sidebar": "Contents",
   "toc_cell": false,
   "toc_position": {},
   "toc_section_display": true,
   "toc_window_display": false
  }
 },
 "nbformat": 4,
 "nbformat_minor": 4
}
